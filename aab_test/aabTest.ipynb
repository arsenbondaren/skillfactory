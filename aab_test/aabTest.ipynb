{
 "cells": [
  {
   "cell_type": "code",
   "execution_count": 1,
   "id": "c0bed5a2",
   "metadata": {},
   "outputs": [],
   "source": [
    "import pandas as pd\n",
    "import numpy as np"
   ]
  },
  {
   "cell_type": "markdown",
   "id": "54b1ba50",
   "metadata": {},
   "source": [
    "# Загрузка и проверка чистоты данных"
   ]
  },
  {
   "cell_type": "markdown",
   "id": "d0bbfe88",
   "metadata": {},
   "source": [
    "Загружаем данные. Для удобства понимания группу \"C\" везде будем называть второй А-группой, ведь по смыслу она таковой и является "
   ]
  },
  {
   "cell_type": "code",
   "execution_count": 2,
   "id": "36afaf2f",
   "metadata": {},
   "outputs": [],
   "source": [
    "first_a = pd.read_csv('sample_a.csv')\n",
    "second_a = pd.read_csv('sample_c.csv')\n",
    "b = pd.read_csv('sample_b.csv')\n",
    "prices = pd.read_csv('item_prices.csv')"
   ]
  },
  {
   "cell_type": "code",
   "execution_count": 3,
   "id": "b6c561f8",
   "metadata": {},
   "outputs": [
    {
     "data": {
      "text/html": [
       "<div>\n",
       "<style scoped>\n",
       "    .dataframe tbody tr th:only-of-type {\n",
       "        vertical-align: middle;\n",
       "    }\n",
       "\n",
       "    .dataframe tbody tr th {\n",
       "        vertical-align: top;\n",
       "    }\n",
       "\n",
       "    .dataframe thead th {\n",
       "        text-align: right;\n",
       "    }\n",
       "</style>\n",
       "<table border=\"1\" class=\"dataframe\">\n",
       "  <thead>\n",
       "    <tr style=\"text-align: right;\">\n",
       "      <th></th>\n",
       "      <th>user_id</th>\n",
       "      <th>item_id</th>\n",
       "      <th>action_id</th>\n",
       "    </tr>\n",
       "  </thead>\n",
       "  <tbody>\n",
       "    <tr>\n",
       "      <th>0</th>\n",
       "      <td>84636</td>\n",
       "      <td>360</td>\n",
       "      <td>1</td>\n",
       "    </tr>\n",
       "    <tr>\n",
       "      <th>1</th>\n",
       "      <td>21217</td>\n",
       "      <td>9635</td>\n",
       "      <td>1</td>\n",
       "    </tr>\n",
       "    <tr>\n",
       "      <th>2</th>\n",
       "      <td>13445</td>\n",
       "      <td>8590</td>\n",
       "      <td>1</td>\n",
       "    </tr>\n",
       "    <tr>\n",
       "      <th>3</th>\n",
       "      <td>38450</td>\n",
       "      <td>5585</td>\n",
       "      <td>1</td>\n",
       "    </tr>\n",
       "    <tr>\n",
       "      <th>4</th>\n",
       "      <td>14160</td>\n",
       "      <td>2383</td>\n",
       "      <td>0</td>\n",
       "    </tr>\n",
       "  </tbody>\n",
       "</table>\n",
       "</div>"
      ],
      "text/plain": [
       "   user_id  item_id  action_id\n",
       "0    84636      360          1\n",
       "1    21217     9635          1\n",
       "2    13445     8590          1\n",
       "3    38450     5585          1\n",
       "4    14160     2383          0"
      ]
     },
     "execution_count": 3,
     "metadata": {},
     "output_type": "execute_result"
    }
   ],
   "source": [
    "first_a.head(5)"
   ]
  },
  {
   "cell_type": "markdown",
   "id": "ea77d079",
   "metadata": {},
   "source": [
    "Удалим дубликаты, если они есть"
   ]
  },
  {
   "cell_type": "code",
   "execution_count": 114,
   "id": "d2a1d1a1",
   "metadata": {},
   "outputs": [],
   "source": [
    "first_a.drop_duplicates(inplace=True)\n",
    "second_a.drop_duplicates(inplace=True)\n",
    "b.drop_duplicates(inplace=True)"
   ]
  },
  {
   "cell_type": "markdown",
   "id": "d3029e55",
   "metadata": {},
   "source": [
    "Проверим симметрично ли разделены пользователи по группам"
   ]
  },
  {
   "cell_type": "code",
   "execution_count": 407,
   "id": "a540319a",
   "metadata": {},
   "outputs": [
    {
     "name": "stdout",
     "output_type": "stream",
     "text": [
      "A-1 users count: 996\n",
      "A-2 users count: 994\n",
      "B users count: 996\n"
     ]
    }
   ],
   "source": [
    "print('A-1 users count:', first_a.user_id.nunique())\n",
    "print('A-2 users count:', second_a.user_id.nunique())\n",
    "print('B users count:', b.user_id.nunique())"
   ]
  },
  {
   "cell_type": "markdown",
   "id": "3985fffd",
   "metadata": {},
   "source": [
    "Достаточно симметрично"
   ]
  },
  {
   "cell_type": "markdown",
   "id": "2928492c",
   "metadata": {},
   "source": [
    "Посмотрим не пересекаются ли пользователи в разных группах"
   ]
  },
  {
   "cell_type": "code",
   "execution_count": 69,
   "id": "0f74d563",
   "metadata": {},
   "outputs": [],
   "source": [
    "#check for same users in different groups\n",
    "set_first = set(first_a['user_id'].values)\n",
    "set_second = set(second_a['user_id'].values)\n",
    "set_b = set(b['user_id'].values)\n",
    "for i in set_first:\n",
    "    if i in (set_second | set_b):\n",
    "        print(i)"
   ]
  },
  {
   "cell_type": "markdown",
   "id": "68f26da5",
   "metadata": {},
   "source": [
    "Пользователи не повторяются в разных группах."
   ]
  },
  {
   "cell_type": "markdown",
   "id": "842f35dd",
   "metadata": {},
   "source": [
    "Проверим нет ли кликов без просмотра, и покупок без просмотра"
   ]
  },
  {
   "cell_type": "code",
   "execution_count": 159,
   "id": "af36a2c2",
   "metadata": {},
   "outputs": [
    {
     "name": "stdout",
     "output_type": "stream",
     "text": [
      "first_A_grouped:  action_id\n",
      "1            903574\n",
      "3             47556\n",
      "dtype: int64\n",
      "second_A_grouped:  action_id\n",
      "1            892268\n",
      "3             56953\n",
      "dtype: int64\n",
      "B_grouped:  action_id\n",
      "1            856027\n",
      "3             95114\n",
      "dtype: int64\n"
     ]
    }
   ],
   "source": [
    "grouped_first = first_a.groupby(by=['user_id', 'item_id']).sum()\n",
    "print('first_A_grouped: ', grouped_first.value_counts())\n",
    "grouped_second = second_a.groupby(by=['user_id', 'item_id']).sum()\n",
    "print('second_A_grouped: ', grouped_second.value_counts())\n",
    "grouped_b = b.groupby(by=['user_id', 'item_id']).sum()\n",
    "print('B_grouped: ', grouped_b.value_counts())"
   ]
  },
  {
   "cell_type": "markdown",
   "id": "97d70718",
   "metadata": {},
   "source": [
    "Нет нулей и двоек, значит нет кликов/продаж без просмотров.\n",
    "\n",
    "No zeros and twos. It means that there are no clicks without views, and purchases without views."
   ]
  },
  {
   "cell_type": "markdown",
   "id": "b9bb1e3d",
   "metadata": {},
   "source": [
    "# Анализ метрик \"CTR\", \"Purchase rate\""
   ]
  },
  {
   "cell_type": "markdown",
   "id": "795a9f52",
   "metadata": {},
   "source": [
    "Посчитаем 'ctr' и 'purchase rate' для каждой группы"
   ]
  },
  {
   "cell_type": "code",
   "execution_count": 4,
   "id": "4a3a0785",
   "metadata": {},
   "outputs": [
    {
     "data": {
      "text/plain": [
       "1    951130\n",
       "0    190226\n",
       "2     47556\n",
       "Name: action_id, dtype: int64"
      ]
     },
     "execution_count": 4,
     "metadata": {},
     "output_type": "execute_result"
    }
   ],
   "source": [
    "first_a['action_id'].value_counts()"
   ]
  },
  {
   "cell_type": "code",
   "execution_count": 408,
   "id": "39d381e5",
   "metadata": {},
   "outputs": [
    {
     "name": "stdout",
     "output_type": "stream",
     "text": [
      "A1_ctr = 0.2\n",
      "A2_ctr = 0.20999956806686745\n",
      "b_ctr = 0.16000046260228504\n",
      "A1_purchase = 0.049999474309505534\n",
      "A2_purchase = 0.059999726091184244\n",
      "b_purchase = 0.09999989486311704\n"
     ]
    }
   ],
   "source": [
    "first_counts = first_a['action_id'].value_counts()\n",
    "first_ctr = first_counts[0]/first_counts[1]\n",
    "first_purchase = first_counts[2]/first_counts[1]\n",
    "second_counts = second_a['action_id'].value_counts()\n",
    "second_ctr = second_counts[0]/second_counts[1]\n",
    "second_purchase = second_counts[2]/second_counts[1]\n",
    "b_counts = b['action_id'].value_counts()\n",
    "b_ctr = b_counts[0]/b_counts[1]\n",
    "b_purchase = b_counts[2]/b_counts[1]\n",
    "print(f'A1_ctr = {first_ctr}')\n",
    "print(f'A2_ctr = {second_ctr}')\n",
    "print(f'b_ctr = {b_ctr}')\n",
    "print(f'A1_purchase = {first_purchase}')\n",
    "print(f'A2_purchase = {second_purchase}')\n",
    "print(f'b_purchase = {b_purchase}')"
   ]
  },
  {
   "cell_type": "markdown",
   "id": "239b95f9",
   "metadata": {},
   "source": [
    "В группе \"В\" метрика ctr ниже обеих групп \"А\" (примерно на 5%). Однако purchase rate в группе \"В\" выше примерно в 2 раза по сравнению с группами \"А\". При этом обе метрики в двух \"А\" группах отличаются примерно на 1%. В нашем случае это может быть значимо, т.к. количество наблюдений достаточно высокое."
   ]
  },
  {
   "cell_type": "markdown",
   "id": "3a22db14",
   "metadata": {},
   "source": [
    "Проверим количество товаров в среднем показанных каждой группе"
   ]
  },
  {
   "cell_type": "code",
   "execution_count": 418,
   "id": "e56a4309",
   "metadata": {},
   "outputs": [
    {
     "name": "stdout",
     "output_type": "stream",
     "text": [
      "Среднее кол-во показаных товаров на пользователя в гр. А1: 954.9497991967871\n",
      "Среднее кол-во показаных товаров на пользователя в гр. А2: 954.9507042253521\n",
      "Среднее кол-во показаных товаров на пользователя в гр. В: 954.960843373494\n"
     ]
    }
   ],
   "source": [
    "grouped_views_a1 = first_a[first_a['action_id']==1].groupby(by='user_id')['item_id'].count()\n",
    "grouped_views_a2 = second_a[second_a['action_id']==1].groupby(by='user_id')['item_id'].count()\n",
    "grouped_views_b = b[b['action_id']==1].groupby(by='user_id')['item_id'].count()\n",
    "print('Среднее кол-во показаных товаров на пользователя в гр. А1:',grouped_views_a1.mean())\n",
    "print('Среднее кол-во показаных товаров на пользователя в гр. А2:',grouped_views_a2.mean())\n",
    "print('Среднее кол-во показаных товаров на пользователя в гр. В:',grouped_views_b.mean())"
   ]
  },
  {
   "cell_type": "markdown",
   "id": "f7ee5d65",
   "metadata": {},
   "source": [
    "Видим, что распределение показов товаров для каждой группы одинаково. Получается, что на метрики \"А\" групп влияние оказывает только метод отбора пользователей. "
   ]
  },
  {
   "cell_type": "markdown",
   "id": "77368966",
   "metadata": {},
   "source": [
    "Выполним статистический тест, для сравнения двух \"А\" групп"
   ]
  },
  {
   "cell_type": "code",
   "execution_count": 446,
   "id": "625bc30a",
   "metadata": {},
   "outputs": [
    {
     "name": "stdout",
     "output_type": "stream",
     "text": [
      "t-stat: -3.336163638995584\n",
      "p-value: 0.0008494314889001632\n"
     ]
    }
   ],
   "source": [
    "from statsmodels.stats.weightstats import ztest\n",
    "\n",
    "tstat, pvalue = ztest(first_a['action_id'], second_a['action_id'])\n",
    "print('t-stat:', tstat)\n",
    "print('p-value:', pvalue)"
   ]
  },
  {
   "cell_type": "markdown",
   "id": "f189c98d",
   "metadata": {},
   "source": [
    "P-value меньше 0.01, таким образом с большой долей вероятности можно сказать что две группы \"А\" взяты из разных распределений (отобраны не совсем корректно)."
   ]
  },
  {
   "cell_type": "markdown",
   "id": "bcfdab0a",
   "metadata": {},
   "source": [
    "# Метрика \"GMV\""
   ]
  },
  {
   "cell_type": "markdown",
   "id": "afe33b26",
   "metadata": {},
   "source": [
    "Оценим продажи по группам в абсолютных величинах"
   ]
  },
  {
   "cell_type": "code",
   "execution_count": 404,
   "id": "41e964e1",
   "metadata": {},
   "outputs": [
    {
     "name": "stdout",
     "output_type": "stream",
     "text": [
      "Количество совершенных покупок в группе А-1: 47556\n",
      "Количество совершенных покупок в группе А-2: 56953\n",
      "Количество совершенных покупок в группе B: 95114\n"
     ]
    }
   ],
   "source": [
    "print('Количество совершенных покупок в группе А-1:',first_a[first_a['action_id']==2]['item_id'].count())\n",
    "print('Количество совершенных покупок в группе А-2:',second_a[second_a['action_id']==2]['item_id'].count())\n",
    "print('Количество совершенных покупок в группе B:',b[b['action_id']==2]['item_id'].count())"
   ]
  },
  {
   "cell_type": "markdown",
   "id": "2182c8de",
   "metadata": {},
   "source": [
    "При первом взгляде на продажи, даже без учета цен, заметна существенная разница между группами по количеству продаж. Между двумя \"А\"-группами разница составляет около 20%. Группа \"В\" же больше первой группы \"А\" в два раза, и на 80% больше второй \"А\" группы."
   ]
  },
  {
   "cell_type": "markdown",
   "id": "482c16b9",
   "metadata": {},
   "source": [
    "Добавим теперь в датасет каждой группы цену товара и сравним результат в денежном выражении"
   ]
  },
  {
   "cell_type": "code",
   "execution_count": 356,
   "id": "54b09b52",
   "metadata": {},
   "outputs": [],
   "source": [
    "pairs = prices.apply(lambda x: [x['item_id'], x['item_price']], axis=1)\n",
    "\n",
    "prices_dict = {}\n",
    "for i in pairs:\n",
    "    prices_dict[i[0]] = i[1]\n",
    "    \n",
    "first_a['price'] = first_a['item_id'].apply(lambda x: prices_dict[x])\n",
    "second_a['price'] = second_a['item_id'].apply(lambda x: prices_dict[x])\n",
    "b['price'] = b['item_id'].apply(lambda x: prices_dict[x])"
   ]
  },
  {
   "cell_type": "markdown",
   "id": "9eb5ce46",
   "metadata": {},
   "source": [
    "Посчитаем метрику gmv для каждой группы"
   ]
  },
  {
   "cell_type": "code",
   "execution_count": 344,
   "id": "996c228d",
   "metadata": {},
   "outputs": [],
   "source": [
    "gmv_a1 = first_a[first_a['action_id']==2].groupby(by='user_id')['price'].sum()\n",
    "gmv_a2 = second_a[second_a['action_id']==2].groupby(by='user_id')['price'].sum()\n",
    "gmv_b = b[b['action_id']==2].groupby(by='user_id')['price'].sum()"
   ]
  },
  {
   "cell_type": "markdown",
   "id": "09d0410c",
   "metadata": {},
   "source": [
    "Посмотрим на графике как распределены покупки пользователей в каждой группе"
   ]
  },
  {
   "cell_type": "code",
   "execution_count": 449,
   "id": "9d7d7ba0",
   "metadata": {},
   "outputs": [
    {
     "data": {
      "text/plain": [
       "<AxesSubplot:ylabel='Frequency'>"
      ]
     },
     "execution_count": 449,
     "metadata": {},
     "output_type": "execute_result"
    },
    {
     "data": {
      "image/png": "[encoded data removed]",
      "text/plain": [
       "<Figure size 432x288 with 1 Axes>"
      ]
     },
     "metadata": {
      "needs_background": "light"
     },
     "output_type": "display_data"
    }
   ],
   "source": [
    "gmv_a1.plot(kind='hist')"
   ]
  },
  {
   "cell_type": "code",
   "execution_count": 450,
   "id": "2b1262ec",
   "metadata": {},
   "outputs": [
    {
     "data": {
      "text/plain": [
       "<AxesSubplot:ylabel='Frequency'>"
      ]
     },
     "execution_count": 450,
     "metadata": {},
     "output_type": "execute_result"
    },
    {
     "data": {
      "image/png": "[encoded data removed]",
      "text/plain": [
       "<Figure size 432x288 with 1 Axes>"
      ]
     },
     "metadata": {
      "needs_background": "light"
     },
     "output_type": "display_data"
    }
   ],
   "source": [
    "gmv_a2.plot(kind='hist')"
   ]
  },
  {
   "cell_type": "code",
   "execution_count": 387,
   "id": "0cbbd571",
   "metadata": {},
   "outputs": [
    {
     "data": {
      "text/plain": [
       "<AxesSubplot:ylabel='Frequency'>"
      ]
     },
     "execution_count": 387,
     "metadata": {},
     "output_type": "execute_result"
    },
    {
     "data": {
      "image/png": "[encoded data removed]",
      "text/plain": [
       "<Figure size 432x288 with 1 Axes>"
      ]
     },
     "metadata": {
      "needs_background": "light"
     },
     "output_type": "display_data"
    }
   ],
   "source": [
    "gmv_b.plot(kind='hist')"
   ]
  },
  {
   "cell_type": "markdown",
   "id": "f93ebec2",
   "metadata": {},
   "source": [
    "Видим что в ценовом выражении данные из каждой группы также заметно отличаются. Средний чек в группе \"А-2\" на 10 000 больше чем в группе \"А-1\". В группе \"В\" при этом средний чек в 2 раза больше чем в \"А-1\".\n",
    "Во всех группах данные визуально распределены нормально, возможно только в группе \"А-2\" есть небольшой правый хвост. Проверим гипотезу о нормальности распределения тестом Шапиро-Уилка, при уровне значимости p-value=0.01"
   ]
  },
  {
   "cell_type": "code",
   "execution_count": 459,
   "id": "ca4ee93a",
   "metadata": {},
   "outputs": [
    {
     "name": "stdout",
     "output_type": "stream",
     "text": [
      "A-1 group, test Shapiro p-value = 0.04304099082946777\n",
      "A-2 group, test Shapiro p-value = 0.005459895357489586\n",
      "B group, test Shapiro p-value = 0.6805786490440369\n"
     ]
    }
   ],
   "source": [
    "from scipy.stats import shapiro\n",
    "\n",
    "print('A-1 group, test Shapiro p-value =',shapiro(gmv_a1)[1])\n",
    "print('A-2 group, test Shapiro p-value =',shapiro(gmv_a2)[1])\n",
    "print('B group, test Shapiro p-value =',shapiro(gmv_b)[1])"
   ]
  },
  {
   "cell_type": "markdown",
   "id": "71588026",
   "metadata": {},
   "source": [
    " Для группы \"А-2\" гипотеза о нормальности распределения данных отвергается, т.к. p-value < 0.01, впрочем мы так и предполагали судя по правому хвосту на графике.\n",
    " Попробуем нормализовать эти данные взяв квадратный корень"
   ]
  },
  {
   "cell_type": "code",
   "execution_count": 462,
   "id": "25b5338e",
   "metadata": {},
   "outputs": [
    {
     "name": "stdout",
     "output_type": "stream",
     "text": [
      "square-root A-2 group, test Shapiro p-value = 0.4086432456970215\n"
     ]
    },
    {
     "data": {
      "text/plain": [
       "<AxesSubplot:ylabel='Frequency'>"
      ]
     },
     "execution_count": 462,
     "metadata": {},
     "output_type": "execute_result"
    },
    {
     "data": {
      "image/png": "[encoded data removed]",
      "text/plain": [
       "<Figure size 432x288 with 1 Axes>"
      ]
     },
     "metadata": {
      "needs_background": "light"
     },
     "output_type": "display_data"
    }
   ],
   "source": [
    "print('square-root A-2 group, test Shapiro p-value =',shapiro(np.sqrt(gmv_a2))[1])\n",
    "np.sqrt(gmv_a2).plot(kind='hist')"
   ]
  },
  {
   "cell_type": "markdown",
   "id": "7593eff4",
   "metadata": {},
   "source": [
    "Теперь данные соответствуют характеристике нормального распределения. Можем сравнить их с другой \"А\" группой, а также с тестовой группой, хотя и без статистического теста заметно что группа \"В\" значительно отличается от двух \"А\"-групп.  "
   ]
  },
  {
   "cell_type": "markdown",
   "id": "f6eb64b7",
   "metadata": {},
   "source": [
    "Сравнивать будем корни значений групп"
   ]
  },
  {
   "cell_type": "code",
   "execution_count": 467,
   "id": "54ffa847",
   "metadata": {},
   "outputs": [
    {
     "name": "stdout",
     "output_type": "stream",
     "text": [
      "p-value для двух А групп: 4.62982143106317e-153\n",
      "p-value при сравнении А-1 и В группы: 0.0\n",
      "p-value при сравнении А-2 и В группы: 0.0\n"
     ]
    }
   ],
   "source": [
    "AA_test = ztest(np.sqrt(gmv_a1), np.sqrt(gmv_a2))\n",
    "AB_test = ztest(np.sqrt(gmv_a1), np.sqrt(gmv_b))\n",
    "BA_test = ztest(np.sqrt(gmv_b), np.sqrt(gmv_a2))\n",
    "print('p-value для двух А групп:', AA_test[1])\n",
    "print('p-value при сравнении А-1 и В группы:', AB_test[1])\n",
    "print('p-value при сравнении А-2 и В группы:', BA_test[1])"
   ]
  },
  {
   "cell_type": "markdown",
   "id": "b018afee",
   "metadata": {},
   "source": [
    "Как видно из статистического теста, данные во всех группах получены из разных распределений, p-value везде значительно ниже 0.05, что подтверждает предположение о неправильном разбиении \"А\"-групп."
   ]
  },
  {
   "cell_type": "markdown",
   "id": "e9d4426f",
   "metadata": {},
   "source": [
    "В конце сравним суммарный оборот каждой группы"
   ]
  },
  {
   "cell_type": "code",
   "execution_count": 476,
   "id": "6b410c7f",
   "metadata": {},
   "outputs": [
    {
     "name": "stdout",
     "output_type": "stream",
     "text": [
      "выручка A-1 группы: 51183991\n",
      "выручка A-2 группы: 61236564\n",
      "выручка В группы: 102261317\n"
     ]
    }
   ],
   "source": [
    "print('выручка A-1 группы:',gmv_a1.sum())\n",
    "print('выручка A-2 группы:',gmv_a2.sum())\n",
    "print('выручка В группы:',gmv_b.sum())"
   ]
  },
  {
   "cell_type": "markdown",
   "id": "dfd5329a",
   "metadata": {},
   "source": [
    "Общая выручка по группам отличается в таком же соотношении как средний чек в каждой группе. Группа \"В\" заметно более прибыльная."
   ]
  },
  {
   "cell_type": "markdown",
   "id": "44927b70",
   "metadata": {},
   "source": [
    "# Вывод\n",
    "\n",
    "После анализа данных, полученных после проведения А/А/В теста, замечено, что тестовая группа \"В\" заметно превосходит группы \"А\" по показателям прибыльности. Для бизнеса, изменения которые тестировались на группе \"В\", явно пойдут на пользу, если только целью изменений не было увеличения количества кликов на товар. Так, выручка и средний чек в группе \"В\" приблизительно в 2 раза выше этих показателей групп \"A\". \n",
    "\n",
    "Однако при анализе обнаружилось, что средние показатели данных в двух \"А\" группах имеют статистически значимые отличия, такого быть не должно. Это свидетельствует о некорректной работе алгоритма распределения пользователей по группам и требует его настройки либо замены.\n",
    "\n",
    "При этом результат теста я бы всё равно считал положительным, т.к. группа \"В\" имеет значительное преимущество над обеими \"А\" группами, гораздо большее чем эти группы различаются между собой вследствие их неверного распределения."
   ]
  },
  {
   "cell_type": "code",
   "execution_count": null,
   "id": "e28be5da",
   "metadata": {},
   "outputs": [],
   "source": []
  }
 ],
 "metadata": {
  "kernelspec": {
   "display_name": "Python 3 (ipykernel)",
   "language": "python",
   "name": "python3"
  },
  "language_info": {
   "codemirror_mode": {
    "name": "ipython",
    "version": 3
   },
   "file_extension": ".py",
   "mimetype": "text/x-python",
   "name": "python",
   "nbconvert_exporter": "python",
   "pygments_lexer": "ipython3",
   "version": "3.10.6"
  }
 },
 "nbformat": 4,
 "nbformat_minor": 5
}
