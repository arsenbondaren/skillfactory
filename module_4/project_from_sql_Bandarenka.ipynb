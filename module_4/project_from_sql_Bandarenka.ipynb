{
 "cells": [
  {
   "cell_type": "code",
   "execution_count": 92,
   "metadata": {},
   "outputs": [],
   "source": [
    "import pandas as pd\n",
    "import numpy as np\n",
    "import math\n",
    "import matplotlib.pyplot as plt\n",
    "from datetime import datetime, timedelta\n",
    "%matplotlib inline\n",
    "pd.set_option('display.max_columns', 50)"
   ]
  },
  {
   "cell_type": "markdown",
   "metadata": {},
   "source": [
    "# Дополнительные данные, которые отсутсвовали в базе\n",
    "## Расход топлива\n",
    "Для оценки расхода топлива в пассажирских самолетах приоритетным показателем является грамм/пасс-км, т.к. позволяет точнее рассчитать расход в зависимости от кол-ва пассажиров. Однако такой показатель есть не для каждого самолета, поэтому другим, более универсальным, является показатель кг/час. Он показывает сколько кг топлива расходует самолет на крейсерской скорости в час, является менее точным т.к. не учитывает загруженность самолета, однако представлен в характеристике каждого для каждого судна. \n",
    "В наших данных при перевозках используются две модели самолетов: boeing и sukhoi. Для боинга есть все данные по расходу топлива, а для российской модели только расход кг/час. Таким образом я принял решение посчитать для боинга расход по 2 показателям для каждого рейса и взять среднее, а для \"сухого\" только по кг/час.\n",
    "## Цена топлива\n",
    "Цены на авиатопливо отличаются в зависимости от региона и аэропорта. Данные получены на сайте росавиации по состоянию на февраль 2017 года для аэропорта Анапы. 2017 год взят т.к. анализируются рейсы 2017 года."
   ]
  },
  {
   "cell_type": "code",
   "execution_count": 93,
   "metadata": {},
   "outputs": [],
   "source": [
    "fuel_per_pas = {'boeing': 26, 'sukhoi': None} # gramm per passenger per 1 km\n",
    "fuel_per_hour = {'boeing': 2.4, 'sukhoi': 1.7} # ton per hour\n",
    "fuel_price = 49700 # Цена за тонну топлива в аэропорту Анапы в 2017г"
   ]
  },
  {
   "cell_type": "markdown",
   "metadata": {},
   "source": [
    "# Рассчет дополнительных показателей \n",
    "## Длина перелёта\n",
    "Для рассчета длины перелёта применяется функция, принимающая данные широты и долготы двух точек,и учитывает радиус земли. Найдена при помощи гугл.\n",
    "## Стоимость топлива на перелёт\n",
    "На определенный рейс, заправляя самолет учитывают:\n",
    "1. Топливо необходимое для преодоления расстояния до аэропорта назначении. \n",
    "2. Топливо для полета от аэропорта назначение до запасного аэродрома.\n",
    "3. Горючее для ожидания посадки в течение 30 минут на малой высоте.\n",
    "4. Надбавка 5% на непредвиденные обстоятельства.\n",
    "На основании этих данных принято решение, в функции для рассчёта стоимости топлива на рейс, к количеству топлива необходимого непосредственно на перелёт из одного аэропорта в другой, прибавлять еще 15% на все остальные случаи.\n",
    "В процессе исследования данных было обнаружено, что по перелётам в Новокузнецк отсутсвуют данные о проданных билетах. Таким образом для полетов в Новокузнецк стоимость рассчитывается по показателю \"кг/час\".\n",
    "Для других рейсов на судне \"боинг\" стоимость рассчитывется по двум показателям (\"кг/час\", \"гр/пасс-км\") и берется среднее, как говорилось выше. \n",
    "Для рейсов на российском судне \"суперджет сухой\" стоимость рассчитывалась только по показателю \"кг/час\"."
   ]
  },
  {
   "cell_type": "code",
   "execution_count": 134,
   "metadata": {},
   "outputs": [],
   "source": [
    "def distanceBetweenKm(lat1, lon1, lat2, lon2):\n",
    "    dLat = math.radians(lat2-lat1)\n",
    "    dLon = math.radians(lon2-lon1)\n",
    "\n",
    "    lat1 = math.radians(lat1)\n",
    "    lat2 = math.radians(lat2)\n",
    "\n",
    "    a = math.sin(dLat/2)**2 + math.sin(dLon/2)**2 * math.cos(lat1) * math.cos(lat2)\n",
    "    c = 2 * math.atan2(math.sqrt(a), math.sqrt(1-a))\n",
    "    return round(c * 6371, 0)  #multiply by 100k to get distance in cm\n",
    "\n",
    "def count_costs_flight(x):\n",
    "    if x['aircraft_code']=='733':\n",
    "        if x['arrival_airport']=='NOZ':\n",
    "            n = (fuel_per_hour['boeing']/60) * x['flight_lasts_min'] * fuel_price\n",
    "            return round(n*1.15, 0)\n",
    "        p = (x['economy_sold']+x['business_sold']) * x['flight_distance'] * fuel_per_pas['boeing']/1000000 * fuel_price\n",
    "        h = (fuel_per_hour['boeing']/60) * x['flight_lasts_min'] * fuel_price\n",
    "        return round(((p + h)/2)*1.15, 0)\n",
    "    if x['aircraft_code']=='SU9':\n",
    "        s = (fuel_per_hour['sukhoi']/60) * x['flight_lasts_min'] * fuel_price\n",
    "        return round(s*1.15, 0)"
   ]
  },
  {
   "cell_type": "code",
   "execution_count": 135,
   "metadata": {},
   "outputs": [],
   "source": [
    "df = pd.read_csv('airlines_anapa.csv')"
   ]
  },
  {
   "cell_type": "code",
   "execution_count": 136,
   "metadata": {},
   "outputs": [
    {
     "data": {
      "text/html": [
       "<div>\n",
       "<style scoped>\n",
       "    .dataframe tbody tr th:only-of-type {\n",
       "        vertical-align: middle;\n",
       "    }\n",
       "\n",
       "    .dataframe tbody tr th {\n",
       "        vertical-align: top;\n",
       "    }\n",
       "\n",
       "    .dataframe thead th {\n",
       "        text-align: right;\n",
       "    }\n",
       "</style>\n",
       "<table border=\"1\" class=\"dataframe\">\n",
       "  <thead>\n",
       "    <tr style=\"text-align: right;\">\n",
       "      <th></th>\n",
       "      <th>flight_id</th>\n",
       "      <th>departure</th>\n",
       "      <th>arrival</th>\n",
       "      <th>departure_airport</th>\n",
       "      <th>arrival_airport</th>\n",
       "      <th>aircraft_code</th>\n",
       "      <th>economy_sold</th>\n",
       "      <th>comfort_sold</th>\n",
       "      <th>business_sold</th>\n",
       "      <th>price_eco_sold</th>\n",
       "      <th>price_bus_sold</th>\n",
       "      <th>price_total</th>\n",
       "      <th>aircraft_model</th>\n",
       "      <th>aircraft_range</th>\n",
       "      <th>amount_eco_seats</th>\n",
       "      <th>amount_bus_seats</th>\n",
       "      <th>total_seats</th>\n",
       "      <th>total_booking_price</th>\n",
       "      <th>arrival_city</th>\n",
       "      <th>airport_longitude</th>\n",
       "      <th>airport_latitude</th>\n",
       "      <th>anapa_long</th>\n",
       "      <th>anapa_lat</th>\n",
       "    </tr>\n",
       "  </thead>\n",
       "  <tbody>\n",
       "    <tr>\n",
       "      <th>8</th>\n",
       "      <td>136511</td>\n",
       "      <td>2017-02-21T06:10:00Z</td>\n",
       "      <td>2017-02-21T11:15:00Z</td>\n",
       "      <td>AAQ</td>\n",
       "      <td>NOZ</td>\n",
       "      <td>733</td>\n",
       "      <td>NaN</td>\n",
       "      <td>NaN</td>\n",
       "      <td>NaN</td>\n",
       "      <td>NaN</td>\n",
       "      <td>NaN</td>\n",
       "      <td>NaN</td>\n",
       "      <td>Boeing 737-300</td>\n",
       "      <td>4200</td>\n",
       "      <td>118</td>\n",
       "      <td>12</td>\n",
       "      <td>130</td>\n",
       "      <td>NaN</td>\n",
       "      <td>Novokuznetsk</td>\n",
       "      <td>86.877197</td>\n",
       "      <td>53.811401</td>\n",
       "      <td>37.347301</td>\n",
       "      <td>45.002102</td>\n",
       "    </tr>\n",
       "    <tr>\n",
       "      <th>9</th>\n",
       "      <td>136523</td>\n",
       "      <td>2017-01-10T06:10:00Z</td>\n",
       "      <td>2017-01-10T11:15:00Z</td>\n",
       "      <td>AAQ</td>\n",
       "      <td>NOZ</td>\n",
       "      <td>733</td>\n",
       "      <td>NaN</td>\n",
       "      <td>NaN</td>\n",
       "      <td>NaN</td>\n",
       "      <td>NaN</td>\n",
       "      <td>NaN</td>\n",
       "      <td>NaN</td>\n",
       "      <td>Boeing 737-300</td>\n",
       "      <td>4200</td>\n",
       "      <td>118</td>\n",
       "      <td>12</td>\n",
       "      <td>130</td>\n",
       "      <td>NaN</td>\n",
       "      <td>Novokuznetsk</td>\n",
       "      <td>86.877197</td>\n",
       "      <td>53.811401</td>\n",
       "      <td>37.347301</td>\n",
       "      <td>45.002102</td>\n",
       "    </tr>\n",
       "    <tr>\n",
       "      <th>10</th>\n",
       "      <td>136540</td>\n",
       "      <td>2017-01-17T06:10:00Z</td>\n",
       "      <td>2017-01-17T11:15:00Z</td>\n",
       "      <td>AAQ</td>\n",
       "      <td>NOZ</td>\n",
       "      <td>733</td>\n",
       "      <td>NaN</td>\n",
       "      <td>NaN</td>\n",
       "      <td>NaN</td>\n",
       "      <td>NaN</td>\n",
       "      <td>NaN</td>\n",
       "      <td>NaN</td>\n",
       "      <td>Boeing 737-300</td>\n",
       "      <td>4200</td>\n",
       "      <td>118</td>\n",
       "      <td>12</td>\n",
       "      <td>130</td>\n",
       "      <td>NaN</td>\n",
       "      <td>Novokuznetsk</td>\n",
       "      <td>86.877197</td>\n",
       "      <td>53.811401</td>\n",
       "      <td>37.347301</td>\n",
       "      <td>45.002102</td>\n",
       "    </tr>\n",
       "    <tr>\n",
       "      <th>11</th>\n",
       "      <td>136546</td>\n",
       "      <td>2017-01-03T06:10:00Z</td>\n",
       "      <td>2017-01-03T11:15:00Z</td>\n",
       "      <td>AAQ</td>\n",
       "      <td>NOZ</td>\n",
       "      <td>733</td>\n",
       "      <td>NaN</td>\n",
       "      <td>NaN</td>\n",
       "      <td>NaN</td>\n",
       "      <td>NaN</td>\n",
       "      <td>NaN</td>\n",
       "      <td>NaN</td>\n",
       "      <td>Boeing 737-300</td>\n",
       "      <td>4200</td>\n",
       "      <td>118</td>\n",
       "      <td>12</td>\n",
       "      <td>130</td>\n",
       "      <td>NaN</td>\n",
       "      <td>Novokuznetsk</td>\n",
       "      <td>86.877197</td>\n",
       "      <td>53.811401</td>\n",
       "      <td>37.347301</td>\n",
       "      <td>45.002102</td>\n",
       "    </tr>\n",
       "    <tr>\n",
       "      <th>38</th>\n",
       "      <td>136560</td>\n",
       "      <td>2017-01-24T06:10:00Z</td>\n",
       "      <td>2017-01-24T11:15:00Z</td>\n",
       "      <td>AAQ</td>\n",
       "      <td>NOZ</td>\n",
       "      <td>733</td>\n",
       "      <td>NaN</td>\n",
       "      <td>NaN</td>\n",
       "      <td>NaN</td>\n",
       "      <td>NaN</td>\n",
       "      <td>NaN</td>\n",
       "      <td>NaN</td>\n",
       "      <td>Boeing 737-300</td>\n",
       "      <td>4200</td>\n",
       "      <td>118</td>\n",
       "      <td>12</td>\n",
       "      <td>130</td>\n",
       "      <td>NaN</td>\n",
       "      <td>Novokuznetsk</td>\n",
       "      <td>86.877197</td>\n",
       "      <td>53.811401</td>\n",
       "      <td>37.347301</td>\n",
       "      <td>45.002102</td>\n",
       "    </tr>\n",
       "    <tr>\n",
       "      <th>79</th>\n",
       "      <td>136513</td>\n",
       "      <td>2017-02-28T06:10:00Z</td>\n",
       "      <td>2017-02-28T11:15:00Z</td>\n",
       "      <td>AAQ</td>\n",
       "      <td>NOZ</td>\n",
       "      <td>733</td>\n",
       "      <td>NaN</td>\n",
       "      <td>NaN</td>\n",
       "      <td>NaN</td>\n",
       "      <td>NaN</td>\n",
       "      <td>NaN</td>\n",
       "      <td>NaN</td>\n",
       "      <td>Boeing 737-300</td>\n",
       "      <td>4200</td>\n",
       "      <td>118</td>\n",
       "      <td>12</td>\n",
       "      <td>130</td>\n",
       "      <td>NaN</td>\n",
       "      <td>Novokuznetsk</td>\n",
       "      <td>86.877197</td>\n",
       "      <td>53.811401</td>\n",
       "      <td>37.347301</td>\n",
       "      <td>45.002102</td>\n",
       "    </tr>\n",
       "    <tr>\n",
       "      <th>80</th>\n",
       "      <td>136514</td>\n",
       "      <td>2017-02-07T06:10:00Z</td>\n",
       "      <td>2017-02-07T11:15:00Z</td>\n",
       "      <td>AAQ</td>\n",
       "      <td>NOZ</td>\n",
       "      <td>733</td>\n",
       "      <td>NaN</td>\n",
       "      <td>NaN</td>\n",
       "      <td>NaN</td>\n",
       "      <td>NaN</td>\n",
       "      <td>NaN</td>\n",
       "      <td>NaN</td>\n",
       "      <td>Boeing 737-300</td>\n",
       "      <td>4200</td>\n",
       "      <td>118</td>\n",
       "      <td>12</td>\n",
       "      <td>130</td>\n",
       "      <td>NaN</td>\n",
       "      <td>Novokuznetsk</td>\n",
       "      <td>86.877197</td>\n",
       "      <td>53.811401</td>\n",
       "      <td>37.347301</td>\n",
       "      <td>45.002102</td>\n",
       "    </tr>\n",
       "    <tr>\n",
       "      <th>81</th>\n",
       "      <td>136567</td>\n",
       "      <td>2017-02-14T06:10:00Z</td>\n",
       "      <td>2017-02-14T11:15:00Z</td>\n",
       "      <td>AAQ</td>\n",
       "      <td>NOZ</td>\n",
       "      <td>733</td>\n",
       "      <td>NaN</td>\n",
       "      <td>NaN</td>\n",
       "      <td>NaN</td>\n",
       "      <td>NaN</td>\n",
       "      <td>NaN</td>\n",
       "      <td>NaN</td>\n",
       "      <td>Boeing 737-300</td>\n",
       "      <td>4200</td>\n",
       "      <td>118</td>\n",
       "      <td>12</td>\n",
       "      <td>130</td>\n",
       "      <td>NaN</td>\n",
       "      <td>Novokuznetsk</td>\n",
       "      <td>86.877197</td>\n",
       "      <td>53.811401</td>\n",
       "      <td>37.347301</td>\n",
       "      <td>45.002102</td>\n",
       "    </tr>\n",
       "    <tr>\n",
       "      <th>117</th>\n",
       "      <td>136544</td>\n",
       "      <td>2017-01-31T06:10:00Z</td>\n",
       "      <td>2017-01-31T11:15:00Z</td>\n",
       "      <td>AAQ</td>\n",
       "      <td>NOZ</td>\n",
       "      <td>733</td>\n",
       "      <td>NaN</td>\n",
       "      <td>NaN</td>\n",
       "      <td>NaN</td>\n",
       "      <td>NaN</td>\n",
       "      <td>NaN</td>\n",
       "      <td>NaN</td>\n",
       "      <td>Boeing 737-300</td>\n",
       "      <td>4200</td>\n",
       "      <td>118</td>\n",
       "      <td>12</td>\n",
       "      <td>130</td>\n",
       "      <td>NaN</td>\n",
       "      <td>Novokuznetsk</td>\n",
       "      <td>86.877197</td>\n",
       "      <td>53.811401</td>\n",
       "      <td>37.347301</td>\n",
       "      <td>45.002102</td>\n",
       "    </tr>\n",
       "  </tbody>\n",
       "</table>\n",
       "</div>"
      ],
      "text/plain": [
       "     flight_id             departure               arrival departure_airport  \\\n",
       "8       136511  2017-02-21T06:10:00Z  2017-02-21T11:15:00Z               AAQ   \n",
       "9       136523  2017-01-10T06:10:00Z  2017-01-10T11:15:00Z               AAQ   \n",
       "10      136540  2017-01-17T06:10:00Z  2017-01-17T11:15:00Z               AAQ   \n",
       "11      136546  2017-01-03T06:10:00Z  2017-01-03T11:15:00Z               AAQ   \n",
       "38      136560  2017-01-24T06:10:00Z  2017-01-24T11:15:00Z               AAQ   \n",
       "79      136513  2017-02-28T06:10:00Z  2017-02-28T11:15:00Z               AAQ   \n",
       "80      136514  2017-02-07T06:10:00Z  2017-02-07T11:15:00Z               AAQ   \n",
       "81      136567  2017-02-14T06:10:00Z  2017-02-14T11:15:00Z               AAQ   \n",
       "117     136544  2017-01-31T06:10:00Z  2017-01-31T11:15:00Z               AAQ   \n",
       "\n",
       "    arrival_airport aircraft_code  economy_sold  comfort_sold  business_sold  \\\n",
       "8               NOZ           733           NaN           NaN            NaN   \n",
       "9               NOZ           733           NaN           NaN            NaN   \n",
       "10              NOZ           733           NaN           NaN            NaN   \n",
       "11              NOZ           733           NaN           NaN            NaN   \n",
       "38              NOZ           733           NaN           NaN            NaN   \n",
       "79              NOZ           733           NaN           NaN            NaN   \n",
       "80              NOZ           733           NaN           NaN            NaN   \n",
       "81              NOZ           733           NaN           NaN            NaN   \n",
       "117             NOZ           733           NaN           NaN            NaN   \n",
       "\n",
       "     price_eco_sold  price_bus_sold  price_total  aircraft_model  \\\n",
       "8               NaN             NaN          NaN  Boeing 737-300   \n",
       "9               NaN             NaN          NaN  Boeing 737-300   \n",
       "10              NaN             NaN          NaN  Boeing 737-300   \n",
       "11              NaN             NaN          NaN  Boeing 737-300   \n",
       "38              NaN             NaN          NaN  Boeing 737-300   \n",
       "79              NaN             NaN          NaN  Boeing 737-300   \n",
       "80              NaN             NaN          NaN  Boeing 737-300   \n",
       "81              NaN             NaN          NaN  Boeing 737-300   \n",
       "117             NaN             NaN          NaN  Boeing 737-300   \n",
       "\n",
       "     aircraft_range  amount_eco_seats  amount_bus_seats  total_seats  \\\n",
       "8              4200               118                12          130   \n",
       "9              4200               118                12          130   \n",
       "10             4200               118                12          130   \n",
       "11             4200               118                12          130   \n",
       "38             4200               118                12          130   \n",
       "79             4200               118                12          130   \n",
       "80             4200               118                12          130   \n",
       "81             4200               118                12          130   \n",
       "117            4200               118                12          130   \n",
       "\n",
       "     total_booking_price  arrival_city  airport_longitude  airport_latitude  \\\n",
       "8                    NaN  Novokuznetsk          86.877197         53.811401   \n",
       "9                    NaN  Novokuznetsk          86.877197         53.811401   \n",
       "10                   NaN  Novokuznetsk          86.877197         53.811401   \n",
       "11                   NaN  Novokuznetsk          86.877197         53.811401   \n",
       "38                   NaN  Novokuznetsk          86.877197         53.811401   \n",
       "79                   NaN  Novokuznetsk          86.877197         53.811401   \n",
       "80                   NaN  Novokuznetsk          86.877197         53.811401   \n",
       "81                   NaN  Novokuznetsk          86.877197         53.811401   \n",
       "117                  NaN  Novokuznetsk          86.877197         53.811401   \n",
       "\n",
       "     anapa_long  anapa_lat  \n",
       "8     37.347301  45.002102  \n",
       "9     37.347301  45.002102  \n",
       "10    37.347301  45.002102  \n",
       "11    37.347301  45.002102  \n",
       "38    37.347301  45.002102  \n",
       "79    37.347301  45.002102  \n",
       "80    37.347301  45.002102  \n",
       "81    37.347301  45.002102  \n",
       "117   37.347301  45.002102  "
      ]
     },
     "execution_count": 136,
     "metadata": {},
     "output_type": "execute_result"
    }
   ],
   "source": [
    "df[df['arrival_airport']=='NOZ']"
   ]
  },
  {
   "cell_type": "code",
   "execution_count": 137,
   "metadata": {},
   "outputs": [
    {
     "name": "stdout",
     "output_type": "stream",
     "text": [
      "<class 'pandas.core.frame.DataFrame'>\n",
      "RangeIndex: 127 entries, 0 to 126\n",
      "Data columns (total 23 columns):\n",
      " #   Column               Non-Null Count  Dtype  \n",
      "---  ------               --------------  -----  \n",
      " 0   flight_id            127 non-null    int64  \n",
      " 1   departure            127 non-null    object \n",
      " 2   arrival              127 non-null    object \n",
      " 3   departure_airport    127 non-null    object \n",
      " 4   arrival_airport      127 non-null    object \n",
      " 5   aircraft_code        127 non-null    object \n",
      " 6   economy_sold         118 non-null    float64\n",
      " 7   comfort_sold         0 non-null      float64\n",
      " 8   business_sold        118 non-null    float64\n",
      " 9   price_eco_sold       118 non-null    float64\n",
      " 10  price_bus_sold       118 non-null    float64\n",
      " 11  price_total          118 non-null    float64\n",
      " 12  aircraft_model       127 non-null    object \n",
      " 13  aircraft_range       127 non-null    int64  \n",
      " 14  amount_eco_seats     127 non-null    int64  \n",
      " 15  amount_bus_seats     127 non-null    int64  \n",
      " 16  total_seats          127 non-null    int64  \n",
      " 17  total_booking_price  118 non-null    float64\n",
      " 18  arrival_city         127 non-null    object \n",
      " 19  airport_longitude    127 non-null    float64\n",
      " 20  airport_latitude     127 non-null    float64\n",
      " 21  anapa_long           127 non-null    float64\n",
      " 22  anapa_lat            127 non-null    float64\n",
      "dtypes: float64(11), int64(5), object(7)\n",
      "memory usage: 22.9+ KB\n"
     ]
    }
   ],
   "source": [
    "df.info()"
   ]
  },
  {
   "cell_type": "code",
   "execution_count": 138,
   "metadata": {},
   "outputs": [],
   "source": [
    "df['perc_sold'] = (df['economy_sold'] + df['business_sold']) / df['total_seats']"
   ]
  },
  {
   "cell_type": "code",
   "execution_count": 139,
   "metadata": {},
   "outputs": [],
   "source": [
    "df = df.drop(columns = ['comfort_sold'])"
   ]
  },
  {
   "cell_type": "code",
   "execution_count": 140,
   "metadata": {},
   "outputs": [],
   "source": [
    "df['flight_distance'] = df.apply(\n",
    "    lambda x: distanceBetweenKm(x['anapa_lat'], x['anapa_long'], x['airport_latitude'], x['airport_longitude']), axis=1)"
   ]
  },
  {
   "cell_type": "code",
   "execution_count": 141,
   "metadata": {},
   "outputs": [
    {
     "data": {
      "text/plain": [
       "0      1220.0\n",
       "1      1220.0\n",
       "2      1220.0\n",
       "3      1220.0\n",
       "4      1220.0\n",
       "        ...  \n",
       "122     630.0\n",
       "123     630.0\n",
       "124     630.0\n",
       "125     630.0\n",
       "126     630.0\n",
       "Name: flight_distance, Length: 127, dtype: float64"
      ]
     },
     "execution_count": 141,
     "metadata": {},
     "output_type": "execute_result"
    }
   ],
   "source": [
    "df['flight_distance']"
   ]
  },
  {
   "cell_type": "code",
   "execution_count": 142,
   "metadata": {},
   "outputs": [],
   "source": [
    "df['departure'] = df['departure'].apply(lambda x: datetime.strptime(x, '%Y-%m-%dT%H:%M:%SZ'))"
   ]
  },
  {
   "cell_type": "code",
   "execution_count": 143,
   "metadata": {},
   "outputs": [],
   "source": [
    "df['arrival'] = df['arrival'].apply(lambda x: datetime.strptime(x, '%Y-%m-%dT%H:%M:%SZ'))"
   ]
  },
  {
   "cell_type": "code",
   "execution_count": 144,
   "metadata": {},
   "outputs": [],
   "source": [
    "df['flight_lasts_min'] = df['arrival']-df['departure']"
   ]
  },
  {
   "cell_type": "code",
   "execution_count": 145,
   "metadata": {},
   "outputs": [],
   "source": [
    "df['flight_lasts_min'] = df['flight_lasts_min'].apply(lambda x: x.seconds/60)"
   ]
  },
  {
   "cell_type": "code",
   "execution_count": 146,
   "metadata": {},
   "outputs": [],
   "source": [
    "df['flight_costs'] = df.apply((lambda x: count_costs_flight(x)), axis=1)"
   ]
  },
  {
   "cell_type": "code",
   "execution_count": 147,
   "metadata": {},
   "outputs": [
    {
     "data": {
      "text/plain": [
       "0      202238.0\n",
       "1      211303.0\n",
       "2      221274.0\n",
       "3      215836.0\n",
       "4      214929.0\n",
       "         ...   \n",
       "122     80970.0\n",
       "123     80970.0\n",
       "124     80970.0\n",
       "125     80970.0\n",
       "126     80970.0\n",
       "Name: flight_costs, Length: 127, dtype: float64"
      ]
     },
     "execution_count": 147,
     "metadata": {},
     "output_type": "execute_result"
    }
   ],
   "source": [
    "df['flight_costs']"
   ]
  },
  {
   "cell_type": "code",
   "execution_count": 148,
   "metadata": {},
   "outputs": [
    {
     "data": {
      "text/html": [
       "<div>\n",
       "<style scoped>\n",
       "    .dataframe tbody tr th:only-of-type {\n",
       "        vertical-align: middle;\n",
       "    }\n",
       "\n",
       "    .dataframe tbody tr th {\n",
       "        vertical-align: top;\n",
       "    }\n",
       "\n",
       "    .dataframe thead th {\n",
       "        text-align: right;\n",
       "    }\n",
       "</style>\n",
       "<table border=\"1\" class=\"dataframe\">\n",
       "  <thead>\n",
       "    <tr style=\"text-align: right;\">\n",
       "      <th></th>\n",
       "      <th>flight_id</th>\n",
       "      <th>departure</th>\n",
       "      <th>arrival</th>\n",
       "      <th>departure_airport</th>\n",
       "      <th>arrival_airport</th>\n",
       "      <th>aircraft_code</th>\n",
       "      <th>economy_sold</th>\n",
       "      <th>business_sold</th>\n",
       "      <th>price_eco_sold</th>\n",
       "      <th>price_bus_sold</th>\n",
       "      <th>price_total</th>\n",
       "      <th>aircraft_model</th>\n",
       "      <th>aircraft_range</th>\n",
       "      <th>amount_eco_seats</th>\n",
       "      <th>amount_bus_seats</th>\n",
       "      <th>total_seats</th>\n",
       "      <th>total_booking_price</th>\n",
       "      <th>arrival_city</th>\n",
       "      <th>airport_longitude</th>\n",
       "      <th>airport_latitude</th>\n",
       "      <th>anapa_long</th>\n",
       "      <th>anapa_lat</th>\n",
       "      <th>perc_sold</th>\n",
       "      <th>flight_distance</th>\n",
       "      <th>flight_lasts_min</th>\n",
       "      <th>flight_costs</th>\n",
       "    </tr>\n",
       "  </thead>\n",
       "  <tbody>\n",
       "    <tr>\n",
       "      <th>0</th>\n",
       "      <td>136122</td>\n",
       "      <td>2017-01-08 10:05:00</td>\n",
       "      <td>2017-01-08 11:45:00</td>\n",
       "      <td>AAQ</td>\n",
       "      <td>SVO</td>\n",
       "      <td>733</td>\n",
       "      <td>87.0</td>\n",
       "      <td>10.0</td>\n",
       "      <td>1065000.0</td>\n",
       "      <td>366000.0</td>\n",
       "      <td>1431000.0</td>\n",
       "      <td>Boeing 737-300</td>\n",
       "      <td>4200</td>\n",
       "      <td>118</td>\n",
       "      <td>12</td>\n",
       "      <td>130</td>\n",
       "      <td>5411400.0</td>\n",
       "      <td>Moscow</td>\n",
       "      <td>37.4146</td>\n",
       "      <td>55.972599</td>\n",
       "      <td>37.347301</td>\n",
       "      <td>45.002102</td>\n",
       "      <td>0.746154</td>\n",
       "      <td>1220.0</td>\n",
       "      <td>100.0</td>\n",
       "      <td>202238.0</td>\n",
       "    </tr>\n",
       "    <tr>\n",
       "      <th>1</th>\n",
       "      <td>136130</td>\n",
       "      <td>2017-02-13 10:05:00</td>\n",
       "      <td>2017-02-13 11:45:00</td>\n",
       "      <td>AAQ</td>\n",
       "      <td>SVO</td>\n",
       "      <td>733</td>\n",
       "      <td>97.0</td>\n",
       "      <td>10.0</td>\n",
       "      <td>1190600.0</td>\n",
       "      <td>366000.0</td>\n",
       "      <td>1556600.0</td>\n",
       "      <td>Boeing 737-300</td>\n",
       "      <td>4200</td>\n",
       "      <td>118</td>\n",
       "      <td>12</td>\n",
       "      <td>130</td>\n",
       "      <td>5795200.0</td>\n",
       "      <td>Moscow</td>\n",
       "      <td>37.4146</td>\n",
       "      <td>55.972599</td>\n",
       "      <td>37.347301</td>\n",
       "      <td>45.002102</td>\n",
       "      <td>0.823077</td>\n",
       "      <td>1220.0</td>\n",
       "      <td>100.0</td>\n",
       "      <td>211303.0</td>\n",
       "    </tr>\n",
       "    <tr>\n",
       "      <th>2</th>\n",
       "      <td>136181</td>\n",
       "      <td>2017-01-31 10:05:00</td>\n",
       "      <td>2017-01-31 11:45:00</td>\n",
       "      <td>AAQ</td>\n",
       "      <td>SVO</td>\n",
       "      <td>733</td>\n",
       "      <td>108.0</td>\n",
       "      <td>10.0</td>\n",
       "      <td>1323600.0</td>\n",
       "      <td>366000.0</td>\n",
       "      <td>1689600.0</td>\n",
       "      <td>Boeing 737-300</td>\n",
       "      <td>4200</td>\n",
       "      <td>118</td>\n",
       "      <td>12</td>\n",
       "      <td>130</td>\n",
       "      <td>6961000.0</td>\n",
       "      <td>Moscow</td>\n",
       "      <td>37.4146</td>\n",
       "      <td>55.972599</td>\n",
       "      <td>37.347301</td>\n",
       "      <td>45.002102</td>\n",
       "      <td>0.907692</td>\n",
       "      <td>1220.0</td>\n",
       "      <td>100.0</td>\n",
       "      <td>221274.0</td>\n",
       "    </tr>\n",
       "    <tr>\n",
       "      <th>3</th>\n",
       "      <td>136209</td>\n",
       "      <td>2017-01-06 10:05:00</td>\n",
       "      <td>2017-01-06 11:45:00</td>\n",
       "      <td>AAQ</td>\n",
       "      <td>SVO</td>\n",
       "      <td>733</td>\n",
       "      <td>102.0</td>\n",
       "      <td>10.0</td>\n",
       "      <td>1249200.0</td>\n",
       "      <td>366000.0</td>\n",
       "      <td>1615200.0</td>\n",
       "      <td>Boeing 737-300</td>\n",
       "      <td>4200</td>\n",
       "      <td>118</td>\n",
       "      <td>12</td>\n",
       "      <td>130</td>\n",
       "      <td>7017800.0</td>\n",
       "      <td>Moscow</td>\n",
       "      <td>37.4146</td>\n",
       "      <td>55.972599</td>\n",
       "      <td>37.347301</td>\n",
       "      <td>45.002102</td>\n",
       "      <td>0.861538</td>\n",
       "      <td>1220.0</td>\n",
       "      <td>100.0</td>\n",
       "      <td>215836.0</td>\n",
       "    </tr>\n",
       "    <tr>\n",
       "      <th>4</th>\n",
       "      <td>136270</td>\n",
       "      <td>2017-02-12 10:05:00</td>\n",
       "      <td>2017-02-12 11:45:00</td>\n",
       "      <td>AAQ</td>\n",
       "      <td>SVO</td>\n",
       "      <td>733</td>\n",
       "      <td>100.0</td>\n",
       "      <td>11.0</td>\n",
       "      <td>1226000.0</td>\n",
       "      <td>402600.0</td>\n",
       "      <td>1628600.0</td>\n",
       "      <td>Boeing 737-300</td>\n",
       "      <td>4200</td>\n",
       "      <td>118</td>\n",
       "      <td>12</td>\n",
       "      <td>130</td>\n",
       "      <td>6539400.0</td>\n",
       "      <td>Moscow</td>\n",
       "      <td>37.4146</td>\n",
       "      <td>55.972599</td>\n",
       "      <td>37.347301</td>\n",
       "      <td>45.002102</td>\n",
       "      <td>0.853846</td>\n",
       "      <td>1220.0</td>\n",
       "      <td>100.0</td>\n",
       "      <td>214929.0</td>\n",
       "    </tr>\n",
       "  </tbody>\n",
       "</table>\n",
       "</div>"
      ],
      "text/plain": [
       "   flight_id           departure             arrival departure_airport  \\\n",
       "0     136122 2017-01-08 10:05:00 2017-01-08 11:45:00               AAQ   \n",
       "1     136130 2017-02-13 10:05:00 2017-02-13 11:45:00               AAQ   \n",
       "2     136181 2017-01-31 10:05:00 2017-01-31 11:45:00               AAQ   \n",
       "3     136209 2017-01-06 10:05:00 2017-01-06 11:45:00               AAQ   \n",
       "4     136270 2017-02-12 10:05:00 2017-02-12 11:45:00               AAQ   \n",
       "\n",
       "  arrival_airport aircraft_code  economy_sold  business_sold  price_eco_sold  \\\n",
       "0             SVO           733          87.0           10.0       1065000.0   \n",
       "1             SVO           733          97.0           10.0       1190600.0   \n",
       "2             SVO           733         108.0           10.0       1323600.0   \n",
       "3             SVO           733         102.0           10.0       1249200.0   \n",
       "4             SVO           733         100.0           11.0       1226000.0   \n",
       "\n",
       "   price_bus_sold  price_total  aircraft_model  aircraft_range  \\\n",
       "0        366000.0    1431000.0  Boeing 737-300            4200   \n",
       "1        366000.0    1556600.0  Boeing 737-300            4200   \n",
       "2        366000.0    1689600.0  Boeing 737-300            4200   \n",
       "3        366000.0    1615200.0  Boeing 737-300            4200   \n",
       "4        402600.0    1628600.0  Boeing 737-300            4200   \n",
       "\n",
       "   amount_eco_seats  amount_bus_seats  total_seats  total_booking_price  \\\n",
       "0               118                12          130            5411400.0   \n",
       "1               118                12          130            5795200.0   \n",
       "2               118                12          130            6961000.0   \n",
       "3               118                12          130            7017800.0   \n",
       "4               118                12          130            6539400.0   \n",
       "\n",
       "  arrival_city  airport_longitude  airport_latitude  anapa_long  anapa_lat  \\\n",
       "0       Moscow            37.4146         55.972599   37.347301  45.002102   \n",
       "1       Moscow            37.4146         55.972599   37.347301  45.002102   \n",
       "2       Moscow            37.4146         55.972599   37.347301  45.002102   \n",
       "3       Moscow            37.4146         55.972599   37.347301  45.002102   \n",
       "4       Moscow            37.4146         55.972599   37.347301  45.002102   \n",
       "\n",
       "   perc_sold  flight_distance  flight_lasts_min  flight_costs  \n",
       "0   0.746154           1220.0             100.0      202238.0  \n",
       "1   0.823077           1220.0             100.0      211303.0  \n",
       "2   0.907692           1220.0             100.0      221274.0  \n",
       "3   0.861538           1220.0             100.0      215836.0  \n",
       "4   0.853846           1220.0             100.0      214929.0  "
      ]
     },
     "execution_count": 148,
     "metadata": {},
     "output_type": "execute_result"
    }
   ],
   "source": [
    "df.head(5)"
   ]
  },
  {
   "cell_type": "code",
   "execution_count": 149,
   "metadata": {},
   "outputs": [],
   "source": [
    "df['revenue'] = df['price_total'] - df['flight_costs']"
   ]
  },
  {
   "cell_type": "code",
   "execution_count": 232,
   "metadata": {},
   "outputs": [
    {
     "data": {
      "text/html": [
       "<div>\n",
       "<style scoped>\n",
       "    .dataframe tbody tr th:only-of-type {\n",
       "        vertical-align: middle;\n",
       "    }\n",
       "\n",
       "    .dataframe tbody tr th {\n",
       "        vertical-align: top;\n",
       "    }\n",
       "\n",
       "    .dataframe thead th {\n",
       "        text-align: right;\n",
       "    }\n",
       "</style>\n",
       "<table border=\"1\" class=\"dataframe\">\n",
       "  <thead>\n",
       "    <tr style=\"text-align: right;\">\n",
       "      <th></th>\n",
       "      <th>flight_id</th>\n",
       "      <th>departure</th>\n",
       "      <th>arrival</th>\n",
       "      <th>departure_airport</th>\n",
       "      <th>arrival_airport</th>\n",
       "      <th>aircraft_code</th>\n",
       "      <th>economy_sold</th>\n",
       "      <th>business_sold</th>\n",
       "      <th>price_eco_sold</th>\n",
       "      <th>price_bus_sold</th>\n",
       "      <th>price_total</th>\n",
       "      <th>aircraft_model</th>\n",
       "      <th>aircraft_range</th>\n",
       "      <th>amount_eco_seats</th>\n",
       "      <th>amount_bus_seats</th>\n",
       "      <th>total_seats</th>\n",
       "      <th>total_booking_price</th>\n",
       "      <th>arrival_city</th>\n",
       "      <th>airport_longitude</th>\n",
       "      <th>airport_latitude</th>\n",
       "      <th>anapa_long</th>\n",
       "      <th>anapa_lat</th>\n",
       "      <th>perc_sold</th>\n",
       "      <th>flight_distance</th>\n",
       "      <th>flight_lasts_min</th>\n",
       "      <th>flight_costs</th>\n",
       "      <th>revenue</th>\n",
       "      <th>perc_bus_sold</th>\n",
       "    </tr>\n",
       "  </thead>\n",
       "  <tbody>\n",
       "    <tr>\n",
       "      <th>22</th>\n",
       "      <td>136605</td>\n",
       "      <td>2017-02-15 09:25:00</td>\n",
       "      <td>2017-02-15 10:15:00</td>\n",
       "      <td>AAQ</td>\n",
       "      <td>EGO</td>\n",
       "      <td>SU9</td>\n",
       "      <td>85.0</td>\n",
       "      <td>12.0</td>\n",
       "      <td>538500.0</td>\n",
       "      <td>226800.0</td>\n",
       "      <td>765300.0</td>\n",
       "      <td>Sukhoi Superjet-100</td>\n",
       "      <td>3000</td>\n",
       "      <td>85</td>\n",
       "      <td>12</td>\n",
       "      <td>97</td>\n",
       "      <td>5066800.0</td>\n",
       "      <td>Belgorod</td>\n",
       "      <td>36.590099</td>\n",
       "      <td>50.643799</td>\n",
       "      <td>37.347301</td>\n",
       "      <td>45.002102</td>\n",
       "      <td>1.000000</td>\n",
       "      <td>630.0</td>\n",
       "      <td>50.0</td>\n",
       "      <td>80970.0</td>\n",
       "      <td>684330.0</td>\n",
       "      <td>0.123711</td>\n",
       "    </tr>\n",
       "    <tr>\n",
       "      <th>14</th>\n",
       "      <td>136875</td>\n",
       "      <td>2017-02-16 09:25:00</td>\n",
       "      <td>2017-02-16 10:15:00</td>\n",
       "      <td>AAQ</td>\n",
       "      <td>EGO</td>\n",
       "      <td>SU9</td>\n",
       "      <td>85.0</td>\n",
       "      <td>12.0</td>\n",
       "      <td>538500.0</td>\n",
       "      <td>226800.0</td>\n",
       "      <td>765300.0</td>\n",
       "      <td>Sukhoi Superjet-100</td>\n",
       "      <td>3000</td>\n",
       "      <td>85</td>\n",
       "      <td>12</td>\n",
       "      <td>97</td>\n",
       "      <td>4880400.0</td>\n",
       "      <td>Belgorod</td>\n",
       "      <td>36.590099</td>\n",
       "      <td>50.643799</td>\n",
       "      <td>37.347301</td>\n",
       "      <td>45.002102</td>\n",
       "      <td>1.000000</td>\n",
       "      <td>630.0</td>\n",
       "      <td>50.0</td>\n",
       "      <td>80970.0</td>\n",
       "      <td>684330.0</td>\n",
       "      <td>0.123711</td>\n",
       "    </tr>\n",
       "    <tr>\n",
       "      <th>80</th>\n",
       "      <td>136514</td>\n",
       "      <td>2017-02-07 06:10:00</td>\n",
       "      <td>2017-02-07 11:15:00</td>\n",
       "      <td>AAQ</td>\n",
       "      <td>NOZ</td>\n",
       "      <td>733</td>\n",
       "      <td>NaN</td>\n",
       "      <td>NaN</td>\n",
       "      <td>NaN</td>\n",
       "      <td>NaN</td>\n",
       "      <td>NaN</td>\n",
       "      <td>Boeing 737-300</td>\n",
       "      <td>4200</td>\n",
       "      <td>118</td>\n",
       "      <td>12</td>\n",
       "      <td>130</td>\n",
       "      <td>NaN</td>\n",
       "      <td>Novokuznetsk</td>\n",
       "      <td>86.877197</td>\n",
       "      <td>53.811401</td>\n",
       "      <td>37.347301</td>\n",
       "      <td>45.002102</td>\n",
       "      <td>NaN</td>\n",
       "      <td>3634.0</td>\n",
       "      <td>305.0</td>\n",
       "      <td>697291.0</td>\n",
       "      <td>NaN</td>\n",
       "      <td>NaN</td>\n",
       "    </tr>\n",
       "    <tr>\n",
       "      <th>77</th>\n",
       "      <td>136428</td>\n",
       "      <td>2017-01-21 10:05:00</td>\n",
       "      <td>2017-01-21 11:45:00</td>\n",
       "      <td>AAQ</td>\n",
       "      <td>SVO</td>\n",
       "      <td>733</td>\n",
       "      <td>104.0</td>\n",
       "      <td>11.0</td>\n",
       "      <td>1276000.0</td>\n",
       "      <td>402600.0</td>\n",
       "      <td>1678600.0</td>\n",
       "      <td>Boeing 737-300</td>\n",
       "      <td>4200</td>\n",
       "      <td>118</td>\n",
       "      <td>12</td>\n",
       "      <td>130</td>\n",
       "      <td>7034800.0</td>\n",
       "      <td>Moscow</td>\n",
       "      <td>37.414600</td>\n",
       "      <td>55.972599</td>\n",
       "      <td>37.347301</td>\n",
       "      <td>45.002102</td>\n",
       "      <td>0.884615</td>\n",
       "      <td>1220.0</td>\n",
       "      <td>100.0</td>\n",
       "      <td>218555.0</td>\n",
       "      <td>1460045.0</td>\n",
       "      <td>0.095652</td>\n",
       "    </tr>\n",
       "    <tr>\n",
       "      <th>112</th>\n",
       "      <td>136310</td>\n",
       "      <td>2017-01-22 10:05:00</td>\n",
       "      <td>2017-01-22 11:45:00</td>\n",
       "      <td>AAQ</td>\n",
       "      <td>SVO</td>\n",
       "      <td>733</td>\n",
       "      <td>108.0</td>\n",
       "      <td>9.0</td>\n",
       "      <td>1324800.0</td>\n",
       "      <td>329400.0</td>\n",
       "      <td>1654200.0</td>\n",
       "      <td>Boeing 737-300</td>\n",
       "      <td>4200</td>\n",
       "      <td>118</td>\n",
       "      <td>12</td>\n",
       "      <td>130</td>\n",
       "      <td>6529800.0</td>\n",
       "      <td>Moscow</td>\n",
       "      <td>37.414600</td>\n",
       "      <td>55.972599</td>\n",
       "      <td>37.347301</td>\n",
       "      <td>45.002102</td>\n",
       "      <td>0.900000</td>\n",
       "      <td>1220.0</td>\n",
       "      <td>100.0</td>\n",
       "      <td>220368.0</td>\n",
       "      <td>1433832.0</td>\n",
       "      <td>0.076923</td>\n",
       "    </tr>\n",
       "    <tr>\n",
       "      <th>30</th>\n",
       "      <td>136907</td>\n",
       "      <td>2017-01-16 09:25:00</td>\n",
       "      <td>2017-01-16 10:15:00</td>\n",
       "      <td>AAQ</td>\n",
       "      <td>EGO</td>\n",
       "      <td>SU9</td>\n",
       "      <td>84.0</td>\n",
       "      <td>12.0</td>\n",
       "      <td>532200.0</td>\n",
       "      <td>226800.0</td>\n",
       "      <td>759000.0</td>\n",
       "      <td>Sukhoi Superjet-100</td>\n",
       "      <td>3000</td>\n",
       "      <td>85</td>\n",
       "      <td>12</td>\n",
       "      <td>97</td>\n",
       "      <td>5080700.0</td>\n",
       "      <td>Belgorod</td>\n",
       "      <td>36.590099</td>\n",
       "      <td>50.643799</td>\n",
       "      <td>37.347301</td>\n",
       "      <td>45.002102</td>\n",
       "      <td>0.989691</td>\n",
       "      <td>630.0</td>\n",
       "      <td>50.0</td>\n",
       "      <td>80970.0</td>\n",
       "      <td>678030.0</td>\n",
       "      <td>0.125000</td>\n",
       "    </tr>\n",
       "    <tr>\n",
       "      <th>117</th>\n",
       "      <td>136544</td>\n",
       "      <td>2017-01-31 06:10:00</td>\n",
       "      <td>2017-01-31 11:15:00</td>\n",
       "      <td>AAQ</td>\n",
       "      <td>NOZ</td>\n",
       "      <td>733</td>\n",
       "      <td>NaN</td>\n",
       "      <td>NaN</td>\n",
       "      <td>NaN</td>\n",
       "      <td>NaN</td>\n",
       "      <td>NaN</td>\n",
       "      <td>Boeing 737-300</td>\n",
       "      <td>4200</td>\n",
       "      <td>118</td>\n",
       "      <td>12</td>\n",
       "      <td>130</td>\n",
       "      <td>NaN</td>\n",
       "      <td>Novokuznetsk</td>\n",
       "      <td>86.877197</td>\n",
       "      <td>53.811401</td>\n",
       "      <td>37.347301</td>\n",
       "      <td>45.002102</td>\n",
       "      <td>NaN</td>\n",
       "      <td>3634.0</td>\n",
       "      <td>305.0</td>\n",
       "      <td>697291.0</td>\n",
       "      <td>NaN</td>\n",
       "      <td>NaN</td>\n",
       "    </tr>\n",
       "    <tr>\n",
       "      <th>71</th>\n",
       "      <td>136819</td>\n",
       "      <td>2017-01-04 09:25:00</td>\n",
       "      <td>2017-01-04 10:15:00</td>\n",
       "      <td>AAQ</td>\n",
       "      <td>EGO</td>\n",
       "      <td>SU9</td>\n",
       "      <td>84.0</td>\n",
       "      <td>12.0</td>\n",
       "      <td>532200.0</td>\n",
       "      <td>226800.0</td>\n",
       "      <td>759000.0</td>\n",
       "      <td>Sukhoi Superjet-100</td>\n",
       "      <td>3000</td>\n",
       "      <td>85</td>\n",
       "      <td>12</td>\n",
       "      <td>97</td>\n",
       "      <td>5073200.0</td>\n",
       "      <td>Belgorod</td>\n",
       "      <td>36.590099</td>\n",
       "      <td>50.643799</td>\n",
       "      <td>37.347301</td>\n",
       "      <td>45.002102</td>\n",
       "      <td>0.989691</td>\n",
       "      <td>630.0</td>\n",
       "      <td>50.0</td>\n",
       "      <td>80970.0</td>\n",
       "      <td>678030.0</td>\n",
       "      <td>0.125000</td>\n",
       "    </tr>\n",
       "    <tr>\n",
       "      <th>26</th>\n",
       "      <td>136778</td>\n",
       "      <td>2017-02-22 09:25:00</td>\n",
       "      <td>2017-02-22 10:15:00</td>\n",
       "      <td>AAQ</td>\n",
       "      <td>EGO</td>\n",
       "      <td>SU9</td>\n",
       "      <td>84.0</td>\n",
       "      <td>12.0</td>\n",
       "      <td>532200.0</td>\n",
       "      <td>226800.0</td>\n",
       "      <td>759000.0</td>\n",
       "      <td>Sukhoi Superjet-100</td>\n",
       "      <td>3000</td>\n",
       "      <td>85</td>\n",
       "      <td>12</td>\n",
       "      <td>97</td>\n",
       "      <td>4687300.0</td>\n",
       "      <td>Belgorod</td>\n",
       "      <td>36.590099</td>\n",
       "      <td>50.643799</td>\n",
       "      <td>37.347301</td>\n",
       "      <td>45.002102</td>\n",
       "      <td>0.989691</td>\n",
       "      <td>630.0</td>\n",
       "      <td>50.0</td>\n",
       "      <td>80970.0</td>\n",
       "      <td>678030.0</td>\n",
       "      <td>0.125000</td>\n",
       "    </tr>\n",
       "    <tr>\n",
       "      <th>95</th>\n",
       "      <td>136348</td>\n",
       "      <td>2017-02-10 10:05:00</td>\n",
       "      <td>2017-02-10 11:45:00</td>\n",
       "      <td>AAQ</td>\n",
       "      <td>SVO</td>\n",
       "      <td>733</td>\n",
       "      <td>108.0</td>\n",
       "      <td>12.0</td>\n",
       "      <td>1323600.0</td>\n",
       "      <td>439200.0</td>\n",
       "      <td>1762800.0</td>\n",
       "      <td>Boeing 737-300</td>\n",
       "      <td>4200</td>\n",
       "      <td>118</td>\n",
       "      <td>12</td>\n",
       "      <td>130</td>\n",
       "      <td>7552600.0</td>\n",
       "      <td>Moscow</td>\n",
       "      <td>37.414600</td>\n",
       "      <td>55.972599</td>\n",
       "      <td>37.347301</td>\n",
       "      <td>45.002102</td>\n",
       "      <td>0.923077</td>\n",
       "      <td>1220.0</td>\n",
       "      <td>100.0</td>\n",
       "      <td>223087.0</td>\n",
       "      <td>1539713.0</td>\n",
       "      <td>0.100000</td>\n",
       "    </tr>\n",
       "  </tbody>\n",
       "</table>\n",
       "</div>"
      ],
      "text/plain": [
       "     flight_id           departure             arrival departure_airport  \\\n",
       "22      136605 2017-02-15 09:25:00 2017-02-15 10:15:00               AAQ   \n",
       "14      136875 2017-02-16 09:25:00 2017-02-16 10:15:00               AAQ   \n",
       "80      136514 2017-02-07 06:10:00 2017-02-07 11:15:00               AAQ   \n",
       "77      136428 2017-01-21 10:05:00 2017-01-21 11:45:00               AAQ   \n",
       "112     136310 2017-01-22 10:05:00 2017-01-22 11:45:00               AAQ   \n",
       "30      136907 2017-01-16 09:25:00 2017-01-16 10:15:00               AAQ   \n",
       "117     136544 2017-01-31 06:10:00 2017-01-31 11:15:00               AAQ   \n",
       "71      136819 2017-01-04 09:25:00 2017-01-04 10:15:00               AAQ   \n",
       "26      136778 2017-02-22 09:25:00 2017-02-22 10:15:00               AAQ   \n",
       "95      136348 2017-02-10 10:05:00 2017-02-10 11:45:00               AAQ   \n",
       "\n",
       "    arrival_airport aircraft_code  economy_sold  business_sold  \\\n",
       "22              EGO           SU9          85.0           12.0   \n",
       "14              EGO           SU9          85.0           12.0   \n",
       "80              NOZ           733           NaN            NaN   \n",
       "77              SVO           733         104.0           11.0   \n",
       "112             SVO           733         108.0            9.0   \n",
       "30              EGO           SU9          84.0           12.0   \n",
       "117             NOZ           733           NaN            NaN   \n",
       "71              EGO           SU9          84.0           12.0   \n",
       "26              EGO           SU9          84.0           12.0   \n",
       "95              SVO           733         108.0           12.0   \n",
       "\n",
       "     price_eco_sold  price_bus_sold  price_total       aircraft_model  \\\n",
       "22         538500.0        226800.0     765300.0  Sukhoi Superjet-100   \n",
       "14         538500.0        226800.0     765300.0  Sukhoi Superjet-100   \n",
       "80              NaN             NaN          NaN       Boeing 737-300   \n",
       "77        1276000.0        402600.0    1678600.0       Boeing 737-300   \n",
       "112       1324800.0        329400.0    1654200.0       Boeing 737-300   \n",
       "30         532200.0        226800.0     759000.0  Sukhoi Superjet-100   \n",
       "117             NaN             NaN          NaN       Boeing 737-300   \n",
       "71         532200.0        226800.0     759000.0  Sukhoi Superjet-100   \n",
       "26         532200.0        226800.0     759000.0  Sukhoi Superjet-100   \n",
       "95        1323600.0        439200.0    1762800.0       Boeing 737-300   \n",
       "\n",
       "     aircraft_range  amount_eco_seats  amount_bus_seats  total_seats  \\\n",
       "22             3000                85                12           97   \n",
       "14             3000                85                12           97   \n",
       "80             4200               118                12          130   \n",
       "77             4200               118                12          130   \n",
       "112            4200               118                12          130   \n",
       "30             3000                85                12           97   \n",
       "117            4200               118                12          130   \n",
       "71             3000                85                12           97   \n",
       "26             3000                85                12           97   \n",
       "95             4200               118                12          130   \n",
       "\n",
       "     total_booking_price  arrival_city  airport_longitude  airport_latitude  \\\n",
       "22             5066800.0      Belgorod          36.590099         50.643799   \n",
       "14             4880400.0      Belgorod          36.590099         50.643799   \n",
       "80                   NaN  Novokuznetsk          86.877197         53.811401   \n",
       "77             7034800.0        Moscow          37.414600         55.972599   \n",
       "112            6529800.0        Moscow          37.414600         55.972599   \n",
       "30             5080700.0      Belgorod          36.590099         50.643799   \n",
       "117                  NaN  Novokuznetsk          86.877197         53.811401   \n",
       "71             5073200.0      Belgorod          36.590099         50.643799   \n",
       "26             4687300.0      Belgorod          36.590099         50.643799   \n",
       "95             7552600.0        Moscow          37.414600         55.972599   \n",
       "\n",
       "     anapa_long  anapa_lat  perc_sold  flight_distance  flight_lasts_min  \\\n",
       "22    37.347301  45.002102   1.000000            630.0              50.0   \n",
       "14    37.347301  45.002102   1.000000            630.0              50.0   \n",
       "80    37.347301  45.002102        NaN           3634.0             305.0   \n",
       "77    37.347301  45.002102   0.884615           1220.0             100.0   \n",
       "112   37.347301  45.002102   0.900000           1220.0             100.0   \n",
       "30    37.347301  45.002102   0.989691            630.0              50.0   \n",
       "117   37.347301  45.002102        NaN           3634.0             305.0   \n",
       "71    37.347301  45.002102   0.989691            630.0              50.0   \n",
       "26    37.347301  45.002102   0.989691            630.0              50.0   \n",
       "95    37.347301  45.002102   0.923077           1220.0             100.0   \n",
       "\n",
       "     flight_costs    revenue  perc_bus_sold  \n",
       "22        80970.0   684330.0       0.123711  \n",
       "14        80970.0   684330.0       0.123711  \n",
       "80       697291.0        NaN            NaN  \n",
       "77       218555.0  1460045.0       0.095652  \n",
       "112      220368.0  1433832.0       0.076923  \n",
       "30        80970.0   678030.0       0.125000  \n",
       "117      697291.0        NaN            NaN  \n",
       "71        80970.0   678030.0       0.125000  \n",
       "26        80970.0   678030.0       0.125000  \n",
       "95       223087.0  1539713.0       0.100000  "
      ]
     },
     "execution_count": 232,
     "metadata": {},
     "output_type": "execute_result"
    }
   ],
   "source": [
    "df.sample(10)\n",
    "#df['departure'][32].strftime('%A')"
   ]
  },
  {
   "cell_type": "code",
   "execution_count": 176,
   "metadata": {},
   "outputs": [
    {
     "data": {
      "text/plain": [
       "[<matplotlib.lines.Line2D at 0x259794b2d30>]"
      ]
     },
     "execution_count": 176,
     "metadata": {},
     "output_type": "execute_result"
    },
    {
     "data": {
      "image/png": "[encoded data removed]",
      "text/plain": [
       "<Figure size 432x288 with 1 Axes>"
      ]
     },
     "metadata": {
      "needs_background": "light"
     },
     "output_type": "display_data"
    }
   ],
   "source": [
    "df_M = df.query('arrival_city == \"Moscow\"').sort_values(by = ['departure'])\n",
    "#df_M = df_M.loc[:,['departure', 'revenue']].sort_values(by = ['departure'])\n",
    "df_B = df.query('arrival_city == \"Belgorod\"').sort_values(by = ['departure'])\n",
    "fig = plt.figure()\n",
    "axes = fig.add_axes([0,0,1,1])\n",
    "axes.plot(df_M['departure'], df_M['revenue']) \n",
    "axes.plot(df_B['departure'], df_B['revenue'])"
   ]
  },
  {
   "cell_type": "code",
   "execution_count": 174,
   "metadata": {},
   "outputs": [
    {
     "data": {
      "text/plain": [
       "[<matplotlib.lines.Line2D at 0x25977a8a910>]"
      ]
     },
     "execution_count": 174,
     "metadata": {},
     "output_type": "execute_result"
    },
    {
     "data": {
      "image/png": "[encoded data removed]",
      "text/plain": [
       "<Figure size 432x288 with 1 Axes>"
      ]
     },
     "metadata": {
      "needs_background": "light"
     },
     "output_type": "display_data"
    }
   ],
   "source": [
    "df_cost_M = df.query('arrival_city == \"Moscow\"').sort_values(by = ['departure'])\n",
    "df_cost_B = df.query('arrival_city == \"Belgorod\"').sort_values(by = ['departure'])\n",
    "df_cost_N = df.query('arrival_city == \"Novokuznetsk\"').sort_values(by = ['departure'])\n",
    "fig_cost = plt.figure()\n",
    "axes_cost = fig_cost.add_axes([0,0,1,1])\n",
    "axes_cost.plot(df_cost_M['departure'], df_cost_M['flight_costs']) \n",
    "axes_cost.plot(df_cost_B['departure'], df_cost_B['flight_costs'])\n",
    "axes_cost.plot(df_cost_N['departure'], df_cost_N['flight_costs'])"
   ]
  },
  {
   "cell_type": "code",
   "execution_count": 181,
   "metadata": {},
   "outputs": [
    {
     "data": {
      "text/plain": [
       "<matplotlib.legend.Legend at 0x259795c9e80>"
      ]
     },
     "execution_count": 181,
     "metadata": {},
     "output_type": "execute_result"
    },
    {
     "data": {
      "image/png": "[encoded data removed]",
      "text/plain": [
       "<Figure size 432x288 with 1 Axes>"
      ]
     },
     "metadata": {
      "needs_background": "light"
     },
     "output_type": "display_data"
    }
   ],
   "source": [
    "fig_perc = plt.figure()\n",
    "axes_perc = fig_perc.add_axes([0,0,1,1])\n",
    "axes_perc.plot(df_M['departure'], df_M['perc_sold'], label = 'Moscow') \n",
    "axes_perc.plot(df_B['departure'], df_B['perc_sold'], label = 'Belgorod')\n",
    "axes_perc.legend(loc=3)\n",
    "#df_M.loc[:,['departure', 'revenue']].sort_values(by = ['departure'])"
   ]
  },
  {
   "cell_type": "code",
   "execution_count": 300,
   "metadata": {},
   "outputs": [],
   "source": [
    "def days_not_full(x):\n",
    "    if x['perc_sold']<=0.85:\n",
    "        return x['departure'].strftime('%A')\n",
    "    else:\n",
    "        return None\n",
    "\n",
    "def days_full(x):\n",
    "    if x['perc_sold']>0.85:\n",
    "        return x['departure'].strftime('%A')\n",
    "    else:\n",
    "        return None  \n",
    "\n",
    "def days(x):\n",
    "    return x.strftime('%A')"
   ]
  },
  {
   "cell_type": "code",
   "execution_count": 301,
   "metadata": {},
   "outputs": [],
   "source": [
    "df['days'] = df['departure'].apply(days)"
   ]
  },
  {
   "cell_type": "code",
   "execution_count": 248,
   "metadata": {},
   "outputs": [],
   "source": [
    "df['days_not_full'] = df.apply(days_not_full, axis=1)\n",
    "df['days_full'] = df.apply(days_full, axis=1)"
   ]
  },
  {
   "cell_type": "code",
   "execution_count": 302,
   "metadata": {},
   "outputs": [],
   "source": [
    "rev_mos_d = df.query('arrival_city==\"Moscow\"').groupby(by=['days'])['revenue'].sum()\n",
    "rev_belg_d = df.query('arrival_city==\"Belgorod\"').groupby(by=['days'])['revenue'].sum()"
   ]
  },
  {
   "cell_type": "code",
   "execution_count": 307,
   "metadata": {},
   "outputs": [
    {
     "data": {
      "text/plain": [
       "<matplotlib.legend.Legend at 0x2597e287bb0>"
      ]
     },
     "execution_count": 307,
     "metadata": {},
     "output_type": "execute_result"
    },
    {
     "data": {
      "image/png": "[encoded data removed]",
      "text/plain": [
       "<Figure size 432x288 with 1 Axes>"
      ]
     },
     "metadata": {
      "needs_background": "light"
     },
     "output_type": "display_data"
    }
   ],
   "source": [
    "fig_days = plt.figure()\n",
    "axes_days = fig_days.add_axes([0, 0, 1, 1])\n",
    "axes_days.set_ylim(1e+7, 1.5e+7)\n",
    "axes_days.bar(x = rev_mos_d.index, height = rev_mos_d.values, \n",
    "                width = 0.2, align = 'edge', label = 'Revenue in Moscow by day')\n",
    "#axes_days.bar(x = rev_belg_d.index, height = rev_belg_d.values, \n",
    "#                width = -0.2, align = 'edge', label = 'Revenue in Belgorod by day')\n",
    "axes_days.legend(loc = 1)"
   ]
  },
  {
   "cell_type": "code",
   "execution_count": 309,
   "metadata": {},
   "outputs": [
    {
     "data": {
      "text/plain": [
       "Sunday       9\n",
       "Tuesday      9\n",
       "Monday       9\n",
       "Wednesday    8\n",
       "Thursday     8\n",
       "Saturday     8\n",
       "Friday       8\n",
       "Name: days, dtype: int64"
      ]
     },
     "execution_count": 309,
     "metadata": {},
     "output_type": "execute_result"
    }
   ],
   "source": [
    "df.query('arrival_city==\"Moscow\"')['days'].value_counts()"
   ]
  },
  {
   "cell_type": "code",
   "execution_count": 312,
   "metadata": {},
   "outputs": [
    {
     "data": {
      "text/plain": [
       "<matplotlib.legend.Legend at 0x2597e3cb130>"
      ]
     },
     "execution_count": 312,
     "metadata": {},
     "output_type": "execute_result"
    },
    {
     "data": {
      "image/png": "[encoded data removed]",
      "text/plain": [
       "<Figure size 432x288 with 1 Axes>"
      ]
     },
     "metadata": {
      "needs_background": "light"
     },
     "output_type": "display_data"
    }
   ],
   "source": [
    "fig_days = plt.figure()\n",
    "axes_days = fig_days.add_axes([0, 0, 1, 1])\n",
    "axes_days.set_ylim(4e+6, 6e+6)\n",
    "#axes_days.bar(x = rev_mos_d.index, height = rev_mos_d.values, \n",
    "#                width = 0.2, align = 'edge', label = 'Revenue in Moscow by day')\n",
    "axes_days.bar(x = rev_belg_d.index, height = rev_belg_d.values, \n",
    "                width = -0.2, align = 'edge', label = 'Revenue in Belgorod by day')\n",
    "axes_days.legend(loc = 1)"
   ]
  },
  {
   "cell_type": "code",
   "execution_count": 313,
   "metadata": {},
   "outputs": [
    {
     "data": {
      "text/plain": [
       "Sunday       9\n",
       "Tuesday      9\n",
       "Monday       9\n",
       "Thursday     8\n",
       "Friday       8\n",
       "Saturday     8\n",
       "Wednesday    8\n",
       "Name: days, dtype: int64"
      ]
     },
     "execution_count": 313,
     "metadata": {},
     "output_type": "execute_result"
    }
   ],
   "source": [
    "df.query('arrival_city==\"Belgorod\"')['days'].value_counts()"
   ]
  },
  {
   "cell_type": "code",
   "execution_count": 305,
   "metadata": {},
   "outputs": [],
   "source": [
    "group_moscow_rev = df.query('arrival_city==\"Moscow\"').groupby(by=['days_not_full'])['revenue'].sum()\n",
    "group_belg_rev = df.query('arrival_city==\"Belgorod\"').groupby(by=['days_not_full'])['revenue'].sum()\n",
    "group_moscow_rev_full = df.query('arrival_city==\"Moscow\"').groupby(by=['days_full'])['revenue'].sum()\n",
    "group_belg_rev_full = df.query('arrival_city==\"Belgorod\"').groupby(by=['days_full'])['revenue'].sum()"
   ]
  },
  {
   "cell_type": "code",
   "execution_count": 298,
   "metadata": {},
   "outputs": [
    {
     "data": {
      "text/plain": [
       "<matplotlib.legend.Legend at 0x2597d0fb850>"
      ]
     },
     "execution_count": 298,
     "metadata": {},
     "output_type": "execute_result"
    },
    {
     "data": {
      "image/png": "[encoded data removed]",
      "text/plain": [
       "<Figure size 432x288 with 1 Axes>"
      ]
     },
     "metadata": {
      "needs_background": "light"
     },
     "output_type": "display_data"
    }
   ],
   "source": [
    "fig_days = plt.figure()\n",
    "axes_days = fig_days.add_axes([0, 0, 1, 1])\n",
    "#axes_days.set_ylim(0, 8e+5)\n",
    "axes_days.bar(x = group_belg_rev_full.index, height = group_belg_rev_full.values, \n",
    "                width = 0.2, align = 'edge', label = 'Revenue in Full')\n",
    "axes_days.bar(x = group_belg_rev.index, height = group_belg_rev.values, \n",
    "                width = -0.2, align = 'edge', label = 'Revenue in Not full')\n",
    "axes_days.legend(loc = 1)"
   ]
  },
  {
   "cell_type": "code",
   "execution_count": 299,
   "metadata": {},
   "outputs": [
    {
     "data": {
      "text/plain": [
       "<matplotlib.legend.Legend at 0x2597e14c0d0>"
      ]
     },
     "execution_count": 299,
     "metadata": {},
     "output_type": "execute_result"
    },
    {
     "data": {
      "image/png": "[encoded data removed]",
      "text/plain": [
       "<Figure size 432x288 with 1 Axes>"
      ]
     },
     "metadata": {
      "needs_background": "light"
     },
     "output_type": "display_data"
    }
   ],
   "source": [
    "fig_days = plt.figure()\n",
    "axes_days = fig_days.add_axes([0, 0, 1, 1])\n",
    "#axes_days.set_ylim(1e+6, 1.7e+6)\n",
    "axes_days.bar(x = group_moscow_rev_full.index, height = group_moscow_rev_full.values, \n",
    "                width = 0.2, align = 'edge', label = 'Revenue in Full')\n",
    "axes_days.bar(x = group_moscow_rev.index, height = group_moscow_rev.values, \n",
    "                width = -0.2, align = 'edge', label = 'Revenue in Not full')\n",
    "axes_days.legend(loc = 1)"
   ]
  },
  {
   "cell_type": "code",
   "execution_count": 273,
   "metadata": {},
   "outputs": [
    {
     "data": {
      "text/plain": [
       "<matplotlib.legend.Legend at 0x2597a913d90>"
      ]
     },
     "execution_count": 273,
     "metadata": {},
     "output_type": "execute_result"
    },
    {
     "data": {
      "image/png": "[encoded data removed]",
      "text/plain": [
       "<Figure size 432x288 with 1 Axes>"
      ]
     },
     "metadata": {
      "needs_background": "light"
     },
     "output_type": "display_data"
    }
   ],
   "source": [
    "fig_days = plt.figure()\n",
    "axes_days = fig_days.add_axes([0, 0, 1, 1])\n",
    "#axes_days.set_ylim(0.7, 1)\n",
    "axes_days.bar(x = df['days_full'].value_counts().index, height = df['days_full'].value_counts().values, \n",
    "                width = 0.2, align = 'edge', label = 'Full')\n",
    "axes_days.bar(x = df['days_not_full'].value_counts().index, height = df['days_not_full'].value_counts().values, \n",
    "                width = -0.2, align = 'edge', label = 'Not full')\n",
    "axes_days.legend(loc = 1)"
   ]
  },
  {
   "cell_type": "code",
   "execution_count": 279,
   "metadata": {},
   "outputs": [
    {
     "data": {
      "text/plain": [
       "<matplotlib.legend.Legend at 0x2597cb371c0>"
      ]
     },
     "execution_count": 279,
     "metadata": {},
     "output_type": "execute_result"
    },
    {
     "data": {
      "image/png": "[encoded data removed]",
      "text/plain": [
       "<Figure size 432x288 with 1 Axes>"
      ]
     },
     "metadata": {
      "needs_background": "light"
     },
     "output_type": "display_data"
    }
   ],
   "source": [
    "fig_days = plt.figure()\n",
    "axes_days = fig_days.add_axes([0, 0, 1, 1])\n",
    "#axes_days.set_ylim(0.7, 1)\n",
    "axes_days.bar(x = df.query('arrival_city == \"Moscow\"')['days_full'].value_counts().index, height = df.query('arrival_city == \"Moscow\"')['days_full'].value_counts().values, \n",
    "                width = 0.2, align = 'edge', label = 'Full')\n",
    "axes_days.bar(x = df.query('arrival_city == \"Moscow\"')['days_not_full'].value_counts().index, height = df.query('arrival_city == \"Moscow\"')['days_not_full'].value_counts().values, \n",
    "                width = -0.2, align = 'edge', label = 'Not full')\n",
    "axes_days.legend(loc = 1)"
   ]
  },
  {
   "cell_type": "code",
   "execution_count": 280,
   "metadata": {},
   "outputs": [
    {
     "data": {
      "text/plain": [
       "<matplotlib.legend.Legend at 0x2597cbc8310>"
      ]
     },
     "execution_count": 280,
     "metadata": {},
     "output_type": "execute_result"
    },
    {
     "data": {
      "image/png": "[encoded data removed]",
      "text/plain": [
       "<Figure size 432x288 with 1 Axes>"
      ]
     },
     "metadata": {
      "needs_background": "light"
     },
     "output_type": "display_data"
    }
   ],
   "source": [
    "fig_days = plt.figure()\n",
    "axes_days = fig_days.add_axes([0, 0, 1, 1])\n",
    "#axes_days.set_ylim(0.7, 1)\n",
    "axes_days.bar(x = df.query('arrival_city == \"Belgorod\"')['days_full'].value_counts().index, height = df.query('arrival_city == \"Belgorod\"')['days_full'].value_counts().values, \n",
    "                width = 0.2, align = 'edge', label = 'Full')\n",
    "axes_days.bar(x = df.query('arrival_city == \"Belgorod\"')['days_not_full'].value_counts().index, height = df.query('arrival_city == \"Belgorod\"')['days_not_full'].value_counts().values, \n",
    "                width = -0.2, align = 'edge', label = 'Not full')\n",
    "axes_days.legend(loc = 1)"
   ]
  },
  {
   "cell_type": "code",
   "execution_count": 269,
   "metadata": {},
   "outputs": [
    {
     "data": {
      "text/plain": [
       "Tuesday      14\n",
       "Wednesday    12\n",
       "Saturday     11\n",
       "Friday       11\n",
       "Thursday     10\n",
       "Monday       10\n",
       "Sunday        9\n",
       "Name: days_full, dtype: int64"
      ]
     },
     "execution_count": 269,
     "metadata": {},
     "output_type": "execute_result"
    }
   ],
   "source": [
    "df['days_full'].value_counts()"
   ]
  },
  {
   "cell_type": "code",
   "execution_count": 275,
   "metadata": {},
   "outputs": [
    {
     "data": {
      "text/plain": [
       "<matplotlib.legend.Legend at 0x2597c95cc70>"
      ]
     },
     "execution_count": 275,
     "metadata": {},
     "output_type": "execute_result"
    },
    {
     "data": {
      "image/png": "[encoded data removed]",
      "text/plain": [
       "<Figure size 432x288 with 1 Axes>"
      ]
     },
     "metadata": {
      "needs_background": "light"
     },
     "output_type": "display_data"
    }
   ],
   "source": [
    "fig_perc_mn = plt.figure()\n",
    "axes_perc_mn = fig_perc_mn.add_axes([0,0,1,1])\n",
    "#axes_perc_mn.bar(perc_mean_M, label = 'Moscow') \n",
    "#axes_perc_mn.bar(perc_mean_B, label = 'Belgorod')\n",
    "axes_perc_mn.bar(x = df.query('arrival_city == \"Moscow\"')['arrival_city'], height = perc_mean_M, label = 'Moscow')\n",
    "axes_perc_mn.bar(x = df.query('arrival_city == \"Belgorod\"')['arrival_city'], height = perc_mean_B, \n",
    "                 label = 'Belgorod')\n",
    "axes_perc_mn.set_ylim(0.6, 1)\n",
    "axes_perc_mn.legend(loc=2)"
   ]
  },
  {
   "cell_type": "code",
   "execution_count": 196,
   "metadata": {},
   "outputs": [],
   "source": [
    "perc_mean_M = df.query('arrival_city == \"Moscow\"')['perc_sold'].mean()"
   ]
  },
  {
   "cell_type": "code",
   "execution_count": 197,
   "metadata": {},
   "outputs": [],
   "source": [
    "perc_mean_B = df.query('arrival_city == \"Belgorod\"')['perc_sold'].mean()"
   ]
  },
  {
   "cell_type": "code",
   "execution_count": 184,
   "metadata": {},
   "outputs": [
    {
     "data": {
      "text/plain": [
       "Belgorod        59\n",
       "Moscow          59\n",
       "Novokuznetsk     9\n",
       "Name: arrival_city, dtype: int64"
      ]
     },
     "execution_count": 184,
     "metadata": {},
     "output_type": "execute_result"
    }
   ],
   "source": [
    "df['arrival_city'].value_counts()"
   ]
  },
  {
   "cell_type": "code",
   "execution_count": 188,
   "metadata": {},
   "outputs": [],
   "source": [
    "df['perc_bus_sold'] = df['business_sold'] / (df['economy_sold']+df['business_sold'])"
   ]
  },
  {
   "cell_type": "code",
   "execution_count": 189,
   "metadata": {},
   "outputs": [
    {
     "data": {
      "text/plain": [
       "0.09290606759153996"
      ]
     },
     "execution_count": 189,
     "metadata": {},
     "output_type": "execute_result"
    }
   ],
   "source": [
    "df.query('arrival_city == \"Moscow\"')['perc_bus_sold'].mean()"
   ]
  },
  {
   "cell_type": "code",
   "execution_count": 190,
   "metadata": {},
   "outputs": [
    {
     "data": {
      "text/plain": [
       "0.12265048055919431"
      ]
     },
     "execution_count": 190,
     "metadata": {},
     "output_type": "execute_result"
    }
   ],
   "source": [
    "df.query('arrival_city == \"Belgorod\"')['perc_bus_sold'].mean()"
   ]
  },
  {
   "cell_type": "code",
   "execution_count": 191,
   "metadata": {},
   "outputs": [
    {
     "data": {
      "text/plain": [
       "10.508474576271187"
      ]
     },
     "execution_count": 191,
     "metadata": {},
     "output_type": "execute_result"
    }
   ],
   "source": [
    "df.query('arrival_city == \"Moscow\"')['business_sold'].mean()"
   ]
  },
  {
   "cell_type": "code",
   "execution_count": 192,
   "metadata": {},
   "outputs": [
    {
     "data": {
      "text/plain": [
       "11.067796610169491"
      ]
     },
     "execution_count": 192,
     "metadata": {},
     "output_type": "execute_result"
    }
   ],
   "source": [
    "df.query('arrival_city == \"Belgorod\"')['business_sold'].mean()"
   ]
  },
  {
   "cell_type": "code",
   "execution_count": null,
   "metadata": {},
   "outputs": [],
   "source": []
  }
 ],
 "metadata": {
  "kernelspec": {
   "display_name": "Python 3",
   "language": "python",
   "name": "python3"
  },
  "language_info": {
   "codemirror_mode": {
    "name": "ipython",
    "version": 3
   },
   "file_extension": ".py",
   "mimetype": "text/x-python",
   "name": "python",
   "nbconvert_exporter": "python",
   "pygments_lexer": "ipython3",
   "version": "3.8.5"
  }
 },
 "nbformat": 4,
 "nbformat_minor": 4
}
