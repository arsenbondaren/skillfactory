{
 "cells": [
  {
   "cell_type": "markdown",
   "metadata": {},
   "source": [
    "# Анализ и совершенствование датасета загруженного из базы данных посредством SQL, с целью выявления наименее прибыльных рейсов в зимнее время из г. Анапа."
   ]
  },
  {
   "cell_type": "code",
   "execution_count": 471,
   "metadata": {},
   "outputs": [],
   "source": [
    "import pandas as pd\n",
    "import numpy as np\n",
    "import math\n",
    "import matplotlib.pyplot as plt\n",
    "from datetime import datetime, timedelta\n",
    "%matplotlib inline\n",
    "pd.set_option('display.max_columns', 50)"
   ]
  },
  {
   "cell_type": "code",
   "execution_count": 472,
   "metadata": {},
   "outputs": [],
   "source": [
    "df = pd.read_csv('airlines_anapa.csv')"
   ]
  },
  {
   "cell_type": "code",
   "execution_count": 473,
   "metadata": {},
   "outputs": [
    {
     "name": "stdout",
     "output_type": "stream",
     "text": [
      "<class 'pandas.core.frame.DataFrame'>\n",
      "RangeIndex: 127 entries, 0 to 126\n",
      "Data columns (total 23 columns):\n",
      " #   Column               Non-Null Count  Dtype  \n",
      "---  ------               --------------  -----  \n",
      " 0   flight_id            127 non-null    int64  \n",
      " 1   departure            127 non-null    object \n",
      " 2   arrival              127 non-null    object \n",
      " 3   departure_airport    127 non-null    object \n",
      " 4   arrival_airport      127 non-null    object \n",
      " 5   aircraft_code        127 non-null    object \n",
      " 6   economy_sold         118 non-null    float64\n",
      " 7   comfort_sold         0 non-null      float64\n",
      " 8   business_sold        118 non-null    float64\n",
      " 9   price_eco_sold       118 non-null    float64\n",
      " 10  price_bus_sold       118 non-null    float64\n",
      " 11  price_total          118 non-null    float64\n",
      " 12  aircraft_model       127 non-null    object \n",
      " 13  aircraft_range       127 non-null    int64  \n",
      " 14  amount_eco_seats     127 non-null    int64  \n",
      " 15  amount_bus_seats     127 non-null    int64  \n",
      " 16  total_seats          127 non-null    int64  \n",
      " 17  total_booking_price  118 non-null    float64\n",
      " 18  arrival_city         127 non-null    object \n",
      " 19  airport_longitude    127 non-null    float64\n",
      " 20  airport_latitude     127 non-null    float64\n",
      " 21  anapa_long           127 non-null    float64\n",
      " 22  anapa_lat            127 non-null    float64\n",
      "dtypes: float64(11), int64(5), object(7)\n",
      "memory usage: 22.9+ KB\n"
     ]
    }
   ],
   "source": [
    "df.info()"
   ]
  },
  {
   "cell_type": "markdown",
   "metadata": {},
   "source": [
    "Видим один столбец содержит только Nan значения, удалим его. Также видим что часть столбцов имеет 9 Nan значениц, это все столбцы содержащие значения о проданных билетах, видимо о части рейсов нет данных по проданным билетам."
   ]
  },
  {
   "cell_type": "code",
   "execution_count": 474,
   "metadata": {},
   "outputs": [],
   "source": [
    "df = df.drop(columns=['comfort_sold'])"
   ]
  },
  {
   "cell_type": "code",
   "execution_count": 475,
   "metadata": {},
   "outputs": [
    {
     "data": {
      "text/html": [
       "<div>\n",
       "<style scoped>\n",
       "    .dataframe tbody tr th:only-of-type {\n",
       "        vertical-align: middle;\n",
       "    }\n",
       "\n",
       "    .dataframe tbody tr th {\n",
       "        vertical-align: top;\n",
       "    }\n",
       "\n",
       "    .dataframe thead th {\n",
       "        text-align: right;\n",
       "    }\n",
       "</style>\n",
       "<table border=\"1\" class=\"dataframe\">\n",
       "  <thead>\n",
       "    <tr style=\"text-align: right;\">\n",
       "      <th></th>\n",
       "      <th>flight_id</th>\n",
       "      <th>departure</th>\n",
       "      <th>arrival</th>\n",
       "      <th>departure_airport</th>\n",
       "      <th>arrival_airport</th>\n",
       "      <th>aircraft_code</th>\n",
       "      <th>economy_sold</th>\n",
       "      <th>business_sold</th>\n",
       "      <th>price_eco_sold</th>\n",
       "      <th>price_bus_sold</th>\n",
       "      <th>price_total</th>\n",
       "      <th>aircraft_model</th>\n",
       "      <th>aircraft_range</th>\n",
       "      <th>amount_eco_seats</th>\n",
       "      <th>amount_bus_seats</th>\n",
       "      <th>total_seats</th>\n",
       "      <th>total_booking_price</th>\n",
       "      <th>arrival_city</th>\n",
       "      <th>airport_longitude</th>\n",
       "      <th>airport_latitude</th>\n",
       "      <th>anapa_long</th>\n",
       "      <th>anapa_lat</th>\n",
       "    </tr>\n",
       "  </thead>\n",
       "  <tbody>\n",
       "    <tr>\n",
       "      <th>121</th>\n",
       "      <td>136758</td>\n",
       "      <td>2017-01-12T09:25:00Z</td>\n",
       "      <td>2017-01-12T10:15:00Z</td>\n",
       "      <td>AAQ</td>\n",
       "      <td>EGO</td>\n",
       "      <td>SU9</td>\n",
       "      <td>85.0</td>\n",
       "      <td>12.0</td>\n",
       "      <td>538500.0</td>\n",
       "      <td>226800.0</td>\n",
       "      <td>765300.0</td>\n",
       "      <td>Sukhoi Superjet-100</td>\n",
       "      <td>3000</td>\n",
       "      <td>85</td>\n",
       "      <td>12</td>\n",
       "      <td>97</td>\n",
       "      <td>4638600.0</td>\n",
       "      <td>Belgorod</td>\n",
       "      <td>36.590099</td>\n",
       "      <td>50.643799</td>\n",
       "      <td>37.347301</td>\n",
       "      <td>45.002102</td>\n",
       "    </tr>\n",
       "    <tr>\n",
       "      <th>98</th>\n",
       "      <td>136436</td>\n",
       "      <td>2017-01-26T10:05:00Z</td>\n",
       "      <td>2017-01-26T11:45:00Z</td>\n",
       "      <td>AAQ</td>\n",
       "      <td>SVO</td>\n",
       "      <td>733</td>\n",
       "      <td>112.0</td>\n",
       "      <td>12.0</td>\n",
       "      <td>1372400.0</td>\n",
       "      <td>439200.0</td>\n",
       "      <td>1811600.0</td>\n",
       "      <td>Boeing 737-300</td>\n",
       "      <td>4200</td>\n",
       "      <td>118</td>\n",
       "      <td>12</td>\n",
       "      <td>130</td>\n",
       "      <td>6990900.0</td>\n",
       "      <td>Moscow</td>\n",
       "      <td>37.414600</td>\n",
       "      <td>55.972599</td>\n",
       "      <td>37.347301</td>\n",
       "      <td>45.002102</td>\n",
       "    </tr>\n",
       "    <tr>\n",
       "      <th>78</th>\n",
       "      <td>136452</td>\n",
       "      <td>2017-02-17T10:05:00Z</td>\n",
       "      <td>2017-02-17T11:45:00Z</td>\n",
       "      <td>AAQ</td>\n",
       "      <td>SVO</td>\n",
       "      <td>733</td>\n",
       "      <td>98.0</td>\n",
       "      <td>11.0</td>\n",
       "      <td>1200400.0</td>\n",
       "      <td>402600.0</td>\n",
       "      <td>1603000.0</td>\n",
       "      <td>Boeing 737-300</td>\n",
       "      <td>4200</td>\n",
       "      <td>118</td>\n",
       "      <td>12</td>\n",
       "      <td>130</td>\n",
       "      <td>7062300.0</td>\n",
       "      <td>Moscow</td>\n",
       "      <td>37.414600</td>\n",
       "      <td>55.972599</td>\n",
       "      <td>37.347301</td>\n",
       "      <td>45.002102</td>\n",
       "    </tr>\n",
       "    <tr>\n",
       "      <th>10</th>\n",
       "      <td>136540</td>\n",
       "      <td>2017-01-17T06:10:00Z</td>\n",
       "      <td>2017-01-17T11:15:00Z</td>\n",
       "      <td>AAQ</td>\n",
       "      <td>NOZ</td>\n",
       "      <td>733</td>\n",
       "      <td>NaN</td>\n",
       "      <td>NaN</td>\n",
       "      <td>NaN</td>\n",
       "      <td>NaN</td>\n",
       "      <td>NaN</td>\n",
       "      <td>Boeing 737-300</td>\n",
       "      <td>4200</td>\n",
       "      <td>118</td>\n",
       "      <td>12</td>\n",
       "      <td>130</td>\n",
       "      <td>NaN</td>\n",
       "      <td>Novokuznetsk</td>\n",
       "      <td>86.877197</td>\n",
       "      <td>53.811401</td>\n",
       "      <td>37.347301</td>\n",
       "      <td>45.002102</td>\n",
       "    </tr>\n",
       "    <tr>\n",
       "      <th>48</th>\n",
       "      <td>136953</td>\n",
       "      <td>2017-02-27T09:25:00Z</td>\n",
       "      <td>2017-02-27T10:15:00Z</td>\n",
       "      <td>AAQ</td>\n",
       "      <td>EGO</td>\n",
       "      <td>SU9</td>\n",
       "      <td>85.0</td>\n",
       "      <td>12.0</td>\n",
       "      <td>538500.0</td>\n",
       "      <td>226800.0</td>\n",
       "      <td>765300.0</td>\n",
       "      <td>Sukhoi Superjet-100</td>\n",
       "      <td>3000</td>\n",
       "      <td>85</td>\n",
       "      <td>12</td>\n",
       "      <td>97</td>\n",
       "      <td>4719200.0</td>\n",
       "      <td>Belgorod</td>\n",
       "      <td>36.590099</td>\n",
       "      <td>50.643799</td>\n",
       "      <td>37.347301</td>\n",
       "      <td>45.002102</td>\n",
       "    </tr>\n",
       "    <tr>\n",
       "      <th>59</th>\n",
       "      <td>136172</td>\n",
       "      <td>2017-01-15T10:05:00Z</td>\n",
       "      <td>2017-01-15T11:45:00Z</td>\n",
       "      <td>AAQ</td>\n",
       "      <td>SVO</td>\n",
       "      <td>733</td>\n",
       "      <td>99.0</td>\n",
       "      <td>11.0</td>\n",
       "      <td>1215000.0</td>\n",
       "      <td>402600.0</td>\n",
       "      <td>1617600.0</td>\n",
       "      <td>Boeing 737-300</td>\n",
       "      <td>4200</td>\n",
       "      <td>118</td>\n",
       "      <td>12</td>\n",
       "      <td>130</td>\n",
       "      <td>6593200.0</td>\n",
       "      <td>Moscow</td>\n",
       "      <td>37.414600</td>\n",
       "      <td>55.972599</td>\n",
       "      <td>37.347301</td>\n",
       "      <td>45.002102</td>\n",
       "    </tr>\n",
       "    <tr>\n",
       "      <th>22</th>\n",
       "      <td>136605</td>\n",
       "      <td>2017-02-15T09:25:00Z</td>\n",
       "      <td>2017-02-15T10:15:00Z</td>\n",
       "      <td>AAQ</td>\n",
       "      <td>EGO</td>\n",
       "      <td>SU9</td>\n",
       "      <td>85.0</td>\n",
       "      <td>12.0</td>\n",
       "      <td>538500.0</td>\n",
       "      <td>226800.0</td>\n",
       "      <td>765300.0</td>\n",
       "      <td>Sukhoi Superjet-100</td>\n",
       "      <td>3000</td>\n",
       "      <td>85</td>\n",
       "      <td>12</td>\n",
       "      <td>97</td>\n",
       "      <td>5066800.0</td>\n",
       "      <td>Belgorod</td>\n",
       "      <td>36.590099</td>\n",
       "      <td>50.643799</td>\n",
       "      <td>37.347301</td>\n",
       "      <td>45.002102</td>\n",
       "    </tr>\n",
       "    <tr>\n",
       "      <th>40</th>\n",
       "      <td>136654</td>\n",
       "      <td>2017-01-19T09:25:00Z</td>\n",
       "      <td>2017-01-19T10:15:00Z</td>\n",
       "      <td>AAQ</td>\n",
       "      <td>EGO</td>\n",
       "      <td>SU9</td>\n",
       "      <td>84.0</td>\n",
       "      <td>12.0</td>\n",
       "      <td>532200.0</td>\n",
       "      <td>226800.0</td>\n",
       "      <td>759000.0</td>\n",
       "      <td>Sukhoi Superjet-100</td>\n",
       "      <td>3000</td>\n",
       "      <td>85</td>\n",
       "      <td>12</td>\n",
       "      <td>97</td>\n",
       "      <td>4569700.0</td>\n",
       "      <td>Belgorod</td>\n",
       "      <td>36.590099</td>\n",
       "      <td>50.643799</td>\n",
       "      <td>37.347301</td>\n",
       "      <td>45.002102</td>\n",
       "    </tr>\n",
       "    <tr>\n",
       "      <th>124</th>\n",
       "      <td>136855</td>\n",
       "      <td>2017-01-11T09:25:00Z</td>\n",
       "      <td>2017-01-11T10:15:00Z</td>\n",
       "      <td>AAQ</td>\n",
       "      <td>EGO</td>\n",
       "      <td>SU9</td>\n",
       "      <td>75.0</td>\n",
       "      <td>12.0</td>\n",
       "      <td>475500.0</td>\n",
       "      <td>226800.0</td>\n",
       "      <td>702300.0</td>\n",
       "      <td>Sukhoi Superjet-100</td>\n",
       "      <td>3000</td>\n",
       "      <td>85</td>\n",
       "      <td>12</td>\n",
       "      <td>97</td>\n",
       "      <td>4491100.0</td>\n",
       "      <td>Belgorod</td>\n",
       "      <td>36.590099</td>\n",
       "      <td>50.643799</td>\n",
       "      <td>37.347301</td>\n",
       "      <td>45.002102</td>\n",
       "    </tr>\n",
       "    <tr>\n",
       "      <th>118</th>\n",
       "      <td>136586</td>\n",
       "      <td>2017-01-10T09:25:00Z</td>\n",
       "      <td>2017-01-10T10:15:00Z</td>\n",
       "      <td>AAQ</td>\n",
       "      <td>EGO</td>\n",
       "      <td>SU9</td>\n",
       "      <td>84.0</td>\n",
       "      <td>12.0</td>\n",
       "      <td>532200.0</td>\n",
       "      <td>226800.0</td>\n",
       "      <td>759000.0</td>\n",
       "      <td>Sukhoi Superjet-100</td>\n",
       "      <td>3000</td>\n",
       "      <td>85</td>\n",
       "      <td>12</td>\n",
       "      <td>97</td>\n",
       "      <td>5530500.0</td>\n",
       "      <td>Belgorod</td>\n",
       "      <td>36.590099</td>\n",
       "      <td>50.643799</td>\n",
       "      <td>37.347301</td>\n",
       "      <td>45.002102</td>\n",
       "    </tr>\n",
       "  </tbody>\n",
       "</table>\n",
       "</div>"
      ],
      "text/plain": [
       "     flight_id             departure               arrival departure_airport  \\\n",
       "121     136758  2017-01-12T09:25:00Z  2017-01-12T10:15:00Z               AAQ   \n",
       "98      136436  2017-01-26T10:05:00Z  2017-01-26T11:45:00Z               AAQ   \n",
       "78      136452  2017-02-17T10:05:00Z  2017-02-17T11:45:00Z               AAQ   \n",
       "10      136540  2017-01-17T06:10:00Z  2017-01-17T11:15:00Z               AAQ   \n",
       "48      136953  2017-02-27T09:25:00Z  2017-02-27T10:15:00Z               AAQ   \n",
       "59      136172  2017-01-15T10:05:00Z  2017-01-15T11:45:00Z               AAQ   \n",
       "22      136605  2017-02-15T09:25:00Z  2017-02-15T10:15:00Z               AAQ   \n",
       "40      136654  2017-01-19T09:25:00Z  2017-01-19T10:15:00Z               AAQ   \n",
       "124     136855  2017-01-11T09:25:00Z  2017-01-11T10:15:00Z               AAQ   \n",
       "118     136586  2017-01-10T09:25:00Z  2017-01-10T10:15:00Z               AAQ   \n",
       "\n",
       "    arrival_airport aircraft_code  economy_sold  business_sold  \\\n",
       "121             EGO           SU9          85.0           12.0   \n",
       "98              SVO           733         112.0           12.0   \n",
       "78              SVO           733          98.0           11.0   \n",
       "10              NOZ           733           NaN            NaN   \n",
       "48              EGO           SU9          85.0           12.0   \n",
       "59              SVO           733          99.0           11.0   \n",
       "22              EGO           SU9          85.0           12.0   \n",
       "40              EGO           SU9          84.0           12.0   \n",
       "124             EGO           SU9          75.0           12.0   \n",
       "118             EGO           SU9          84.0           12.0   \n",
       "\n",
       "     price_eco_sold  price_bus_sold  price_total       aircraft_model  \\\n",
       "121        538500.0        226800.0     765300.0  Sukhoi Superjet-100   \n",
       "98        1372400.0        439200.0    1811600.0       Boeing 737-300   \n",
       "78        1200400.0        402600.0    1603000.0       Boeing 737-300   \n",
       "10              NaN             NaN          NaN       Boeing 737-300   \n",
       "48         538500.0        226800.0     765300.0  Sukhoi Superjet-100   \n",
       "59        1215000.0        402600.0    1617600.0       Boeing 737-300   \n",
       "22         538500.0        226800.0     765300.0  Sukhoi Superjet-100   \n",
       "40         532200.0        226800.0     759000.0  Sukhoi Superjet-100   \n",
       "124        475500.0        226800.0     702300.0  Sukhoi Superjet-100   \n",
       "118        532200.0        226800.0     759000.0  Sukhoi Superjet-100   \n",
       "\n",
       "     aircraft_range  amount_eco_seats  amount_bus_seats  total_seats  \\\n",
       "121            3000                85                12           97   \n",
       "98             4200               118                12          130   \n",
       "78             4200               118                12          130   \n",
       "10             4200               118                12          130   \n",
       "48             3000                85                12           97   \n",
       "59             4200               118                12          130   \n",
       "22             3000                85                12           97   \n",
       "40             3000                85                12           97   \n",
       "124            3000                85                12           97   \n",
       "118            3000                85                12           97   \n",
       "\n",
       "     total_booking_price  arrival_city  airport_longitude  airport_latitude  \\\n",
       "121            4638600.0      Belgorod          36.590099         50.643799   \n",
       "98             6990900.0        Moscow          37.414600         55.972599   \n",
       "78             7062300.0        Moscow          37.414600         55.972599   \n",
       "10                   NaN  Novokuznetsk          86.877197         53.811401   \n",
       "48             4719200.0      Belgorod          36.590099         50.643799   \n",
       "59             6593200.0        Moscow          37.414600         55.972599   \n",
       "22             5066800.0      Belgorod          36.590099         50.643799   \n",
       "40             4569700.0      Belgorod          36.590099         50.643799   \n",
       "124            4491100.0      Belgorod          36.590099         50.643799   \n",
       "118            5530500.0      Belgorod          36.590099         50.643799   \n",
       "\n",
       "     anapa_long  anapa_lat  \n",
       "121   37.347301  45.002102  \n",
       "98    37.347301  45.002102  \n",
       "78    37.347301  45.002102  \n",
       "10    37.347301  45.002102  \n",
       "48    37.347301  45.002102  \n",
       "59    37.347301  45.002102  \n",
       "22    37.347301  45.002102  \n",
       "40    37.347301  45.002102  \n",
       "124   37.347301  45.002102  \n",
       "118   37.347301  45.002102  "
      ]
     },
     "execution_count": 475,
     "metadata": {},
     "output_type": "execute_result"
    }
   ],
   "source": [
    "df.sample(10)"
   ]
  },
  {
   "cell_type": "markdown",
   "metadata": {},
   "source": [
    "Видим что отсутствуют значения по рейсу в Новокузнецк, скорее всего именно по рейсам в Новокузнецк и отсутсвует информация о проданных билетах.\n",
    "Далее преобразуем столбцы с датами вылета и прилёта в формат datetime, чтобы в дальнейшем было удобнее работать."
   ]
  },
  {
   "cell_type": "code",
   "execution_count": 476,
   "metadata": {},
   "outputs": [],
   "source": [
    "df['departure'] = df['departure'].apply(\n",
    "    lambda x: datetime.strptime(x, '%Y-%m-%dT%H:%M:%SZ'))\n",
    "df['arrival'] = df['arrival'].apply(\n",
    "    lambda x: datetime.strptime(x, '%Y-%m-%dT%H:%M:%SZ'))"
   ]
  },
  {
   "cell_type": "markdown",
   "metadata": {},
   "source": [
    "Создадим признак показывающий в какой день недели состоялся рейс."
   ]
  },
  {
   "cell_type": "code",
   "execution_count": 477,
   "metadata": {},
   "outputs": [],
   "source": [
    "def days(x):\n",
    "    return x.strftime('%A')"
   ]
  },
  {
   "cell_type": "code",
   "execution_count": 478,
   "metadata": {},
   "outputs": [],
   "source": [
    "df['days'] = df['departure'].apply(days)"
   ]
  },
  {
   "cell_type": "markdown",
   "metadata": {},
   "source": [
    "Посмотрим на информацию по всем рейсам в Новокузнецк."
   ]
  },
  {
   "cell_type": "code",
   "execution_count": 479,
   "metadata": {},
   "outputs": [
    {
     "data": {
      "text/html": [
       "<div>\n",
       "<style scoped>\n",
       "    .dataframe tbody tr th:only-of-type {\n",
       "        vertical-align: middle;\n",
       "    }\n",
       "\n",
       "    .dataframe tbody tr th {\n",
       "        vertical-align: top;\n",
       "    }\n",
       "\n",
       "    .dataframe thead th {\n",
       "        text-align: right;\n",
       "    }\n",
       "</style>\n",
       "<table border=\"1\" class=\"dataframe\">\n",
       "  <thead>\n",
       "    <tr style=\"text-align: right;\">\n",
       "      <th></th>\n",
       "      <th>flight_id</th>\n",
       "      <th>departure</th>\n",
       "      <th>arrival</th>\n",
       "      <th>departure_airport</th>\n",
       "      <th>arrival_airport</th>\n",
       "      <th>aircraft_code</th>\n",
       "      <th>economy_sold</th>\n",
       "      <th>business_sold</th>\n",
       "      <th>price_eco_sold</th>\n",
       "      <th>price_bus_sold</th>\n",
       "      <th>price_total</th>\n",
       "      <th>aircraft_model</th>\n",
       "      <th>aircraft_range</th>\n",
       "      <th>amount_eco_seats</th>\n",
       "      <th>amount_bus_seats</th>\n",
       "      <th>total_seats</th>\n",
       "      <th>total_booking_price</th>\n",
       "      <th>arrival_city</th>\n",
       "      <th>airport_longitude</th>\n",
       "      <th>airport_latitude</th>\n",
       "      <th>anapa_long</th>\n",
       "      <th>anapa_lat</th>\n",
       "      <th>days</th>\n",
       "    </tr>\n",
       "  </thead>\n",
       "  <tbody>\n",
       "    <tr>\n",
       "      <th>8</th>\n",
       "      <td>136511</td>\n",
       "      <td>2017-02-21 06:10:00</td>\n",
       "      <td>2017-02-21 11:15:00</td>\n",
       "      <td>AAQ</td>\n",
       "      <td>NOZ</td>\n",
       "      <td>733</td>\n",
       "      <td>NaN</td>\n",
       "      <td>NaN</td>\n",
       "      <td>NaN</td>\n",
       "      <td>NaN</td>\n",
       "      <td>NaN</td>\n",
       "      <td>Boeing 737-300</td>\n",
       "      <td>4200</td>\n",
       "      <td>118</td>\n",
       "      <td>12</td>\n",
       "      <td>130</td>\n",
       "      <td>NaN</td>\n",
       "      <td>Novokuznetsk</td>\n",
       "      <td>86.877197</td>\n",
       "      <td>53.811401</td>\n",
       "      <td>37.347301</td>\n",
       "      <td>45.002102</td>\n",
       "      <td>Tuesday</td>\n",
       "    </tr>\n",
       "    <tr>\n",
       "      <th>9</th>\n",
       "      <td>136523</td>\n",
       "      <td>2017-01-10 06:10:00</td>\n",
       "      <td>2017-01-10 11:15:00</td>\n",
       "      <td>AAQ</td>\n",
       "      <td>NOZ</td>\n",
       "      <td>733</td>\n",
       "      <td>NaN</td>\n",
       "      <td>NaN</td>\n",
       "      <td>NaN</td>\n",
       "      <td>NaN</td>\n",
       "      <td>NaN</td>\n",
       "      <td>Boeing 737-300</td>\n",
       "      <td>4200</td>\n",
       "      <td>118</td>\n",
       "      <td>12</td>\n",
       "      <td>130</td>\n",
       "      <td>NaN</td>\n",
       "      <td>Novokuznetsk</td>\n",
       "      <td>86.877197</td>\n",
       "      <td>53.811401</td>\n",
       "      <td>37.347301</td>\n",
       "      <td>45.002102</td>\n",
       "      <td>Tuesday</td>\n",
       "    </tr>\n",
       "    <tr>\n",
       "      <th>10</th>\n",
       "      <td>136540</td>\n",
       "      <td>2017-01-17 06:10:00</td>\n",
       "      <td>2017-01-17 11:15:00</td>\n",
       "      <td>AAQ</td>\n",
       "      <td>NOZ</td>\n",
       "      <td>733</td>\n",
       "      <td>NaN</td>\n",
       "      <td>NaN</td>\n",
       "      <td>NaN</td>\n",
       "      <td>NaN</td>\n",
       "      <td>NaN</td>\n",
       "      <td>Boeing 737-300</td>\n",
       "      <td>4200</td>\n",
       "      <td>118</td>\n",
       "      <td>12</td>\n",
       "      <td>130</td>\n",
       "      <td>NaN</td>\n",
       "      <td>Novokuznetsk</td>\n",
       "      <td>86.877197</td>\n",
       "      <td>53.811401</td>\n",
       "      <td>37.347301</td>\n",
       "      <td>45.002102</td>\n",
       "      <td>Tuesday</td>\n",
       "    </tr>\n",
       "    <tr>\n",
       "      <th>11</th>\n",
       "      <td>136546</td>\n",
       "      <td>2017-01-03 06:10:00</td>\n",
       "      <td>2017-01-03 11:15:00</td>\n",
       "      <td>AAQ</td>\n",
       "      <td>NOZ</td>\n",
       "      <td>733</td>\n",
       "      <td>NaN</td>\n",
       "      <td>NaN</td>\n",
       "      <td>NaN</td>\n",
       "      <td>NaN</td>\n",
       "      <td>NaN</td>\n",
       "      <td>Boeing 737-300</td>\n",
       "      <td>4200</td>\n",
       "      <td>118</td>\n",
       "      <td>12</td>\n",
       "      <td>130</td>\n",
       "      <td>NaN</td>\n",
       "      <td>Novokuznetsk</td>\n",
       "      <td>86.877197</td>\n",
       "      <td>53.811401</td>\n",
       "      <td>37.347301</td>\n",
       "      <td>45.002102</td>\n",
       "      <td>Tuesday</td>\n",
       "    </tr>\n",
       "    <tr>\n",
       "      <th>38</th>\n",
       "      <td>136560</td>\n",
       "      <td>2017-01-24 06:10:00</td>\n",
       "      <td>2017-01-24 11:15:00</td>\n",
       "      <td>AAQ</td>\n",
       "      <td>NOZ</td>\n",
       "      <td>733</td>\n",
       "      <td>NaN</td>\n",
       "      <td>NaN</td>\n",
       "      <td>NaN</td>\n",
       "      <td>NaN</td>\n",
       "      <td>NaN</td>\n",
       "      <td>Boeing 737-300</td>\n",
       "      <td>4200</td>\n",
       "      <td>118</td>\n",
       "      <td>12</td>\n",
       "      <td>130</td>\n",
       "      <td>NaN</td>\n",
       "      <td>Novokuznetsk</td>\n",
       "      <td>86.877197</td>\n",
       "      <td>53.811401</td>\n",
       "      <td>37.347301</td>\n",
       "      <td>45.002102</td>\n",
       "      <td>Tuesday</td>\n",
       "    </tr>\n",
       "    <tr>\n",
       "      <th>79</th>\n",
       "      <td>136513</td>\n",
       "      <td>2017-02-28 06:10:00</td>\n",
       "      <td>2017-02-28 11:15:00</td>\n",
       "      <td>AAQ</td>\n",
       "      <td>NOZ</td>\n",
       "      <td>733</td>\n",
       "      <td>NaN</td>\n",
       "      <td>NaN</td>\n",
       "      <td>NaN</td>\n",
       "      <td>NaN</td>\n",
       "      <td>NaN</td>\n",
       "      <td>Boeing 737-300</td>\n",
       "      <td>4200</td>\n",
       "      <td>118</td>\n",
       "      <td>12</td>\n",
       "      <td>130</td>\n",
       "      <td>NaN</td>\n",
       "      <td>Novokuznetsk</td>\n",
       "      <td>86.877197</td>\n",
       "      <td>53.811401</td>\n",
       "      <td>37.347301</td>\n",
       "      <td>45.002102</td>\n",
       "      <td>Tuesday</td>\n",
       "    </tr>\n",
       "    <tr>\n",
       "      <th>80</th>\n",
       "      <td>136514</td>\n",
       "      <td>2017-02-07 06:10:00</td>\n",
       "      <td>2017-02-07 11:15:00</td>\n",
       "      <td>AAQ</td>\n",
       "      <td>NOZ</td>\n",
       "      <td>733</td>\n",
       "      <td>NaN</td>\n",
       "      <td>NaN</td>\n",
       "      <td>NaN</td>\n",
       "      <td>NaN</td>\n",
       "      <td>NaN</td>\n",
       "      <td>Boeing 737-300</td>\n",
       "      <td>4200</td>\n",
       "      <td>118</td>\n",
       "      <td>12</td>\n",
       "      <td>130</td>\n",
       "      <td>NaN</td>\n",
       "      <td>Novokuznetsk</td>\n",
       "      <td>86.877197</td>\n",
       "      <td>53.811401</td>\n",
       "      <td>37.347301</td>\n",
       "      <td>45.002102</td>\n",
       "      <td>Tuesday</td>\n",
       "    </tr>\n",
       "    <tr>\n",
       "      <th>81</th>\n",
       "      <td>136567</td>\n",
       "      <td>2017-02-14 06:10:00</td>\n",
       "      <td>2017-02-14 11:15:00</td>\n",
       "      <td>AAQ</td>\n",
       "      <td>NOZ</td>\n",
       "      <td>733</td>\n",
       "      <td>NaN</td>\n",
       "      <td>NaN</td>\n",
       "      <td>NaN</td>\n",
       "      <td>NaN</td>\n",
       "      <td>NaN</td>\n",
       "      <td>Boeing 737-300</td>\n",
       "      <td>4200</td>\n",
       "      <td>118</td>\n",
       "      <td>12</td>\n",
       "      <td>130</td>\n",
       "      <td>NaN</td>\n",
       "      <td>Novokuznetsk</td>\n",
       "      <td>86.877197</td>\n",
       "      <td>53.811401</td>\n",
       "      <td>37.347301</td>\n",
       "      <td>45.002102</td>\n",
       "      <td>Tuesday</td>\n",
       "    </tr>\n",
       "    <tr>\n",
       "      <th>117</th>\n",
       "      <td>136544</td>\n",
       "      <td>2017-01-31 06:10:00</td>\n",
       "      <td>2017-01-31 11:15:00</td>\n",
       "      <td>AAQ</td>\n",
       "      <td>NOZ</td>\n",
       "      <td>733</td>\n",
       "      <td>NaN</td>\n",
       "      <td>NaN</td>\n",
       "      <td>NaN</td>\n",
       "      <td>NaN</td>\n",
       "      <td>NaN</td>\n",
       "      <td>Boeing 737-300</td>\n",
       "      <td>4200</td>\n",
       "      <td>118</td>\n",
       "      <td>12</td>\n",
       "      <td>130</td>\n",
       "      <td>NaN</td>\n",
       "      <td>Novokuznetsk</td>\n",
       "      <td>86.877197</td>\n",
       "      <td>53.811401</td>\n",
       "      <td>37.347301</td>\n",
       "      <td>45.002102</td>\n",
       "      <td>Tuesday</td>\n",
       "    </tr>\n",
       "  </tbody>\n",
       "</table>\n",
       "</div>"
      ],
      "text/plain": [
       "     flight_id           departure             arrival departure_airport  \\\n",
       "8       136511 2017-02-21 06:10:00 2017-02-21 11:15:00               AAQ   \n",
       "9       136523 2017-01-10 06:10:00 2017-01-10 11:15:00               AAQ   \n",
       "10      136540 2017-01-17 06:10:00 2017-01-17 11:15:00               AAQ   \n",
       "11      136546 2017-01-03 06:10:00 2017-01-03 11:15:00               AAQ   \n",
       "38      136560 2017-01-24 06:10:00 2017-01-24 11:15:00               AAQ   \n",
       "79      136513 2017-02-28 06:10:00 2017-02-28 11:15:00               AAQ   \n",
       "80      136514 2017-02-07 06:10:00 2017-02-07 11:15:00               AAQ   \n",
       "81      136567 2017-02-14 06:10:00 2017-02-14 11:15:00               AAQ   \n",
       "117     136544 2017-01-31 06:10:00 2017-01-31 11:15:00               AAQ   \n",
       "\n",
       "    arrival_airport aircraft_code  economy_sold  business_sold  \\\n",
       "8               NOZ           733           NaN            NaN   \n",
       "9               NOZ           733           NaN            NaN   \n",
       "10              NOZ           733           NaN            NaN   \n",
       "11              NOZ           733           NaN            NaN   \n",
       "38              NOZ           733           NaN            NaN   \n",
       "79              NOZ           733           NaN            NaN   \n",
       "80              NOZ           733           NaN            NaN   \n",
       "81              NOZ           733           NaN            NaN   \n",
       "117             NOZ           733           NaN            NaN   \n",
       "\n",
       "     price_eco_sold  price_bus_sold  price_total  aircraft_model  \\\n",
       "8               NaN             NaN          NaN  Boeing 737-300   \n",
       "9               NaN             NaN          NaN  Boeing 737-300   \n",
       "10              NaN             NaN          NaN  Boeing 737-300   \n",
       "11              NaN             NaN          NaN  Boeing 737-300   \n",
       "38              NaN             NaN          NaN  Boeing 737-300   \n",
       "79              NaN             NaN          NaN  Boeing 737-300   \n",
       "80              NaN             NaN          NaN  Boeing 737-300   \n",
       "81              NaN             NaN          NaN  Boeing 737-300   \n",
       "117             NaN             NaN          NaN  Boeing 737-300   \n",
       "\n",
       "     aircraft_range  amount_eco_seats  amount_bus_seats  total_seats  \\\n",
       "8              4200               118                12          130   \n",
       "9              4200               118                12          130   \n",
       "10             4200               118                12          130   \n",
       "11             4200               118                12          130   \n",
       "38             4200               118                12          130   \n",
       "79             4200               118                12          130   \n",
       "80             4200               118                12          130   \n",
       "81             4200               118                12          130   \n",
       "117            4200               118                12          130   \n",
       "\n",
       "     total_booking_price  arrival_city  airport_longitude  airport_latitude  \\\n",
       "8                    NaN  Novokuznetsk          86.877197         53.811401   \n",
       "9                    NaN  Novokuznetsk          86.877197         53.811401   \n",
       "10                   NaN  Novokuznetsk          86.877197         53.811401   \n",
       "11                   NaN  Novokuznetsk          86.877197         53.811401   \n",
       "38                   NaN  Novokuznetsk          86.877197         53.811401   \n",
       "79                   NaN  Novokuznetsk          86.877197         53.811401   \n",
       "80                   NaN  Novokuznetsk          86.877197         53.811401   \n",
       "81                   NaN  Novokuznetsk          86.877197         53.811401   \n",
       "117                  NaN  Novokuznetsk          86.877197         53.811401   \n",
       "\n",
       "     anapa_long  anapa_lat     days  \n",
       "8     37.347301  45.002102  Tuesday  \n",
       "9     37.347301  45.002102  Tuesday  \n",
       "10    37.347301  45.002102  Tuesday  \n",
       "11    37.347301  45.002102  Tuesday  \n",
       "38    37.347301  45.002102  Tuesday  \n",
       "79    37.347301  45.002102  Tuesday  \n",
       "80    37.347301  45.002102  Tuesday  \n",
       "81    37.347301  45.002102  Tuesday  \n",
       "117   37.347301  45.002102  Tuesday  "
      ]
     },
     "execution_count": 479,
     "metadata": {},
     "output_type": "execute_result"
    }
   ],
   "source": [
    "df.query('arrival_city == \"Novokuznetsk\"')"
   ]
  },
  {
   "cell_type": "markdown",
   "metadata": {},
   "source": [
    "Действительно, оказывается что по всем рейсам в Новокузнецк нет информации о билетах. Также замечаем что рейсы есть только по вторникам."
   ]
  },
  {
   "cell_type": "markdown",
   "metadata": {},
   "source": [
    "Далее дополним датасет данными, которые невозможно получить на основе имеющихся."
   ]
  },
  {
   "cell_type": "markdown",
   "metadata": {},
   "source": [
    "# Дополнительные данные, которые отсутсвовали в базе\n",
    "## Расход топлива\n",
    "Для оценки расхода топлива в пассажирских самолетах приоритетным показателем является грамм/пасс-км, т.к. позволяет точнее рассчитать расход в зависимости от кол-ва пассажиров. Однако такой показатель есть не для каждого самолета, поэтому другим, более универсальным, является показатель кг/час. Он показывает сколько кг топлива расходует самолет на крейсерской скорости в час, является менее точным т.к. не учитывает загруженность самолета, однако представлен в характеристике для каждого судна. \n",
    "В наших данных при перевозках используются две модели самолетов: boeing и sukhoi. Для боинга есть все данные по расходу топлива, а для российской модели только расход кг/час. Таким образом я принял решение посчитать для боинга расход по 2 показателям для каждого рейса и взять среднее, а для \"сухого\" только по кг/час.\n",
    "## Цена топлива\n",
    "Цены на авиатопливо отличаются в зависимости от региона и аэропорта. Данные получены на сайте росавиации по состоянию на февраль 2017 года для аэропорта Анапы. 2017 год взят т.к. анализируются рейсы 2017 года."
   ]
  },
  {
   "cell_type": "code",
   "execution_count": 480,
   "metadata": {},
   "outputs": [],
   "source": [
    "fuel_per_pas = {'boeing': 26, 'sukhoi': None}  # gramm per passenger per 1 km\n",
    "fuel_per_hour = {'boeing': 2.4, 'sukhoi': 1.7}  # ton per hour\n",
    "fuel_price = 49700  # Цена за тонну топлива в аэропорту Анапы в 2017г"
   ]
  },
  {
   "cell_type": "markdown",
   "metadata": {},
   "source": [
    "# Рассчёт дополнительных показателей на основе найденых новых \n",
    "## Длина перелёта\n",
    "Для рассчета длины перелёта применяется функция, принимающая данные широты и долготы двух точек,и учитывает радиус земли. Найдена при помощи гугл."
   ]
  },
  {
   "cell_type": "code",
   "execution_count": 481,
   "metadata": {},
   "outputs": [],
   "source": [
    "def distanceBetweenKm(lat1, lon1, lat2, lon2):\n",
    "    dLat = math.radians(lat2-lat1)\n",
    "    dLon = math.radians(lon2-lon1)\n",
    "\n",
    "    lat1 = math.radians(lat1)\n",
    "    lat2 = math.radians(lat2)\n",
    "\n",
    "    a = math.sin(dLat/2)**2 + math.sin(dLon/2)**2 * \\\n",
    "        math.cos(lat1) * math.cos(lat2)\n",
    "    c = 2 * math.atan2(math.sqrt(a), math.sqrt(1-a))\n",
    "    return round(c * 6371, 0)  # multiply by 100k to get distance in cm"
   ]
  },
  {
   "cell_type": "code",
   "execution_count": 482,
   "metadata": {},
   "outputs": [],
   "source": [
    "df['flight_distance'] = df.apply(\n",
    "    lambda x: distanceBetweenKm(x['anapa_lat'], x['anapa_long'], x['airport_latitude'], x['airport_longitude']), axis=1)"
   ]
  },
  {
   "cell_type": "markdown",
   "metadata": {},
   "source": [
    "## Стоимость топлива на перелёт\n",
    "На определенный рейс, заправляя самолет учитывают:\n",
    "1. Топливо необходимое для преодоления расстояния до аэропорта назначении. \n",
    "2. Топливо для полета от аэропорта назначение до запасного аэродрома.\n",
    "3. Горючее для ожидания посадки в течение 30 минут на малой высоте.\n",
    "4. Надбавка 5% на непредвиденные обстоятельства.\n",
    "\n",
    "На основании этих данных принято решение, в функции для рассчёта стоимости топлива на рейс, к количеству топлива необходимого непосредственно на перелёт из одного аэропорта в другой, прибавлять еще 15% на все остальные случаи.\n",
    "В процессе исследования данных было обнаружено, что по перелётам в Новокузнецк отсутсвуют данные о проданных билетах. Было решено за основу взять среднюю заполняемость других рейсов по вторникам, чтобы рассчитать расход на основе двух формул.\n",
    "Для рейсов на судне \"боинг\" стоимость рассчитывется по двум показателям (\"кг/час\", \"гр/пасс-км\") и берется среднее, как говорилось выше. \n",
    "Для рейсов на российском судне \"суперджет сухой\" стоимость рассчитывалась только по показателю \"кг/час\"."
   ]
  },
  {
   "cell_type": "code",
   "execution_count": 483,
   "metadata": {},
   "outputs": [],
   "source": [
    "df['flight_lasts_min'] = df['arrival']-df['departure']\n",
    "df['flight_lasts_min'] = df['flight_lasts_min'].apply(lambda x: x.seconds/60)"
   ]
  },
  {
   "cell_type": "code",
   "execution_count": 484,
   "metadata": {},
   "outputs": [],
   "source": [
    "df['perc_sold'] = (df['economy_sold'] +\n",
    "                   df['business_sold']) / df['total_seats']\n",
    "# Средняя заполняемость самолетов по вторникам\n",
    "mean_perc_sold_tuesday = df.query('days==\"Tuesday\"')['perc_sold'].mean()\n",
    "df['perc_sold'] = df['perc_sold'].apply(\n",
    "    lambda x: mean_perc_sold_tuesday if pd.isna(x) else x)"
   ]
  },
  {
   "cell_type": "code",
   "execution_count": 485,
   "metadata": {},
   "outputs": [],
   "source": [
    "def count_costs_flight(x):\n",
    "    if x['aircraft_code'] == '733':\n",
    "        if x['arrival_airport'] == 'NOZ':\n",
    "            v = x['perc_sold'] * x['total_seats'] * x['flight_distance'] * \\\n",
    "                fuel_per_pas['boeing']/1000000 * \\\n",
    "                fuel_price  # расход топлива по показателю гр/пасс-км\n",
    "            # расход топлива по показателю кг/час\n",
    "            n = (fuel_per_hour['boeing']/60) * \\\n",
    "                x['flight_lasts_min'] * fuel_price\n",
    "            return round(((n+v)/2)*1.15, 0)\n",
    "        else:\n",
    "            p = (x['economy_sold']+x['business_sold']) * \\\n",
    "                x['flight_distance'] * fuel_per_pas['boeing']/1000000 * fuel_price\n",
    "            h = (fuel_per_hour['boeing']/60) * \\\n",
    "                x['flight_lasts_min'] * fuel_price\n",
    "            return round(((p + h)/2)*1.15, 0)\n",
    "    if x['aircraft_code'] == 'SU9':\n",
    "        s = (fuel_per_hour['sukhoi']/60) * x['flight_lasts_min'] * fuel_price\n",
    "        return round(s*1.15, 0)"
   ]
  },
  {
   "cell_type": "code",
   "execution_count": 486,
   "metadata": {},
   "outputs": [],
   "source": [
    "df['flight_costs'] = df.apply((lambda x: count_costs_flight(x)), axis=1)"
   ]
  },
  {
   "cell_type": "markdown",
   "metadata": {},
   "source": [
    "# Прибыльность\n",
    "Рассчитаем прибыль по каждому рейсу как разницу между ценой всех проданных билетов и стоимости заправки топлива на перелет"
   ]
  },
  {
   "cell_type": "code",
   "execution_count": 487,
   "metadata": {},
   "outputs": [],
   "source": [
    "df['revenue'] = df['price_total'] - df['flight_costs']"
   ]
  },
  {
   "cell_type": "markdown",
   "metadata": {},
   "source": [
    "# Визуализация\n",
    "Далее построим несколько графиков для более наглядного анализа прибыльных и менее прибыльных рейсов"
   ]
  },
  {
   "cell_type": "code",
   "execution_count": 488,
   "metadata": {},
   "outputs": [],
   "source": [
    "df_M = df.query('arrival_city == \"Moscow\"').sort_values(by=['departure'])\n",
    "df_B = df.query('arrival_city == \"Belgorod\"').sort_values(by=['departure'])\n",
    "df_N = df.query('arrival_city == \"Novokuznetsk\"').sort_values(by=['departure'])"
   ]
  },
  {
   "cell_type": "markdown",
   "metadata": {},
   "source": [
    "## Прибыльность в зависимости от города назначения"
   ]
  },
  {
   "cell_type": "code",
   "execution_count": 489,
   "metadata": {},
   "outputs": [
    {
     "data": {
      "text/plain": [
       "<matplotlib.legend.Legend at 0x25902cd2c40>"
      ]
     },
     "execution_count": 489,
     "metadata": {},
     "output_type": "execute_result"
    },
    {
     "data": {
      "image/png": "[encoded data removed]",
      "text/plain": [
       "<Figure size 432x288 with 1 Axes>"
      ]
     },
     "metadata": {
      "needs_background": "light"
     },
     "output_type": "display_data"
    }
   ],
   "source": [
    "fig = plt.figure()\n",
    "axes = fig.add_axes([0, 0, 1, 1])\n",
    "axes.set_ylim(0.4e+6, 1.9e+6)\n",
    "axes.plot(df_M['departure'], df_M['revenue'], label='Moscow')\n",
    "axes.plot(df_B['departure'], df_B['revenue'], label='Belgorod')\n",
    "#axes.plot(df_N['departure'], df_N['revenue'], label = 'Novokuznetsk')\n",
    "axes.legend(loc=1)"
   ]
  },
  {
   "cell_type": "markdown",
   "metadata": {},
   "source": [
    "Очевидно, что Московское направление на порядок прибыльнее Белгорода. На данном графике представлено только 2 города: Москва и Белгород т.к. данных по билетам в Новокузнецк нет, принято решение не использовать искаженные данные, возможно кто-то другой сможет их найти и достроить верный график."
   ]
  },
  {
   "cell_type": "markdown",
   "metadata": {},
   "source": [
    "# Далее график расходов на рейсы в разные города"
   ]
  },
  {
   "cell_type": "code",
   "execution_count": 490,
   "metadata": {},
   "outputs": [
    {
     "data": {
      "text/plain": [
       "<matplotlib.legend.Legend at 0x25902cdd7f0>"
      ]
     },
     "execution_count": 490,
     "metadata": {},
     "output_type": "execute_result"
    },
    {
     "data": {
      "image/png": "[encoded data removed]",
      "text/plain": [
       "<Figure size 432x288 with 1 Axes>"
      ]
     },
     "metadata": {
      "needs_background": "light"
     },
     "output_type": "display_data"
    }
   ],
   "source": [
    "fig_cost = plt.figure()\n",
    "axes_cost = fig_cost.add_axes([0, 0, 1, 1])\n",
    "axes_cost.set_ylim(0, 9e+5)\n",
    "axes_cost.plot(df_M['departure'], df_M['flight_costs'], label='Moscow costs')\n",
    "axes_cost.plot(df_B['departure'], df_B['flight_costs'], label='Belgorod costs')\n",
    "axes_cost.plot(df_N['departure'], df_N['flight_costs'],\n",
    "               label='Novokuznetsk costs')\n",
    "axes_cost.legend(loc=1)"
   ]
  },
  {
   "cell_type": "markdown",
   "metadata": {},
   "source": [
    "Видим что рейсы в Новокузнецк с большим отрывом самые дорогие. Полёты в белгород дешевле Москвы в 2 раза и в 7 раз дешевле Новокузнецка. Уже тут можно предположить что Новокузнецк вряд ли будет самым прибыльным. "
   ]
  },
  {
   "cell_type": "markdown",
   "metadata": {},
   "source": [
    "# Заполняемость рейсов по городам в %"
   ]
  },
  {
   "cell_type": "code",
   "execution_count": 491,
   "metadata": {},
   "outputs": [
    {
     "data": {
      "text/plain": [
       "<matplotlib.legend.Legend at 0x2597cb45250>"
      ]
     },
     "execution_count": 491,
     "metadata": {},
     "output_type": "execute_result"
    },
    {
     "data": {
      "image/png": "[encoded data removed]",
      "text/plain": [
       "<Figure size 432x288 with 1 Axes>"
      ]
     },
     "metadata": {
      "needs_background": "light"
     },
     "output_type": "display_data"
    }
   ],
   "source": [
    "fig_perc = plt.figure()\n",
    "axes_perc = fig_perc.add_axes([0, 0, 1, 1])\n",
    "axes_perc.plot(df_M['departure'], df_M['perc_sold'], label='Moscow')\n",
    "axes_perc.plot(df_B['departure'], df_B['perc_sold'], label='Belgorod')\n",
    "axes_perc.plot(df_N['departure'], df_N['perc_sold'], label='Novokuznetsk')\n",
    "axes_perc.legend(loc=3)"
   ]
  },
  {
   "cell_type": "markdown",
   "metadata": {},
   "source": [
    "Все рейсы заполнены в пределах 75-100%, за исключением пары выбросов в Московском направлении. Новокузнецк мы заполнили сами на оснвое двух других городов, отсюда прямая линия.\n",
    "\n",
    "Попробуем визуализировать эти же данные иначе..."
   ]
  },
  {
   "cell_type": "code",
   "execution_count": 492,
   "metadata": {},
   "outputs": [],
   "source": [
    "perc_mean_M = df.query('arrival_city == \"Moscow\"')['perc_sold'].mean()\n",
    "perc_mean_B = df.query('arrival_city == \"Belgorod\"')['perc_sold'].mean()"
   ]
  },
  {
   "cell_type": "code",
   "execution_count": 493,
   "metadata": {},
   "outputs": [
    {
     "data": {
      "text/plain": [
       "<matplotlib.legend.Legend at 0x259011056a0>"
      ]
     },
     "execution_count": 493,
     "metadata": {},
     "output_type": "execute_result"
    },
    {
     "data": {
      "image/png": "[encoded data removed]",
      "text/plain": [
       "<Figure size 432x288 with 1 Axes>"
      ]
     },
     "metadata": {
      "needs_background": "light"
     },
     "output_type": "display_data"
    }
   ],
   "source": [
    "fig_perc_mn = plt.figure()\n",
    "axes_perc_mn = fig_perc_mn.add_axes([0, 0, 1, 1])\n",
    "axes_perc_mn.bar(x=df.query('arrival_city == \"Moscow\"')[\n",
    "                 'arrival_city'], height=perc_mean_M, label='Moscow')\n",
    "axes_perc_mn.bar(x=df.query('arrival_city == \"Belgorod\"')['arrival_city'], height=perc_mean_B,\n",
    "                 label='Belgorod')\n",
    "axes_perc_mn.set_ylim(0.6, 1)\n",
    "axes_perc_mn.legend(loc=2)"
   ]
  },
  {
   "cell_type": "markdown",
   "metadata": {},
   "source": [
    "Тут уже видно, что в среднем заполняемость на рейсах в Белгород лучше чем на Москву.\n",
    "\n",
    "Далее посмотрим как заполняемость отличается по дням недели."
   ]
  },
  {
   "cell_type": "code",
   "execution_count": 494,
   "metadata": {},
   "outputs": [
    {
     "data": {
      "text/plain": [
       "<matplotlib.legend.Legend at 0x25902f516a0>"
      ]
     },
     "execution_count": 494,
     "metadata": {},
     "output_type": "execute_result"
    },
    {
     "data": {
      "image/png": "[encoded data removed]",
      "text/plain": [
       "<Figure size 432x288 with 1 Axes>"
      ]
     },
     "metadata": {
      "needs_background": "light"
     },
     "output_type": "display_data"
    }
   ],
   "source": [
    "fig_days = plt.figure()\n",
    "axes_days = fig_days.add_axes([0, 0, 1, 1])\n",
    "axes_days.set_ylim(0.8, 1)\n",
    "axes_days.bar(x=df.query('arrival_city not in (\"Novokuznetsk\")').groupby(by=['days'])['perc_sold'].mean().index, height=df.query('arrival_city not in (\"Novokuznetsk\")').groupby(by=['days'])['perc_sold'].mean().values,\n",
    "              width=0.2, align='edge', label='All cities')\n",
    "axes_days.legend(loc=1)"
   ]
  },
  {
   "cell_type": "markdown",
   "metadata": {},
   "source": [
    "Воскресенье и понедельник являются самыми незаполнеными, в остальные дни заполненность рейсов примерно равная. Но это для всех рейсов, интересно какая ситуация для каждого отдельного направления."
   ]
  },
  {
   "cell_type": "markdown",
   "metadata": {},
   "source": [
    "## Заполненность рейсов в Москву по дням недели, в %"
   ]
  },
  {
   "cell_type": "code",
   "execution_count": 495,
   "metadata": {},
   "outputs": [
    {
     "data": {
      "text/plain": [
       "<matplotlib.legend.Legend at 0x25902fbb190>"
      ]
     },
     "execution_count": 495,
     "metadata": {},
     "output_type": "execute_result"
    },
    {
     "data": {
      "image/png": "[encoded data removed]",
      "text/plain": [
       "<Figure size 432x288 with 1 Axes>"
      ]
     },
     "metadata": {
      "needs_background": "light"
     },
     "output_type": "display_data"
    }
   ],
   "source": [
    "fig_days = plt.figure()\n",
    "axes_days = fig_days.add_axes([0, 0, 1, 1])\n",
    "axes_days.set_ylim(0.7, 1)\n",
    "axes_days.bar(x=df.query('arrival_city == \"Moscow\"').groupby(by=['days'])['perc_sold'].median().index, height=df.query('arrival_city == \"Moscow\"').groupby(by=['days'])['perc_sold'].median().values,\n",
    "              width=0.4, label='Moscow')\n",
    "axes_days.legend(loc=1)"
   ]
  },
  {
   "cell_type": "markdown",
   "metadata": {},
   "source": [
    "Видим, что в воскресенье и понедельник заполняемость самолета хуже всего, а вот по вторникам наоборот, наивысшая."
   ]
  },
  {
   "cell_type": "markdown",
   "metadata": {},
   "source": [
    "## Заполняемость рейсов в Белгород по дням недели, в %"
   ]
  },
  {
   "cell_type": "code",
   "execution_count": 496,
   "metadata": {},
   "outputs": [
    {
     "data": {
      "text/plain": [
       "<matplotlib.legend.Legend at 0x2590301f220>"
      ]
     },
     "execution_count": 496,
     "metadata": {},
     "output_type": "execute_result"
    },
    {
     "data": {
      "image/png": "[encoded data removed]",
      "text/plain": [
       "<Figure size 432x288 with 1 Axes>"
      ]
     },
     "metadata": {
      "needs_background": "light"
     },
     "output_type": "display_data"
    }
   ],
   "source": [
    "fig_days = plt.figure()\n",
    "axes_days = fig_days.add_axes([0, 0, 1, 1])\n",
    "axes_days.set_ylim(0.8, 1)\n",
    "axes_days.bar(x=df.query('arrival_city == \"Belgorod\"').groupby(by=['days'])['perc_sold'].median().index, height=df.query('arrival_city == \"Belgorod\"').groupby(by=['days'])['perc_sold'].median().values,\n",
    "              width=0.4, label='Belgorod')\n",
    "axes_days.legend(loc=2)"
   ]
  },
  {
   "cell_type": "markdown",
   "metadata": {},
   "source": [
    "На рейсах в Белгород самым незаполненным днем является также воскресенье, хотя в этот день заполняемость все равно составляет около 90%. А вот по четвергам и субботам в Белгород наоборот летает почти полный самолет - более 97%."
   ]
  },
  {
   "cell_type": "markdown",
   "metadata": {},
   "source": [
    "## Дальше посмотрим как заполняемость влияет на прибыльность рейсов по дням, в RUB\n",
    "\n",
    "Первым рассмотрим Московское направление."
   ]
  },
  {
   "cell_type": "code",
   "execution_count": 497,
   "metadata": {},
   "outputs": [],
   "source": [
    "rev_mos_d = df.query('arrival_city==\"Moscow\"').groupby(\n",
    "    by=['days'])['revenue'].median()\n",
    "rev_belg_d = df.query('arrival_city==\"Belgorod\"').groupby(\n",
    "    by=['days'])['revenue'].median()"
   ]
  },
  {
   "cell_type": "code",
   "execution_count": 498,
   "metadata": {},
   "outputs": [
    {
     "data": {
      "text/plain": [
       "<matplotlib.legend.Legend at 0x25903092f10>"
      ]
     },
     "execution_count": 498,
     "metadata": {},
     "output_type": "execute_result"
    },
    {
     "data": {
      "image/png": "[encoded data removed]",
      "text/plain": [
       "<Figure size 432x288 with 1 Axes>"
      ]
     },
     "metadata": {
      "needs_background": "light"
     },
     "output_type": "display_data"
    }
   ],
   "source": [
    "fig_days = plt.figure()\n",
    "axes_days = fig_days.add_axes([0, 0, 1, 1])\n",
    "axes_days.set_ylim(1.2e+6, 1.6e+6)\n",
    "axes_days.bar(x=rev_mos_d.index, height=rev_mos_d.values,\n",
    "              width=0.4, label='Revenue in Moscow by day')\n",
    "axes_days.legend(loc=1)"
   ]
  },
  {
   "cell_type": "markdown",
   "metadata": {},
   "source": [
    "Как и ожидалось, менее заполненные дни оказались и менее прибыльными. По воскресеньям и понедельникам прибыль на рейсах в Москву на 100-150 тыс.руб. меньше чем в другие дни."
   ]
  },
  {
   "cell_type": "markdown",
   "metadata": {},
   "source": [
    "# Белгород"
   ]
  },
  {
   "cell_type": "code",
   "execution_count": 500,
   "metadata": {},
   "outputs": [
    {
     "data": {
      "text/plain": [
       "<matplotlib.legend.Legend at 0x259040d7430>"
      ]
     },
     "execution_count": 500,
     "metadata": {},
     "output_type": "execute_result"
    },
    {
     "data": {
      "image/png": "[encoded data removed]",
      "text/plain": [
       "<Figure size 432x288 with 1 Axes>"
      ]
     },
     "metadata": {
      "needs_background": "light"
     },
     "output_type": "display_data"
    }
   ],
   "source": [
    "fig_days = plt.figure()\n",
    "axes_days = fig_days.add_axes([0, 0, 1, 1])\n",
    "axes_days.set_ylim(5e+5, 7.5e+5)\n",
    "axes_days.bar(x=rev_belg_d.index, height=rev_belg_d.values,\n",
    "              width=0.4, label='Revenue in Belgorod by day')\n",
    "axes_days.legend(loc=1)"
   ]
  },
  {
   "cell_type": "markdown",
   "metadata": {},
   "source": [
    "В Белгород тоже самым неприбыльным днем является воскресенье, хоть и не так ярко выраженно как в Москву."
   ]
  },
  {
   "cell_type": "markdown",
   "metadata": {},
   "source": [
    "# Вывод\n",
    "\n",
    "Таким образом, рассмотрев преимущественно направление на Москву и Белгород, можно сделать вывод, что воскресные рейсы в обоих направлениях являются самыми неприбыльными. В Москву также заметно неприбыльным является рейс по понедельникам. По Новокузнецку какой-то то вывод сделать сложно т.к. отсутсвуют данные по ценам на билеты и по их количеству. Опираясь лишь на примерные данный о расходах на рейс до Новокузнецка могу предположить что он может являться кандидатом на закрытие в зимнее время для компании.\n",
    "Если давать конкретную рекомендацию по закрытию рейсов, исходя из представленного датасета, то это конечно воскресный рейс в Белгород. Однако допускаю что статья расходов по рейсам в Москву гораздо выше, чем расходы на топливо, поэтому и прибыльность по ним в реальности может быть гораздо ниже, а учитывая довольно низкую заполняемость рейсов в Москву по воскресеньям и понедельникам, настоятельно рекомендую руководству компании задуматься о целесообразности полетов в эти дни."
   ]
  },
  {
   "cell_type": "code",
   "execution_count": 513,
   "metadata": {},
   "outputs": [
    {
     "data": {
      "text/plain": [
       "1     136130\n",
       "21    136464\n",
       "32    136226\n",
       "36    136458\n",
       "50    136266\n",
       "52    136403\n",
       "62    136282\n",
       "93    136293\n",
       "94    136322\n",
       "Name: flight_id, dtype: int64"
      ]
     },
     "execution_count": 513,
     "metadata": {},
     "output_type": "execute_result"
    }
   ],
   "source": [
    "df.query('arrival_city==\"Moscow\" and days in (\"Monday\")')['flight_id']"
   ]
  },
  {
   "cell_type": "code",
   "execution_count": 508,
   "metadata": {},
   "outputs": [
    {
     "data": {
      "text/plain": [
       "652251.4285714285"
      ]
     },
     "execution_count": 508,
     "metadata": {},
     "output_type": "execute_result"
    }
   ],
   "source": [
    "df.query('arrival_city==\"Belgorod\"').groupby(\n",
    "    by=['days'])['revenue'].median().mean()"
   ]
  },
  {
   "cell_type": "code",
   "execution_count": null,
   "metadata": {},
   "outputs": [],
   "source": []
  }
 ],
 "metadata": {
  "kernelspec": {
   "display_name": "Python 3",
   "language": "python",
   "name": "python3"
  },
  "language_info": {
   "codemirror_mode": {
    "name": "ipython",
    "version": 3
   },
   "file_extension": ".py",
   "mimetype": "text/x-python",
   "name": "python",
   "nbconvert_exporter": "python",
   "pygments_lexer": "ipython3",
   "version": "3.8.5"
  }
 },
 "nbformat": 4,
 "nbformat_minor": 4
}
