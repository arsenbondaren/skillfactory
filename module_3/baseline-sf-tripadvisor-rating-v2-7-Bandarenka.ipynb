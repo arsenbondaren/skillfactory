{
 "cells": [
  {
   "cell_type": "markdown",
   "metadata": {},
   "source": [
    "![](https://www.pata.org/wp-content/uploads/2014/09/TripAdvisor_Logo-300x119.png)\n",
    "# Predict TripAdvisor Rating\n",
    "## В этом соревновании нам предстоит предсказать рейтинг ресторана в TripAdvisor\n",
    "**По ходу задачи:**\n",
    "* Прокачаем работу с pandas\n",
    "* Научимся работать с Kaggle Notebooks\n",
    "* Поймем как делать предобработку различных данных\n",
    "* Научимся работать с пропущенными данными (Nan)\n",
    "* Познакомимся с различными видами кодирования признаков\n",
    "* Немного попробуем [Feature Engineering](https://ru.wikipedia.org/wiki/Конструирование_признаков) (генерировать новые признаки)\n",
    "* И совсем немного затронем ML\n",
    "* И многое другое...   \n",
    "\n",
    "\n",
    "\n",
    "### И самое важное, все это вы сможете сделать самостоятельно!\n",
    "\n",
    "*Этот Ноутбук являетсся Примером/Шаблоном к этому соревнованию (Baseline) и не служит готовым решением!*   \n",
    "Вы можете использовать его как основу для построения своего решения.\n",
    "\n",
    "> что такое baseline решение, зачем оно нужно и почему предоставлять baseline к соревнованию стало важным стандартом на kaggle и других площадках.   \n",
    "**baseline** создается больше как шаблон, где можно посмотреть как происходит обращение с входящими данными и что нужно получить на выходе. При этом МЛ начинка может быть достаточно простой, просто для примера. Это помогает быстрее приступить к самому МЛ, а не тратить ценное время на чисто инженерные задачи. \n",
    "Также baseline являеться хорошей опорной точкой по метрике. Если твое решение хуже baseline - ты явно делаешь что-то не то и стоит попробовать другой путь) \n",
    "\n",
    "В контексте нашего соревнования baseline идет с небольшими примерами того, что можно делать с данными, и с инструкцией, что делать дальше, чтобы улучшить результат.  Вообще готовым решением это сложно назвать, так как используются всего 2 самых простых признака (а остальные исключаются)."
   ]
  },
  {
   "cell_type": "markdown",
   "metadata": {},
   "source": [
    "# import"
   ]
  },
  {
   "cell_type": "code",
   "execution_count": 1,
   "metadata": {
    "_cell_guid": "b1076dfc-b9ad-4769-8c92-a6c4dae69d19",
    "_uuid": "8f2839f25d086af736a60e9eeb907d3b93b6e0e5",
    "execution": {
     "iopub.execute_input": "2021-08-03T07:17:14.403385Z",
     "iopub.status.busy": "2021-08-03T07:17:14.400875Z",
     "iopub.status.idle": "2021-08-03T07:17:17.700526Z",
     "shell.execute_reply": "2021-08-03T07:17:17.699546Z",
     "shell.execute_reply.started": "2021-08-03T07:17:14.403318Z"
    }
   },
   "outputs": [],
   "source": [
    "# This Python 3 environment comes with many helpful analytics libraries installed\n",
    "# It is defined by the kaggle/python docker image: https://github.com/kaggle/docker-python\n",
    "# For example, here's several helpful packages to load in \n",
    "\n",
    "import numpy as np # linear algebra\n",
    "import pandas as pd # data processing, CSV file I/O (e.g. pd.read_csv)\n",
    "\n",
    "import matplotlib.pyplot as plt\n",
    "import seaborn as sns \n",
    "%matplotlib inline\n",
    "\n",
    "# Загружаем специальный удобный инструмент для разделения датасета:\n",
    "from sklearn.model_selection import train_test_split\n",
    "\n",
    "# Input data files are available in the \"../input/\" directory.\n",
    "# For example, running this (by clicking run or pressing Shift+Enter) will list all files under the input directory\n",
    "\n",
    "import os\n",
    "for dirname, _, filenames in os.walk('/kaggle/input'):\n",
    "    for filename in filenames:\n",
    "        print(os.path.join(dirname, filename))\n",
    "\n",
    "# Any results you write to the current directory are saved as output."
   ]
  },
  {
   "cell_type": "code",
   "execution_count": 2,
   "metadata": {
    "execution": {
     "iopub.execute_input": "2021-08-03T07:17:22.150558Z",
     "iopub.status.busy": "2021-08-03T07:17:22.150023Z",
     "iopub.status.idle": "2021-08-03T07:17:22.153666Z",
     "shell.execute_reply": "2021-08-03T07:17:22.152983Z",
     "shell.execute_reply.started": "2021-08-03T07:17:22.150510Z"
    }
   },
   "outputs": [],
   "source": [
    "# всегда фиксируйте RANDOM_SEED, чтобы ваши эксперименты были воспроизводимы!\n",
    "RANDOM_SEED = 42"
   ]
  },
  {
   "cell_type": "code",
   "execution_count": 3,
   "metadata": {
    "execution": {
     "iopub.execute_input": "2021-08-03T07:17:24.712501Z",
     "iopub.status.busy": "2021-08-03T07:17:24.712192Z",
     "iopub.status.idle": "2021-08-03T07:17:28.233397Z",
     "shell.execute_reply": "2021-08-03T07:17:28.232427Z",
     "shell.execute_reply.started": "2021-08-03T07:17:24.712460Z"
    }
   },
   "outputs": [],
   "source": [
    "# зафиксируем версию пакетов, чтобы эксперименты были воспроизводимы:\n",
    "!pip freeze > requirements.txt"
   ]
  },
  {
   "cell_type": "markdown",
   "metadata": {},
   "source": [
    "# DATA"
   ]
  },
  {
   "cell_type": "code",
   "execution_count": 10,
   "metadata": {
    "_cell_guid": "79c7e3d0-c299-4dcb-8224-4455121ee9b0",
    "_uuid": "d629ff2d2480ee46fbb7e2d37f6b5fab8052498a",
    "execution": {
     "iopub.execute_input": "2021-08-03T07:17:31.769975Z",
     "iopub.status.busy": "2021-08-03T07:17:31.769640Z",
     "iopub.status.idle": "2021-08-03T07:17:32.187359Z",
     "shell.execute_reply": "2021-08-03T07:17:32.186386Z",
     "shell.execute_reply.started": "2021-08-03T07:17:31.769920Z"
    }
   },
   "outputs": [],
   "source": [
    "DATA_DIR = '/kaggle/input/sf-dst-restaurant-rating/'\n",
    "df_train = pd.read_csv('main_task_new.csv')\n",
    "df_test = pd.read_csv('kaggle_task.csv')\n",
    "sample_submission = pd.read_csv('sample_submission.csv')"
   ]
  },
  {
   "cell_type": "code",
   "execution_count": 11,
   "metadata": {
    "execution": {
     "iopub.execute_input": "2021-07-28T10:33:57.761598Z",
     "iopub.status.busy": "2021-07-28T10:33:57.761176Z",
     "iopub.status.idle": "2021-07-28T10:33:57.828304Z",
     "shell.execute_reply": "2021-07-28T10:33:57.827258Z",
     "shell.execute_reply.started": "2021-07-28T10:33:57.761535Z"
    }
   },
   "outputs": [
    {
     "name": "stdout",
     "output_type": "stream",
     "text": [
      "<class 'pandas.core.frame.DataFrame'>\n",
      "RangeIndex: 40000 entries, 0 to 39999\n",
      "Data columns (total 10 columns):\n",
      " #   Column             Non-Null Count  Dtype  \n",
      "---  ------             --------------  -----  \n",
      " 0   Restaurant_id      40000 non-null  object \n",
      " 1   City               40000 non-null  object \n",
      " 2   Cuisine Style      30717 non-null  object \n",
      " 3   Ranking            40000 non-null  float64\n",
      " 4   Rating             40000 non-null  float64\n",
      " 5   Price Range        26114 non-null  object \n",
      " 6   Number of Reviews  37457 non-null  float64\n",
      " 7   Reviews            40000 non-null  object \n",
      " 8   URL_TA             40000 non-null  object \n",
      " 9   ID_TA              40000 non-null  object \n",
      "dtypes: float64(3), object(7)\n",
      "memory usage: 3.1+ MB\n"
     ]
    }
   ],
   "source": [
    "df_train.info()"
   ]
  },
  {
   "cell_type": "code",
   "execution_count": 12,
   "metadata": {
    "execution": {
     "iopub.execute_input": "2021-07-28T10:34:15.083244Z",
     "iopub.status.busy": "2021-07-28T10:34:15.082891Z",
     "iopub.status.idle": "2021-07-28T10:34:15.115875Z",
     "shell.execute_reply": "2021-07-28T10:34:15.114864Z",
     "shell.execute_reply.started": "2021-07-28T10:34:15.083188Z"
    }
   },
   "outputs": [
    {
     "data": {
      "text/html": [
       "<div>\n",
       "<style scoped>\n",
       "    .dataframe tbody tr th:only-of-type {\n",
       "        vertical-align: middle;\n",
       "    }\n",
       "\n",
       "    .dataframe tbody tr th {\n",
       "        vertical-align: top;\n",
       "    }\n",
       "\n",
       "    .dataframe thead th {\n",
       "        text-align: right;\n",
       "    }\n",
       "</style>\n",
       "<table border=\"1\" class=\"dataframe\">\n",
       "  <thead>\n",
       "    <tr style=\"text-align: right;\">\n",
       "      <th></th>\n",
       "      <th>Restaurant_id</th>\n",
       "      <th>City</th>\n",
       "      <th>Cuisine Style</th>\n",
       "      <th>Ranking</th>\n",
       "      <th>Rating</th>\n",
       "      <th>Price Range</th>\n",
       "      <th>Number of Reviews</th>\n",
       "      <th>Reviews</th>\n",
       "      <th>URL_TA</th>\n",
       "      <th>ID_TA</th>\n",
       "    </tr>\n",
       "  </thead>\n",
       "  <tbody>\n",
       "    <tr>\n",
       "      <th>0</th>\n",
       "      <td>id_5569</td>\n",
       "      <td>Paris</td>\n",
       "      <td>['European', 'French', 'International']</td>\n",
       "      <td>5570.0</td>\n",
       "      <td>3.5</td>\n",
       "      <td>$$ - $$$</td>\n",
       "      <td>194.0</td>\n",
       "      <td>[['Good food at your doorstep', 'A good hotel ...</td>\n",
       "      <td>/Restaurant_Review-g187147-d1912643-Reviews-R_...</td>\n",
       "      <td>d1912643</td>\n",
       "    </tr>\n",
       "    <tr>\n",
       "      <th>1</th>\n",
       "      <td>id_1535</td>\n",
       "      <td>Stockholm</td>\n",
       "      <td>NaN</td>\n",
       "      <td>1537.0</td>\n",
       "      <td>4.0</td>\n",
       "      <td>NaN</td>\n",
       "      <td>10.0</td>\n",
       "      <td>[['Unique cuisine', 'Delicious Nepalese food']...</td>\n",
       "      <td>/Restaurant_Review-g189852-d7992032-Reviews-Bu...</td>\n",
       "      <td>d7992032</td>\n",
       "    </tr>\n",
       "    <tr>\n",
       "      <th>2</th>\n",
       "      <td>id_352</td>\n",
       "      <td>London</td>\n",
       "      <td>['Japanese', 'Sushi', 'Asian', 'Grill', 'Veget...</td>\n",
       "      <td>353.0</td>\n",
       "      <td>4.5</td>\n",
       "      <td>$$$$</td>\n",
       "      <td>688.0</td>\n",
       "      <td>[['Catch up with friends', 'Not exceptional'],...</td>\n",
       "      <td>/Restaurant_Review-g186338-d8632781-Reviews-RO...</td>\n",
       "      <td>d8632781</td>\n",
       "    </tr>\n",
       "    <tr>\n",
       "      <th>3</th>\n",
       "      <td>id_3456</td>\n",
       "      <td>Berlin</td>\n",
       "      <td>NaN</td>\n",
       "      <td>3458.0</td>\n",
       "      <td>5.0</td>\n",
       "      <td>NaN</td>\n",
       "      <td>3.0</td>\n",
       "      <td>[[], []]</td>\n",
       "      <td>/Restaurant_Review-g187323-d1358776-Reviews-Es...</td>\n",
       "      <td>d1358776</td>\n",
       "    </tr>\n",
       "    <tr>\n",
       "      <th>4</th>\n",
       "      <td>id_615</td>\n",
       "      <td>Munich</td>\n",
       "      <td>['German', 'Central European', 'Vegetarian Fri...</td>\n",
       "      <td>621.0</td>\n",
       "      <td>4.0</td>\n",
       "      <td>$$ - $$$</td>\n",
       "      <td>84.0</td>\n",
       "      <td>[['Best place to try a Bavarian food', 'Nice b...</td>\n",
       "      <td>/Restaurant_Review-g187309-d6864963-Reviews-Au...</td>\n",
       "      <td>d6864963</td>\n",
       "    </tr>\n",
       "  </tbody>\n",
       "</table>\n",
       "</div>"
      ],
      "text/plain": [
       "  Restaurant_id       City                                      Cuisine Style  \\\n",
       "0       id_5569      Paris            ['European', 'French', 'International']   \n",
       "1       id_1535  Stockholm                                                NaN   \n",
       "2        id_352     London  ['Japanese', 'Sushi', 'Asian', 'Grill', 'Veget...   \n",
       "3       id_3456     Berlin                                                NaN   \n",
       "4        id_615     Munich  ['German', 'Central European', 'Vegetarian Fri...   \n",
       "\n",
       "   Ranking  Rating Price Range  Number of Reviews  \\\n",
       "0   5570.0     3.5    $$ - $$$              194.0   \n",
       "1   1537.0     4.0         NaN               10.0   \n",
       "2    353.0     4.5        $$$$              688.0   \n",
       "3   3458.0     5.0         NaN                3.0   \n",
       "4    621.0     4.0    $$ - $$$               84.0   \n",
       "\n",
       "                                             Reviews  \\\n",
       "0  [['Good food at your doorstep', 'A good hotel ...   \n",
       "1  [['Unique cuisine', 'Delicious Nepalese food']...   \n",
       "2  [['Catch up with friends', 'Not exceptional'],...   \n",
       "3                                           [[], []]   \n",
       "4  [['Best place to try a Bavarian food', 'Nice b...   \n",
       "\n",
       "                                              URL_TA     ID_TA  \n",
       "0  /Restaurant_Review-g187147-d1912643-Reviews-R_...  d1912643  \n",
       "1  /Restaurant_Review-g189852-d7992032-Reviews-Bu...  d7992032  \n",
       "2  /Restaurant_Review-g186338-d8632781-Reviews-RO...  d8632781  \n",
       "3  /Restaurant_Review-g187323-d1358776-Reviews-Es...  d1358776  \n",
       "4  /Restaurant_Review-g187309-d6864963-Reviews-Au...  d6864963  "
      ]
     },
     "execution_count": 12,
     "metadata": {},
     "output_type": "execute_result"
    }
   ],
   "source": [
    "df_train.head(5)"
   ]
  },
  {
   "cell_type": "code",
   "execution_count": 13,
   "metadata": {
    "execution": {
     "iopub.execute_input": "2021-07-28T10:35:01.19271Z",
     "iopub.status.busy": "2021-07-28T10:35:01.192315Z",
     "iopub.status.idle": "2021-07-28T10:35:01.213385Z",
     "shell.execute_reply": "2021-07-28T10:35:01.212048Z",
     "shell.execute_reply.started": "2021-07-28T10:35:01.192656Z"
    }
   },
   "outputs": [
    {
     "name": "stdout",
     "output_type": "stream",
     "text": [
      "<class 'pandas.core.frame.DataFrame'>\n",
      "RangeIndex: 10000 entries, 0 to 9999\n",
      "Data columns (total 9 columns):\n",
      " #   Column             Non-Null Count  Dtype  \n",
      "---  ------             --------------  -----  \n",
      " 0   Restaurant_id      10000 non-null  object \n",
      " 1   City               10000 non-null  object \n",
      " 2   Cuisine Style      7693 non-null   object \n",
      " 3   Ranking            10000 non-null  float64\n",
      " 4   Price Range        6525 non-null   object \n",
      " 5   Number of Reviews  9343 non-null   float64\n",
      " 6   Reviews            9998 non-null   object \n",
      " 7   URL_TA             10000 non-null  object \n",
      " 8   ID_TA              10000 non-null  object \n",
      "dtypes: float64(2), object(7)\n",
      "memory usage: 703.2+ KB\n"
     ]
    }
   ],
   "source": [
    "df_test.info()"
   ]
  },
  {
   "cell_type": "code",
   "execution_count": 14,
   "metadata": {
    "execution": {
     "iopub.execute_input": "2021-07-28T10:35:04.106188Z",
     "iopub.status.busy": "2021-07-28T10:35:04.105822Z",
     "iopub.status.idle": "2021-07-28T10:35:04.127237Z",
     "shell.execute_reply": "2021-07-28T10:35:04.125979Z",
     "shell.execute_reply.started": "2021-07-28T10:35:04.106126Z"
    }
   },
   "outputs": [
    {
     "data": {
      "text/html": [
       "<div>\n",
       "<style scoped>\n",
       "    .dataframe tbody tr th:only-of-type {\n",
       "        vertical-align: middle;\n",
       "    }\n",
       "\n",
       "    .dataframe tbody tr th {\n",
       "        vertical-align: top;\n",
       "    }\n",
       "\n",
       "    .dataframe thead th {\n",
       "        text-align: right;\n",
       "    }\n",
       "</style>\n",
       "<table border=\"1\" class=\"dataframe\">\n",
       "  <thead>\n",
       "    <tr style=\"text-align: right;\">\n",
       "      <th></th>\n",
       "      <th>Restaurant_id</th>\n",
       "      <th>City</th>\n",
       "      <th>Cuisine Style</th>\n",
       "      <th>Ranking</th>\n",
       "      <th>Price Range</th>\n",
       "      <th>Number of Reviews</th>\n",
       "      <th>Reviews</th>\n",
       "      <th>URL_TA</th>\n",
       "      <th>ID_TA</th>\n",
       "    </tr>\n",
       "  </thead>\n",
       "  <tbody>\n",
       "    <tr>\n",
       "      <th>0</th>\n",
       "      <td>id_0</td>\n",
       "      <td>Paris</td>\n",
       "      <td>['Bar', 'Pub']</td>\n",
       "      <td>12963.0</td>\n",
       "      <td>$$ - $$$</td>\n",
       "      <td>4.0</td>\n",
       "      <td>[[], []]</td>\n",
       "      <td>/Restaurant_Review-g187147-d10746918-Reviews-L...</td>\n",
       "      <td>d10746918</td>\n",
       "    </tr>\n",
       "    <tr>\n",
       "      <th>1</th>\n",
       "      <td>id_1</td>\n",
       "      <td>Helsinki</td>\n",
       "      <td>['European', 'Scandinavian', 'Gluten Free Opti...</td>\n",
       "      <td>106.0</td>\n",
       "      <td>$$ - $$$</td>\n",
       "      <td>97.0</td>\n",
       "      <td>[['Very good reviews!', 'Fine dining in Hakani...</td>\n",
       "      <td>/Restaurant_Review-g189934-d6674944-Reviews-Ra...</td>\n",
       "      <td>d6674944</td>\n",
       "    </tr>\n",
       "    <tr>\n",
       "      <th>2</th>\n",
       "      <td>id_2</td>\n",
       "      <td>Edinburgh</td>\n",
       "      <td>['Vegetarian Friendly']</td>\n",
       "      <td>810.0</td>\n",
       "      <td>$$ - $$$</td>\n",
       "      <td>28.0</td>\n",
       "      <td>[['Better than the Links', 'Ivy Black'], ['12/...</td>\n",
       "      <td>/Restaurant_Review-g186525-d13129638-Reviews-B...</td>\n",
       "      <td>d13129638</td>\n",
       "    </tr>\n",
       "    <tr>\n",
       "      <th>3</th>\n",
       "      <td>id_3</td>\n",
       "      <td>London</td>\n",
       "      <td>['Italian', 'Mediterranean', 'European', 'Vege...</td>\n",
       "      <td>1669.0</td>\n",
       "      <td>$$$$</td>\n",
       "      <td>202.0</td>\n",
       "      <td>[['Most exquisite', 'Delicious and authentic']...</td>\n",
       "      <td>/Restaurant_Review-g186338-d680417-Reviews-Qui...</td>\n",
       "      <td>d680417</td>\n",
       "    </tr>\n",
       "    <tr>\n",
       "      <th>4</th>\n",
       "      <td>id_4</td>\n",
       "      <td>Bratislava</td>\n",
       "      <td>['Italian', 'Mediterranean', 'European', 'Seaf...</td>\n",
       "      <td>37.0</td>\n",
       "      <td>$$$$</td>\n",
       "      <td>162.0</td>\n",
       "      <td>[['Always the best in bratislava', 'Very good ...</td>\n",
       "      <td>/Restaurant_Review-g274924-d1112354-Reviews-Ma...</td>\n",
       "      <td>d1112354</td>\n",
       "    </tr>\n",
       "  </tbody>\n",
       "</table>\n",
       "</div>"
      ],
      "text/plain": [
       "  Restaurant_id        City  \\\n",
       "0          id_0       Paris   \n",
       "1          id_1    Helsinki   \n",
       "2          id_2   Edinburgh   \n",
       "3          id_3      London   \n",
       "4          id_4  Bratislava   \n",
       "\n",
       "                                       Cuisine Style  Ranking Price Range  \\\n",
       "0                                     ['Bar', 'Pub']  12963.0    $$ - $$$   \n",
       "1  ['European', 'Scandinavian', 'Gluten Free Opti...    106.0    $$ - $$$   \n",
       "2                            ['Vegetarian Friendly']    810.0    $$ - $$$   \n",
       "3  ['Italian', 'Mediterranean', 'European', 'Vege...   1669.0        $$$$   \n",
       "4  ['Italian', 'Mediterranean', 'European', 'Seaf...     37.0        $$$$   \n",
       "\n",
       "   Number of Reviews                                            Reviews  \\\n",
       "0                4.0                                           [[], []]   \n",
       "1               97.0  [['Very good reviews!', 'Fine dining in Hakani...   \n",
       "2               28.0  [['Better than the Links', 'Ivy Black'], ['12/...   \n",
       "3              202.0  [['Most exquisite', 'Delicious and authentic']...   \n",
       "4              162.0  [['Always the best in bratislava', 'Very good ...   \n",
       "\n",
       "                                              URL_TA      ID_TA  \n",
       "0  /Restaurant_Review-g187147-d10746918-Reviews-L...  d10746918  \n",
       "1  /Restaurant_Review-g189934-d6674944-Reviews-Ra...   d6674944  \n",
       "2  /Restaurant_Review-g186525-d13129638-Reviews-B...  d13129638  \n",
       "3  /Restaurant_Review-g186338-d680417-Reviews-Qui...    d680417  \n",
       "4  /Restaurant_Review-g274924-d1112354-Reviews-Ma...   d1112354  "
      ]
     },
     "execution_count": 14,
     "metadata": {},
     "output_type": "execute_result"
    }
   ],
   "source": [
    "df_test.head(5)"
   ]
  },
  {
   "cell_type": "code",
   "execution_count": 15,
   "metadata": {
    "execution": {
     "iopub.execute_input": "2021-07-28T10:35:32.161805Z",
     "iopub.status.busy": "2021-07-28T10:35:32.161356Z",
     "iopub.status.idle": "2021-07-28T10:35:32.174711Z",
     "shell.execute_reply": "2021-07-28T10:35:32.173819Z",
     "shell.execute_reply.started": "2021-07-28T10:35:32.161733Z"
    }
   },
   "outputs": [
    {
     "data": {
      "text/html": [
       "<div>\n",
       "<style scoped>\n",
       "    .dataframe tbody tr th:only-of-type {\n",
       "        vertical-align: middle;\n",
       "    }\n",
       "\n",
       "    .dataframe tbody tr th {\n",
       "        vertical-align: top;\n",
       "    }\n",
       "\n",
       "    .dataframe thead th {\n",
       "        text-align: right;\n",
       "    }\n",
       "</style>\n",
       "<table border=\"1\" class=\"dataframe\">\n",
       "  <thead>\n",
       "    <tr style=\"text-align: right;\">\n",
       "      <th></th>\n",
       "      <th>Restaurant_id</th>\n",
       "      <th>Rating</th>\n",
       "    </tr>\n",
       "  </thead>\n",
       "  <tbody>\n",
       "    <tr>\n",
       "      <th>0</th>\n",
       "      <td>id_0</td>\n",
       "      <td>2.0</td>\n",
       "    </tr>\n",
       "    <tr>\n",
       "      <th>1</th>\n",
       "      <td>id_1</td>\n",
       "      <td>2.5</td>\n",
       "    </tr>\n",
       "    <tr>\n",
       "      <th>2</th>\n",
       "      <td>id_2</td>\n",
       "      <td>4.0</td>\n",
       "    </tr>\n",
       "    <tr>\n",
       "      <th>3</th>\n",
       "      <td>id_3</td>\n",
       "      <td>1.0</td>\n",
       "    </tr>\n",
       "    <tr>\n",
       "      <th>4</th>\n",
       "      <td>id_4</td>\n",
       "      <td>4.0</td>\n",
       "    </tr>\n",
       "  </tbody>\n",
       "</table>\n",
       "</div>"
      ],
      "text/plain": [
       "  Restaurant_id  Rating\n",
       "0          id_0     2.0\n",
       "1          id_1     2.5\n",
       "2          id_2     4.0\n",
       "3          id_3     1.0\n",
       "4          id_4     4.0"
      ]
     },
     "execution_count": 15,
     "metadata": {},
     "output_type": "execute_result"
    }
   ],
   "source": [
    "sample_submission.head(5)"
   ]
  },
  {
   "cell_type": "code",
   "execution_count": 16,
   "metadata": {
    "execution": {
     "iopub.execute_input": "2021-07-28T10:36:26.556084Z",
     "iopub.status.busy": "2021-07-28T10:36:26.555598Z",
     "iopub.status.idle": "2021-07-28T10:36:26.570194Z",
     "shell.execute_reply": "2021-07-28T10:36:26.568519Z",
     "shell.execute_reply.started": "2021-07-28T10:36:26.556002Z"
    }
   },
   "outputs": [
    {
     "name": "stdout",
     "output_type": "stream",
     "text": [
      "<class 'pandas.core.frame.DataFrame'>\n",
      "RangeIndex: 10000 entries, 0 to 9999\n",
      "Data columns (total 2 columns):\n",
      " #   Column         Non-Null Count  Dtype  \n",
      "---  ------         --------------  -----  \n",
      " 0   Restaurant_id  10000 non-null  object \n",
      " 1   Rating         10000 non-null  float64\n",
      "dtypes: float64(1), object(1)\n",
      "memory usage: 156.4+ KB\n"
     ]
    }
   ],
   "source": [
    "sample_submission.info()"
   ]
  },
  {
   "cell_type": "code",
   "execution_count": 17,
   "metadata": {
    "execution": {
     "iopub.execute_input": "2021-08-03T07:17:38.916763Z",
     "iopub.status.busy": "2021-08-03T07:17:38.916394Z",
     "iopub.status.idle": "2021-08-03T07:17:38.978177Z",
     "shell.execute_reply": "2021-08-03T07:17:38.977197Z",
     "shell.execute_reply.started": "2021-08-03T07:17:38.916695Z"
    }
   },
   "outputs": [],
   "source": [
    "# ВАЖНО! дря корректной обработки признаков объединяем трейн и тест в один датасет\n",
    "df_train['sample'] = 1 # помечаем где у нас трейн\n",
    "df_test['sample'] = 0 # помечаем где у нас тест\n",
    "df_test['Rating'] = 0 # в тесте у нас нет значения Rating, мы его должны предсказать, по этому пока просто заполняем нулями\n",
    "\n",
    "data = df_test.append(df_train, sort=False).reset_index(drop=True) # объединяем"
   ]
  },
  {
   "cell_type": "code",
   "execution_count": 18,
   "metadata": {
    "execution": {
     "iopub.execute_input": "2021-07-30T16:31:51.754204Z",
     "iopub.status.busy": "2021-07-30T16:31:51.753869Z",
     "iopub.status.idle": "2021-07-30T16:31:51.805267Z",
     "shell.execute_reply": "2021-07-30T16:31:51.804289Z",
     "shell.execute_reply.started": "2021-07-30T16:31:51.754153Z"
    }
   },
   "outputs": [
    {
     "name": "stdout",
     "output_type": "stream",
     "text": [
      "<class 'pandas.core.frame.DataFrame'>\n",
      "RangeIndex: 50000 entries, 0 to 49999\n",
      "Data columns (total 11 columns):\n",
      " #   Column             Non-Null Count  Dtype  \n",
      "---  ------             --------------  -----  \n",
      " 0   Restaurant_id      50000 non-null  object \n",
      " 1   City               50000 non-null  object \n",
      " 2   Cuisine Style      38410 non-null  object \n",
      " 3   Ranking            50000 non-null  float64\n",
      " 4   Price Range        32639 non-null  object \n",
      " 5   Number of Reviews  46800 non-null  float64\n",
      " 6   Reviews            49998 non-null  object \n",
      " 7   URL_TA             50000 non-null  object \n",
      " 8   ID_TA              50000 non-null  object \n",
      " 9   sample             50000 non-null  int64  \n",
      " 10  Rating             50000 non-null  float64\n",
      "dtypes: float64(3), int64(1), object(7)\n",
      "memory usage: 4.2+ MB\n"
     ]
    }
   ],
   "source": [
    "data.info()"
   ]
  },
  {
   "cell_type": "markdown",
   "metadata": {},
   "source": [
    "Подробнее по признакам:\n",
    "* City: Город \n",
    "* Cuisine Style: Кухня\n",
    "* Ranking: Ранг ресторана относительно других ресторанов в этом городе\n",
    "* Price Range: Цены в ресторане в 3 категориях\n",
    "* Number of Reviews: Количество отзывов\n",
    "* Reviews: 2 последних отзыва и даты этих отзывов\n",
    "* URL_TA: страница ресторана на 'www.tripadvisor.com' \n",
    "* ID_TA: ID ресторана в TripAdvisor\n",
    "* Rating: Рейтинг ресторана"
   ]
  },
  {
   "cell_type": "code",
   "execution_count": null,
   "metadata": {
    "execution": {
     "iopub.execute_input": "2021-08-02T09:54:18.371894Z",
     "iopub.status.busy": "2021-08-02T09:54:18.371422Z",
     "iopub.status.idle": "2021-08-02T09:54:18.422461Z",
     "shell.execute_reply": "2021-08-02T09:54:18.421548Z",
     "shell.execute_reply.started": "2021-08-02T09:54:18.371836Z"
    }
   },
   "outputs": [],
   "source": [
    "test_data = data.copy()"
   ]
  },
  {
   "cell_type": "code",
   "execution_count": null,
   "metadata": {
    "execution": {
     "iopub.execute_input": "2021-08-02T10:08:25.040923Z",
     "iopub.status.busy": "2021-08-02T10:08:25.040447Z",
     "iopub.status.idle": "2021-08-02T10:08:25.078369Z",
     "shell.execute_reply": "2021-08-02T10:08:25.077235Z",
     "shell.execute_reply.started": "2021-08-02T10:08:25.040870Z"
    }
   },
   "outputs": [],
   "source": [
    "test_data"
   ]
  },
  {
   "cell_type": "code",
   "execution_count": null,
   "metadata": {
    "execution": {
     "iopub.execute_input": "2021-07-28T10:40:13.011338Z",
     "iopub.status.busy": "2021-07-28T10:40:13.010856Z",
     "iopub.status.idle": "2021-07-28T10:40:13.036925Z",
     "shell.execute_reply": "2021-07-28T10:40:13.035986Z",
     "shell.execute_reply.started": "2021-07-28T10:40:13.011272Z"
    }
   },
   "outputs": [],
   "source": [
    "data.sample(5)"
   ]
  },
  {
   "cell_type": "code",
   "execution_count": null,
   "metadata": {
    "execution": {
     "iopub.execute_input": "2021-07-28T10:40:49.722813Z",
     "iopub.status.busy": "2021-07-28T10:40:49.722364Z",
     "iopub.status.idle": "2021-07-28T10:40:49.731013Z",
     "shell.execute_reply": "2021-07-28T10:40:49.729897Z",
     "shell.execute_reply.started": "2021-07-28T10:40:49.722741Z"
    }
   },
   "outputs": [],
   "source": [
    "data.Reviews[1]"
   ]
  },
  {
   "cell_type": "markdown",
   "metadata": {},
   "source": [
    "Как видим, большинство признаков у нас требует очистки и предварительной обработки."
   ]
  },
  {
   "cell_type": "markdown",
   "metadata": {},
   "source": [
    "# Cleaning and Prepping Data\n",
    "Обычно данные содержат в себе кучу мусора, который необходимо почистить, для того чтобы привести их в приемлемый формат. Чистка данных — это необходимый этап решения почти любой реальной задачи.   \n",
    "![](https://analyticsindiamag.com/wp-content/uploads/2018/01/data-cleaning.png)"
   ]
  },
  {
   "cell_type": "markdown",
   "metadata": {},
   "source": [
    "## 1. Обработка NAN \n",
    "У наличия пропусков могут быть разные причины, но пропуски нужно либо заполнить, либо исключить из набора полностью. Но с пропусками нужно быть внимательным, **даже отсутствие информации может быть важным признаком!**   \n",
    "По этому перед обработкой NAN лучше вынести информацию о наличии пропуска как отдельный признак "
   ]
  },
  {
   "cell_type": "code",
   "execution_count": null,
   "metadata": {
    "execution": {
     "iopub.execute_input": "2021-07-30T11:19:57.781967Z",
     "iopub.status.busy": "2021-07-30T11:19:57.781629Z",
     "iopub.status.idle": "2021-07-30T11:19:57.788698Z",
     "shell.execute_reply": "2021-07-30T11:19:57.787474Z",
     "shell.execute_reply.started": "2021-07-30T11:19:57.781906Z"
    }
   },
   "outputs": [],
   "source": [
    "# Для примера я возьму столбец Number of Reviews\n",
    "data['Number_of_Reviews_isNAN'] = pd.isna(data['Number of Reviews']).astype('uint8')"
   ]
  },
  {
   "cell_type": "code",
   "execution_count": null,
   "metadata": {
    "execution": {
     "iopub.execute_input": "2021-07-28T10:46:35.490192Z",
     "iopub.status.busy": "2021-07-28T10:46:35.489573Z",
     "iopub.status.idle": "2021-07-28T10:46:35.500313Z",
     "shell.execute_reply": "2021-07-28T10:46:35.499482Z",
     "shell.execute_reply.started": "2021-07-28T10:46:35.490121Z"
    }
   },
   "outputs": [],
   "source": [
    "data['Number_of_Reviews_isNAN']"
   ]
  },
  {
   "cell_type": "code",
   "execution_count": null,
   "metadata": {
    "execution": {
     "iopub.execute_input": "2021-07-30T11:20:05.634324Z",
     "iopub.status.busy": "2021-07-30T11:20:05.634007Z",
     "iopub.status.idle": "2021-07-30T11:20:05.661256Z",
     "shell.execute_reply": "2021-07-30T11:20:05.660234Z",
     "shell.execute_reply.started": "2021-07-30T11:20:05.634278Z"
    }
   },
   "outputs": [],
   "source": [
    "# Далее заполняем пропуски 0, вы можете попробовать заполнением средним или средним по городу и тд...\n",
    "data['Number of Reviews'].fillna(0, inplace=True)\n",
    "data.loc[:, ['Number of Reviews', 'Reviews']].head(20)"
   ]
  },
  {
   "cell_type": "markdown",
   "metadata": {},
   "source": [
    "### 2. Обработка признаков\n",
    "Для начала посмотрим какие признаки у нас могут быть категориальными."
   ]
  },
  {
   "cell_type": "code",
   "execution_count": 33,
   "metadata": {
    "execution": {
     "iopub.execute_input": "2021-07-28T10:59:11.329213Z",
     "iopub.status.busy": "2021-07-28T10:59:11.328781Z",
     "iopub.status.idle": "2021-07-28T10:59:11.4787Z",
     "shell.execute_reply": "2021-07-28T10:59:11.477575Z",
     "shell.execute_reply.started": "2021-07-28T10:59:11.329136Z"
    }
   },
   "outputs": [
    {
     "data": {
      "text/plain": [
       "Restaurant_id        13094\n",
       "City                    31\n",
       "Cuisine Style        10732\n",
       "Ranking              12975\n",
       "Price Range              4\n",
       "Number of Reviews     1574\n",
       "Reviews              41858\n",
       "URL_TA               49963\n",
       "ID_TA                49963\n",
       "sample                   2\n",
       "Rating                  10\n",
       "dtype: int64"
      ]
     },
     "execution_count": 33,
     "metadata": {},
     "output_type": "execute_result"
    }
   ],
   "source": [
    "data.nunique(dropna=False)"
   ]
  },
  {
   "cell_type": "markdown",
   "metadata": {},
   "source": [
    "Какие признаки можно считать категориальными?"
   ]
  },
  {
   "cell_type": "markdown",
   "metadata": {},
   "source": [
    "Для кодирования категориальных признаков есть множество подходов:\n",
    "* Label Encoding\n",
    "* One-Hot Encoding\n",
    "* Target Encoding\n",
    "* Hashing\n",
    "\n",
    "Выбор кодирования зависит от признака и выбраной модели.\n",
    "Не будем сейчас сильно погружаться в эту тематику, давайте посмотрим лучше пример с One-Hot Encoding:\n",
    "![](https://i.imgur.com/mtimFxh.png)"
   ]
  },
  {
   "cell_type": "code",
   "execution_count": null,
   "metadata": {
    "execution": {
     "iopub.execute_input": "2021-07-30T11:20:20.847245Z",
     "iopub.status.busy": "2021-07-30T11:20:20.846937Z",
     "iopub.status.idle": "2021-07-30T11:20:20.885957Z",
     "shell.execute_reply": "2021-07-30T11:20:20.88512Z",
     "shell.execute_reply.started": "2021-07-30T11:20:20.847198Z"
    }
   },
   "outputs": [],
   "source": [
    "# для One-Hot Encoding в pandas есть готовая функция - get_dummies. Особенно радует параметр dummy_na\n",
    "data = pd.get_dummies(data, columns=[ 'City',], dummy_na=True)"
   ]
  },
  {
   "cell_type": "code",
   "execution_count": null,
   "metadata": {
    "execution": {
     "iopub.execute_input": "2021-07-28T11:00:07.078134Z",
     "iopub.status.busy": "2021-07-28T11:00:07.077545Z",
     "iopub.status.idle": "2021-07-28T11:00:07.109581Z",
     "shell.execute_reply": "2021-07-28T11:00:07.108745Z",
     "shell.execute_reply.started": "2021-07-28T11:00:07.078075Z"
    }
   },
   "outputs": [],
   "source": [
    "data.head(5)"
   ]
  },
  {
   "cell_type": "code",
   "execution_count": null,
   "metadata": {
    "execution": {
     "iopub.execute_input": "2021-07-28T11:07:49.515726Z",
     "iopub.status.busy": "2021-07-28T11:07:49.515343Z",
     "iopub.status.idle": "2021-07-28T11:07:49.566922Z",
     "shell.execute_reply": "2021-07-28T11:07:49.565602Z",
     "shell.execute_reply.started": "2021-07-28T11:07:49.515678Z"
    }
   },
   "outputs": [],
   "source": [
    "data.sample(5)"
   ]
  },
  {
   "cell_type": "markdown",
   "metadata": {},
   "source": [
    "#### Возьмем следующий признак \"Price Range\"."
   ]
  },
  {
   "cell_type": "code",
   "execution_count": null,
   "metadata": {
    "execution": {
     "iopub.execute_input": "2021-07-28T11:12:03.142019Z",
     "iopub.status.busy": "2021-07-28T11:12:03.141381Z",
     "iopub.status.idle": "2021-07-28T11:12:03.160191Z",
     "shell.execute_reply": "2021-07-28T11:12:03.159012Z",
     "shell.execute_reply.started": "2021-07-28T11:12:03.141967Z"
    }
   },
   "outputs": [],
   "source": [
    "data['Price Range'].value_counts().index[2]"
   ]
  },
  {
   "cell_type": "markdown",
   "metadata": {},
   "source": [
    "По описанию 'Price Range' это - Цены в ресторане.  \n",
    "Их можно поставить по возрастанию (значит это не категориальный признак). А это значит, что их можно заменить последовательными числами, например 1,2,3  \n",
    "*Попробуйте сделать обработку этого признака уже самостоятельно!*"
   ]
  },
  {
   "cell_type": "code",
   "execution_count": null,
   "metadata": {
    "execution": {
     "iopub.execute_input": "2021-07-30T13:31:24.462504Z",
     "iopub.status.busy": "2021-07-30T13:31:24.46197Z",
     "iopub.status.idle": "2021-07-30T13:31:24.468609Z",
     "shell.execute_reply": "2021-07-30T13:31:24.46792Z",
     "shell.execute_reply.started": "2021-07-30T13:31:24.462423Z"
    }
   },
   "outputs": [],
   "source": [
    "# Ваша обработка 'Price Range'\n",
    "def change_price(x):\n",
    "    if x == '$$ - $$$':\n",
    "        return 2\n",
    "    if x == '$':\n",
    "        return 1\n",
    "    if x == '$$$$':\n",
    "        return 3\n",
    "    else:\n",
    "        return x"
   ]
  },
  {
   "cell_type": "code",
   "execution_count": null,
   "metadata": {
    "execution": {
     "iopub.execute_input": "2021-07-30T11:20:46.418984Z",
     "iopub.status.busy": "2021-07-30T11:20:46.418698Z",
     "iopub.status.idle": "2021-07-30T11:20:46.439814Z",
     "shell.execute_reply": "2021-07-30T11:20:46.43915Z",
     "shell.execute_reply.started": "2021-07-30T11:20:46.418941Z"
    }
   },
   "outputs": [],
   "source": [
    "data['Price Range'] = data['Price Range'].apply(change_price)"
   ]
  },
  {
   "cell_type": "code",
   "execution_count": null,
   "metadata": {
    "execution": {
     "iopub.execute_input": "2021-07-30T11:20:51.266162Z",
     "iopub.status.busy": "2021-07-30T11:20:51.265816Z",
     "iopub.status.idle": "2021-07-30T11:20:51.276647Z",
     "shell.execute_reply": "2021-07-30T11:20:51.275819Z",
     "shell.execute_reply.started": "2021-07-30T11:20:51.26611Z"
    }
   },
   "outputs": [],
   "source": [
    "data['Price Range'].value_counts()"
   ]
  },
  {
   "cell_type": "markdown",
   "metadata": {},
   "source": [
    "> Для некоторых алгоритмов МЛ даже для не категориальных признаков можно применить One-Hot Encoding, и это может улучшить качество модели. Пробуйте разные подходы к кодированию признака - никто не знает заранее, что может взлететь."
   ]
  },
  {
   "cell_type": "markdown",
   "metadata": {},
   "source": [
    "### Обработать другие признаки вы должны самостоятельно!\n",
    "Для обработки других признаков вам возможно придется даже написать свою функцию, а может даже и не одну, но в этом и есть ваша практика в этом модуле!     \n",
    "Следуя подсказкам в модуле вы сможете более подробно узнать, как сделать эти приобразования."
   ]
  },
  {
   "cell_type": "code",
   "execution_count": null,
   "metadata": {},
   "outputs": [],
   "source": [
    "# тут ваш код на обработку других признаков\n",
    "# ....."
   ]
  },
  {
   "cell_type": "markdown",
   "metadata": {},
   "source": [
    "![](https://cs10.pikabu.ru/post_img/2018/09/06/11/1536261023140110012.jpg)"
   ]
  },
  {
   "cell_type": "markdown",
   "metadata": {},
   "source": [
    "# EDA \n",
    "[Exploratory Data Analysis](https://ru.wikipedia.org/wiki/Разведочный_анализ_данных) - Анализ данных\n",
    "На этом этапе мы строим графики, ищем закономерности, аномалии, выбросы или связи между признаками.\n",
    "В общем цель этого этапа понять, что эти данные могут нам дать и как признаки могут быть взаимосвязаны между собой.\n",
    "Понимание изначальных признаков позволит сгенерировать новые, более сильные и, тем самым, сделать нашу модель лучше.\n",
    "![](https://miro.medium.com/max/2598/1*RXdMb7Uk6mGqWqPguHULaQ.png)"
   ]
  },
  {
   "cell_type": "markdown",
   "metadata": {},
   "source": [
    "### Посмотрим распределение признака"
   ]
  },
  {
   "cell_type": "code",
   "execution_count": null,
   "metadata": {
    "execution": {
     "iopub.execute_input": "2021-08-02T09:31:11.532607Z",
     "iopub.status.busy": "2021-08-02T09:31:11.532100Z",
     "iopub.status.idle": "2021-08-02T09:31:12.030765Z",
     "shell.execute_reply": "2021-08-02T09:31:12.027645Z",
     "shell.execute_reply.started": "2021-08-02T09:31:11.532544Z"
    }
   },
   "outputs": [],
   "source": [
    "plt.rcParams['figure.figsize'] = (10,7)\n",
    "df_train['Ranking'].hist(bins=100)"
   ]
  },
  {
   "cell_type": "markdown",
   "metadata": {},
   "source": [
    "У нас много ресторанов, которые не дотягивают и до 2500 места в своем городе, а что там по городам?"
   ]
  },
  {
   "cell_type": "code",
   "execution_count": null,
   "metadata": {
    "execution": {
     "iopub.execute_input": "2021-08-02T09:34:40.712182Z",
     "iopub.status.busy": "2021-08-02T09:34:40.711810Z",
     "iopub.status.idle": "2021-08-02T09:34:41.014894Z",
     "shell.execute_reply": "2021-08-02T09:34:41.013556Z",
     "shell.execute_reply.started": "2021-08-02T09:34:40.712120Z"
    }
   },
   "outputs": [],
   "source": [
    "df_train['City'].value_counts(ascending=True)[21:].plot(kind='barh')"
   ]
  },
  {
   "cell_type": "markdown",
   "metadata": {},
   "source": [
    "А кто-то говорил, что французы любят поесть=) Посмотрим, как изменится распределение в большом городе:"
   ]
  },
  {
   "cell_type": "code",
   "execution_count": null,
   "metadata": {
    "execution": {
     "iopub.execute_input": "2021-08-02T09:51:35.919468Z",
     "iopub.status.busy": "2021-08-02T09:51:35.918951Z",
     "iopub.status.idle": "2021-08-02T09:51:35.925404Z",
     "shell.execute_reply": "2021-08-02T09:51:35.924558Z",
     "shell.execute_reply.started": "2021-08-02T09:51:35.919395Z"
    }
   },
   "outputs": [],
   "source": [
    "df_train['Ranking'][df_train['City'] =='London'].hist(bins=100)"
   ]
  },
  {
   "cell_type": "code",
   "execution_count": null,
   "metadata": {
    "execution": {
     "iopub.execute_input": "2021-08-02T09:31:31.387051Z",
     "iopub.status.busy": "2021-08-02T09:31:31.386646Z",
     "iopub.status.idle": "2021-08-02T09:31:34.014203Z",
     "shell.execute_reply": "2021-08-02T09:31:34.012738Z",
     "shell.execute_reply.started": "2021-08-02T09:31:31.386977Z"
    }
   },
   "outputs": [],
   "source": [
    "# посмотрим на топ 10 городов\n",
    "for x in (df_train['City'].value_counts())[0:10].index:\n",
    "    df_train['Ranking'][df_train['City'] == x].hist(bins=100)\n",
    "plt.show()"
   ]
  },
  {
   "cell_type": "markdown",
   "metadata": {},
   "source": [
    "Получается, что Ranking имеет нормальное распределение, просто в больших городах больше ресторанов, из-за мы этого имеем смещение.\n",
    "\n",
    ">Подумайте как из этого можно сделать признак для вашей модели. Я покажу вам пример, как визуализация помогает находить взаимосвязи. А далее действуйте без подсказок =) \n"
   ]
  },
  {
   "cell_type": "markdown",
   "metadata": {},
   "source": [
    "### Посмотрим распределение целевой переменной"
   ]
  },
  {
   "cell_type": "code",
   "execution_count": 82,
   "metadata": {
    "execution": {
     "iopub.execute_input": "2021-08-02T15:09:54.584462Z",
     "iopub.status.busy": "2021-08-02T15:09:54.583888Z",
     "iopub.status.idle": "2021-08-02T15:09:54.890781Z",
     "shell.execute_reply": "2021-08-02T15:09:54.889788Z",
     "shell.execute_reply.started": "2021-08-02T15:09:54.584398Z"
    }
   },
   "outputs": [
    {
     "data": {
      "text/plain": [
       "<matplotlib.axes._subplots.AxesSubplot at 0x7fda720a0128>"
      ]
     },
     "execution_count": 82,
     "metadata": {},
     "output_type": "execute_result"
    },
    {
     "data": {
      "image/png": "[encoded data removed]",
      "text/plain": [
       "<Figure size 720x720 with 1 Axes>"
      ]
     },
     "metadata": {
      "needs_background": "light"
     },
     "output_type": "display_data"
    }
   ],
   "source": [
    "df_train['Rating'].value_counts(ascending=True).plot(kind='barh')"
   ]
  },
  {
   "cell_type": "markdown",
   "metadata": {},
   "source": [
    "### Посмотрим распределение целевой переменной относительно признака"
   ]
  },
  {
   "cell_type": "code",
   "execution_count": 83,
   "metadata": {
    "execution": {
     "iopub.execute_input": "2021-08-02T15:10:05.988687Z",
     "iopub.status.busy": "2021-08-02T15:10:05.988348Z",
     "iopub.status.idle": "2021-08-02T15:10:06.525345Z",
     "shell.execute_reply": "2021-08-02T15:10:06.523974Z",
     "shell.execute_reply.started": "2021-08-02T15:10:05.988628Z"
    }
   },
   "outputs": [
    {
     "data": {
      "text/plain": [
       "<matplotlib.axes._subplots.AxesSubplot at 0x7fda531bd198>"
      ]
     },
     "execution_count": 83,
     "metadata": {},
     "output_type": "execute_result"
    },
    {
     "data": {
      "image/png": "[encoded data removed]",
      "text/plain": [
       "<Figure size 720x720 with 1 Axes>"
      ]
     },
     "metadata": {
      "needs_background": "light"
     },
     "output_type": "display_data"
    }
   ],
   "source": [
    "df_train['Ranking'][df_train['Rating'] == 5].hist(bins=100)"
   ]
  },
  {
   "cell_type": "code",
   "execution_count": 84,
   "metadata": {
    "execution": {
     "iopub.execute_input": "2021-08-02T15:10:19.485003Z",
     "iopub.status.busy": "2021-08-02T15:10:19.484708Z",
     "iopub.status.idle": "2021-08-02T15:10:20.013685Z",
     "shell.execute_reply": "2021-08-02T15:10:20.012353Z",
     "shell.execute_reply.started": "2021-08-02T15:10:19.484967Z"
    }
   },
   "outputs": [
    {
     "data": {
      "text/plain": [
       "<matplotlib.axes._subplots.AxesSubplot at 0x7fda72d5b780>"
      ]
     },
     "execution_count": 84,
     "metadata": {},
     "output_type": "execute_result"
    },
    {
     "data": {
      "image/png": "[encoded data removed]",
      "text/plain": [
       "<Figure size 720x720 with 1 Axes>"
      ]
     },
     "metadata": {
      "needs_background": "light"
     },
     "output_type": "display_data"
    }
   ],
   "source": [
    "df_train['Ranking'][df_train['Rating'] < 4].hist(bins=100)"
   ]
  },
  {
   "cell_type": "markdown",
   "metadata": {},
   "source": [
    "### И один из моих любимых - [корреляция признаков](https://ru.wikipedia.org/wiki/Корреляция)\n",
    "На этом графике уже сейчас вы сможете заметить, как признаки связаны между собой и с целевой переменной."
   ]
  },
  {
   "cell_type": "code",
   "execution_count": 34,
   "metadata": {
    "execution": {
     "iopub.execute_input": "2021-08-02T15:10:35.962434Z",
     "iopub.status.busy": "2021-08-02T15:10:35.962045Z",
     "iopub.status.idle": "2021-08-02T15:10:36.360860Z",
     "shell.execute_reply": "2021-08-02T15:10:36.359756Z",
     "shell.execute_reply.started": "2021-08-02T15:10:35.962367Z"
    }
   },
   "outputs": [
    {
     "data": {
      "text/plain": [
       "<AxesSubplot:>"
      ]
     },
     "execution_count": 34,
     "metadata": {},
     "output_type": "execute_result"
    },
    {
     "data": {
      "image/png": "[encoded data removed]",
      "text/plain": [
       "<Figure size 1080x720 with 2 Axes>"
      ]
     },
     "metadata": {
      "needs_background": "light"
     },
     "output_type": "display_data"
    }
   ],
   "source": [
    "plt.rcParams['figure.figsize'] = (15, 10)\n",
    "sns.heatmap(data.drop(['sample'], axis=1).corr(),)"
   ]
  },
  {
   "cell_type": "markdown",
   "metadata": {},
   "source": [
    "Вообще благодаря визуализации в этом датасете можно узнать много интересных фактов, например:\n",
    "* где больше Пицерий в Мадриде или Лондоне?\n",
    "* в каком городе кухня ресторанов более разнообразна?\n",
    "\n",
    "придумайте свои вопрос и найдите на него ответ в данных)"
   ]
  },
  {
   "cell_type": "markdown",
   "metadata": {},
   "source": [
    "# Data Preprocessing\n",
    "Теперь, для удобства и воспроизводимости кода, завернем всю обработку в одну большую функцию."
   ]
  },
  {
   "cell_type": "code",
   "execution_count": 19,
   "metadata": {
    "execution": {
     "iopub.execute_input": "2021-08-03T07:18:17.190270Z",
     "iopub.status.busy": "2021-08-03T07:18:17.189933Z",
     "iopub.status.idle": "2021-08-03T07:18:17.507651Z",
     "shell.execute_reply": "2021-08-03T07:18:17.506479Z",
     "shell.execute_reply.started": "2021-08-03T07:18:17.190203Z"
    }
   },
   "outputs": [
    {
     "name": "stdout",
     "output_type": "stream",
     "text": [
      "<class 'pandas.core.frame.DataFrame'>\n",
      "RangeIndex: 50000 entries, 0 to 49999\n",
      "Data columns (total 11 columns):\n",
      " #   Column             Non-Null Count  Dtype  \n",
      "---  ------             --------------  -----  \n",
      " 0   Restaurant_id      50000 non-null  object \n",
      " 1   City               50000 non-null  object \n",
      " 2   Cuisine Style      38410 non-null  object \n",
      " 3   Ranking            50000 non-null  float64\n",
      " 4   Price Range        32639 non-null  object \n",
      " 5   Number of Reviews  46800 non-null  float64\n",
      " 6   Reviews            49998 non-null  object \n",
      " 7   URL_TA             50000 non-null  object \n",
      " 8   ID_TA              50000 non-null  object \n",
      " 9   sample             50000 non-null  int64  \n",
      " 10  Rating             50000 non-null  float64\n",
      "dtypes: float64(3), int64(1), object(7)\n",
      "memory usage: 4.2+ MB\n"
     ]
    }
   ],
   "source": [
    "# на всякий случай, заново подгружаем данные\n",
    "df_train = pd.read_csv('main_task_new.csv')\n",
    "df_test = pd.read_csv('kaggle_task.csv')\n",
    "df_train['sample'] = 1  # помечаем где у нас трейн\n",
    "df_test['sample'] = 0  # помечаем где у нас тест\n",
    "# в тесте у нас нет значения Rating, мы его должны предсказать, по этому пока просто заполняем нулями\n",
    "df_test['Rating'] = 0\n",
    "\n",
    "data = df_test.append(df_train, sort=False).reset_index(\n",
    "    drop=True)  # объединяем\n",
    "data.info()"
   ]
  },
  {
   "cell_type": "code",
   "execution_count": 20,
   "metadata": {
    "execution": {
     "iopub.execute_input": "2021-08-03T07:18:21.111123Z",
     "iopub.status.busy": "2021-08-03T07:18:21.110786Z",
     "iopub.status.idle": "2021-08-03T07:18:21.118013Z",
     "shell.execute_reply": "2021-08-03T07:18:21.117172Z",
     "shell.execute_reply.started": "2021-08-03T07:18:21.111052Z"
    }
   },
   "outputs": [],
   "source": [
    "# словарь с населением городов, создан вручную\n",
    "cities_dict = {'Paris': 2148327, 'Stockholm': 975550, 'London': 8961989, 'Berlin': 3669491, 'Munich': 1488202, 'Oporto': 214349, 'Milan': 1399860, 'Bratislava': 424428, 'Vienna': 1921153, 'Rome': 2790712, 'Barcelona': 1664182, 'Madrid': 3334730,\n",
    "               'Dublin': 1173179, 'Brussels': 1212352, 'Zurich': 402762, 'Warsaw': 1793579, 'Budapest': 1750216, 'Copenhagen': 794023, 'Amsterdam': 872757, 'Lyon': 516092, 'Hamburg': 1845229, 'Lisbon': 506654, 'Prague': 1335084, 'Oslo': 697010, 'Helsinki': 656250,\n",
    "               'Edinburgh': 482005, 'Geneva': 198979, 'Ljubljana': 279631, 'Athens': 664046, 'Luxembourg': 114303, 'Krakow': 779115}"
   ]
  },
  {
   "cell_type": "code",
   "execution_count": 21,
   "metadata": {
    "execution": {
     "iopub.execute_input": "2021-08-03T07:18:23.486768Z",
     "iopub.status.busy": "2021-08-03T07:18:23.486485Z",
     "iopub.status.idle": "2021-08-03T07:18:23.500218Z",
     "shell.execute_reply": "2021-08-03T07:18:23.499483Z",
     "shell.execute_reply.started": "2021-08-03T07:18:23.486733Z"
    }
   },
   "outputs": [],
   "source": [
    "import datetime\n",
    "from datetime import datetime, timedelta\n",
    "\n",
    "# Функция для кодировки признака Price Range\n",
    "\n",
    "\n",
    "def change_price(x):\n",
    "    if x == '$$ - $$$':\n",
    "        return 2\n",
    "    if x == '$':\n",
    "        return 1\n",
    "    if x == '$$$$':\n",
    "        return 3\n",
    "    else:\n",
    "        return x\n",
    "\n",
    "# Функция для извлечения дат отзывов из столбца с отзывами\n",
    "\n",
    "\n",
    "def make_list_from_reviews(x):\n",
    "    if type(x) == str:\n",
    "        x = x.replace('[', '')\n",
    "        x = x.replace(',', '')\n",
    "        x = x.replace(' ', '')\n",
    "        x = x.replace(\"'\", '')\n",
    "        x_list = x.split(\"]\")\n",
    "        return x_list[1]\n",
    "    else:\n",
    "        return x\n",
    "\n",
    "# Функция для перевода дат отзывов в формат datetime\n",
    "\n",
    "\n",
    "def to_datetime(x):\n",
    "    if type(x) is str:\n",
    "        if len(x) == 20:\n",
    "            i = datetime.strptime(x[:10], '%m/%d/%Y')\n",
    "            z = datetime.strptime(x[10:], '%m/%d/%Y')\n",
    "            return [i, z]\n",
    "        elif len(x) == 10:\n",
    "            return datetime.strptime(x, '%m/%d/%Y')\n",
    "        else:\n",
    "            return None\n",
    "    else:\n",
    "        return None\n",
    "\n",
    "# Функция для подсчета интервала написания отзывов, если отзывов больше 1\n",
    "\n",
    "\n",
    "def time_between_reviews(x):\n",
    "    if type(x) is list:\n",
    "        y = x[0]-x[1]\n",
    "        return y.days\n",
    "    else:\n",
    "        return None\n",
    "\n",
    "# Функция для подсчета времени с последнего оставленного отзыва\n",
    "\n",
    "\n",
    "def days_from_last_review(x):\n",
    "    if type(x) is list:\n",
    "        last_review = np.max(x)\n",
    "        now = datetime.now()\n",
    "        return (now - last_review).days\n",
    "    else:\n",
    "        if pd.isna(x):\n",
    "            return x\n",
    "        if not pd.isna(x):\n",
    "            return (datetime.now() - x).days\n",
    "        else:\n",
    "            return x\n",
    "\n",
    "# Функция для преобразовния формата данных в столбце кухонь из строкового в список\n",
    "\n",
    "\n",
    "def make_list_for_cuisines(x):\n",
    "    if type(x) == str:\n",
    "        x = x.replace('[', '')\n",
    "        x = x.replace(']', '')\n",
    "        x = x.replace(' ', '')\n",
    "        x = x.replace(\"'\", '')\n",
    "        x_list = x.split(',')\n",
    "        return x_list\n",
    "    else:\n",
    "        return x"
   ]
  },
  {
   "cell_type": "code",
   "execution_count": null,
   "metadata": {},
   "outputs": [],
   "source": []
  },
  {
   "cell_type": "code",
   "execution_count": null,
   "metadata": {
    "execution": {
     "iopub.execute_input": "2021-07-30T12:12:12.511231Z",
     "iopub.status.busy": "2021-07-30T12:12:12.510735Z",
     "iopub.status.idle": "2021-07-30T12:12:12.516926Z",
     "shell.execute_reply": "2021-07-30T12:12:12.516406Z",
     "shell.execute_reply.started": "2021-07-30T12:12:12.511166Z"
    }
   },
   "outputs": [],
   "source": []
  },
  {
   "cell_type": "code",
   "execution_count": 94,
   "metadata": {
    "execution": {
     "iopub.execute_input": "2021-08-03T07:18:26.037723Z",
     "iopub.status.busy": "2021-08-03T07:18:26.037013Z",
     "iopub.status.idle": "2021-08-03T07:18:26.053728Z",
     "shell.execute_reply": "2021-08-03T07:18:26.052710Z",
     "shell.execute_reply.started": "2021-08-03T07:18:26.037667Z"
    }
   },
   "outputs": [],
   "source": [
    "def preproc_data(df_input):\n",
    "    '''includes several functions to pre-process the predictor data.'''\n",
    "\n",
    "    df_output = df_input.copy()\n",
    "    test_data = df_input.copy()\n",
    "    test_data['Cuisine Style'] = test_data['Cuisine Style'].apply(\n",
    "        make_list_for_cuisines)\n",
    "    explode_data = test_data.explode('Cuisine Style')\n",
    "\n",
    "    # Создаем список из 5 самых популярных кухонь в ресторанах\n",
    "    top_5_list = list(\n",
    "        explode_data['Cuisine Style'].value_counts().head(5).index)\n",
    "\n",
    "    # Создаем словарь с количеством ресторанов в каждом городе\n",
    "    restaurants_amount_dict = dict(df_output['City'].value_counts())\n",
    "\n",
    "    # Функция для проверки наличия в ресторане популярных кухонь\n",
    "    def check_top_5(x):\n",
    "        if type(x) is list:\n",
    "            y = 0\n",
    "            for i in x:\n",
    "                if i in top_5_list:\n",
    "                    y += 1\n",
    "            return y\n",
    "        else:\n",
    "            return x\n",
    "\n",
    "    # ################### 1. Предобработка ##############################################################\n",
    "    # Убираем ненужные для модели признаки, редактируем существующие и создаем некоторые новые\n",
    "    df_output.drop(['Restaurant_id', 'ID_TA', ], axis=1, inplace=True)\n",
    "    df_output['Price Range'] = df_output['Price Range'].apply(change_price)\n",
    "    df_output['population'] = df_output['City'].apply(lambda x: cities_dict[x])\n",
    "    df_output['dates_of_Reviews'] = df_output['Reviews'].apply(\n",
    "        make_list_from_reviews)\n",
    "    df_output['dates_of_Reviews'] = df_output['dates_of_Reviews'].apply(\n",
    "        to_datetime)\n",
    "    df_output['quantity_of_reviews'] = df_output['dates_of_Reviews'].apply(\n",
    "        time_between_reviews)\n",
    "    df_output['last_review_days'] = df_output['dates_of_Reviews'].apply(\n",
    "        days_from_last_review)\n",
    "    df_output['amount_cuisines'] = test_data['Cuisine Style'].apply(\n",
    "        lambda x: len(x) if type(x) is list else 1)\n",
    "    df_output['top_5_cuisines'] = test_data['Cuisine Style'].apply(check_top_5)\n",
    "    df_output['price_range_isnan'] = pd.isna(\n",
    "        df_output['Price Range']).astype('uint8')\n",
    "\n",
    "    # ################### 2. NAN ##############################################################\n",
    "    # Далее заполняем пропуски, вы можете попробовать заполнением средним или средним по городу и тд...\n",
    "    df_output['Number of Reviews'].fillna(1, inplace=True)\n",
    "    df_output['Price Range'].fillna(0, inplace=True)\n",
    "    df_output['quantity_of_reviews'].fillna(\n",
    "        df_output['quantity_of_reviews'].median(), inplace=True)\n",
    "    df_output['last_review_days'].fillna(\n",
    "        df_output['last_review_days'].mean(), inplace=True)\n",
    "    df_output['top_5_cuisines'].fillna(0, inplace=True)\n",
    "\n",
    "    # ################### 3. Feature Engineering ####################################################\n",
    "    # тут ваш код не генерацию новых фитчей\n",
    "    # Добавляем еще некоторые признаки после заполнения nan значений\n",
    "    df_output['restaurant_amount'] = df_output['City'].apply(\n",
    "        lambda x: restaurants_amount_dict[x])\n",
    "    df_output['rank_per_restaurant'] = df_output['Ranking'] / \\\n",
    "        df_output['restaurant_amount']\n",
    "    df_output['review_activity'] = df_output['Number of Reviews'] * \\\n",
    "        df_output['Ranking']\n",
    "\n",
    "    # ################### 4. Encoding ##############################################################\n",
    "    # для One-Hot Encoding в pandas есть готовая функция - get_dummies. Особенно радует параметр dummy_na\n",
    "    df_output = pd.get_dummies(df_output, columns=['City'], dummy_na=True)\n",
    "    df_output['cuisines_and_prices'] = df_output['top_5_cuisines'] * \\\n",
    "        df_output['Price Range']\n",
    "    df_output['rank_per_population'] = df_output['Ranking'] / \\\n",
    "        df_output['population']\n",
    "\n",
    "    # ################### 5. Clean ####################################################\n",
    "    # убираем признаки которые еще не успели обработать,\n",
    "    # модель на признаках с dtypes \"object\" обучаться не будет, просто выберим их и удалим\n",
    "    object_columns = [\n",
    "        s for s in df_output.columns if df_output[s].dtypes == 'object']\n",
    "    df_output.drop(object_columns, axis=1, inplace=True)\n",
    "\n",
    "    return df_output"
   ]
  },
  {
   "cell_type": "markdown",
   "metadata": {},
   "source": [
    ">По хорошему, можно было бы перевести эту большую функцию в класс и разбить на подфункции (согласно ООП). "
   ]
  },
  {
   "cell_type": "code",
   "execution_count": null,
   "metadata": {},
   "outputs": [],
   "source": []
  },
  {
   "cell_type": "markdown",
   "metadata": {},
   "source": [
    "#### Запускаем и проверяем что получилось"
   ]
  },
  {
   "cell_type": "code",
   "execution_count": 95,
   "metadata": {
    "execution": {
     "iopub.execute_input": "2021-08-03T07:18:29.925974Z",
     "iopub.status.busy": "2021-08-03T07:18:29.925643Z",
     "iopub.status.idle": "2021-08-03T07:18:32.201813Z",
     "shell.execute_reply": "2021-08-03T07:18:32.200559Z",
     "shell.execute_reply.started": "2021-08-03T07:18:29.925918Z"
    }
   },
   "outputs": [
    {
     "data": {
      "text/html": [
       "<div>\n",
       "<style scoped>\n",
       "    .dataframe tbody tr th:only-of-type {\n",
       "        vertical-align: middle;\n",
       "    }\n",
       "\n",
       "    .dataframe tbody tr th {\n",
       "        vertical-align: top;\n",
       "    }\n",
       "\n",
       "    .dataframe thead th {\n",
       "        text-align: right;\n",
       "    }\n",
       "</style>\n",
       "<table border=\"1\" class=\"dataframe\">\n",
       "  <thead>\n",
       "    <tr style=\"text-align: right;\">\n",
       "      <th></th>\n",
       "      <th>Ranking</th>\n",
       "      <th>Price Range</th>\n",
       "      <th>Number of Reviews</th>\n",
       "      <th>sample</th>\n",
       "      <th>Rating</th>\n",
       "      <th>population</th>\n",
       "      <th>quantity_of_reviews</th>\n",
       "      <th>last_review_days</th>\n",
       "      <th>amount_cuisines</th>\n",
       "      <th>top_5_cuisines</th>\n",
       "      <th>...</th>\n",
       "      <th>City_Paris</th>\n",
       "      <th>City_Prague</th>\n",
       "      <th>City_Rome</th>\n",
       "      <th>City_Stockholm</th>\n",
       "      <th>City_Vienna</th>\n",
       "      <th>City_Warsaw</th>\n",
       "      <th>City_Zurich</th>\n",
       "      <th>City_nan</th>\n",
       "      <th>cuisines_and_prices</th>\n",
       "      <th>rank_per_population</th>\n",
       "    </tr>\n",
       "  </thead>\n",
       "  <tbody>\n",
       "    <tr>\n",
       "      <th>9465</th>\n",
       "      <td>425.0</td>\n",
       "      <td>3.0</td>\n",
       "      <td>115.0</td>\n",
       "      <td>0</td>\n",
       "      <td>0.0</td>\n",
       "      <td>402762</td>\n",
       "      <td>195.0</td>\n",
       "      <td>1517.000000</td>\n",
       "      <td>4</td>\n",
       "      <td>4.0</td>\n",
       "      <td>...</td>\n",
       "      <td>0</td>\n",
       "      <td>0</td>\n",
       "      <td>0</td>\n",
       "      <td>0</td>\n",
       "      <td>0</td>\n",
       "      <td>0</td>\n",
       "      <td>1</td>\n",
       "      <td>0</td>\n",
       "      <td>12.0</td>\n",
       "      <td>0.001055</td>\n",
       "    </tr>\n",
       "    <tr>\n",
       "      <th>24860</th>\n",
       "      <td>135.0</td>\n",
       "      <td>2.0</td>\n",
       "      <td>62.0</td>\n",
       "      <td>1</td>\n",
       "      <td>4.5</td>\n",
       "      <td>1845229</td>\n",
       "      <td>185.0</td>\n",
       "      <td>1389.000000</td>\n",
       "      <td>2</td>\n",
       "      <td>2.0</td>\n",
       "      <td>...</td>\n",
       "      <td>0</td>\n",
       "      <td>0</td>\n",
       "      <td>0</td>\n",
       "      <td>0</td>\n",
       "      <td>0</td>\n",
       "      <td>0</td>\n",
       "      <td>0</td>\n",
       "      <td>0</td>\n",
       "      <td>4.0</td>\n",
       "      <td>0.000073</td>\n",
       "    </tr>\n",
       "    <tr>\n",
       "      <th>2323</th>\n",
       "      <td>1171.0</td>\n",
       "      <td>0.0</td>\n",
       "      <td>1.0</td>\n",
       "      <td>0</td>\n",
       "      <td>0.0</td>\n",
       "      <td>794023</td>\n",
       "      <td>55.0</td>\n",
       "      <td>1544.032948</td>\n",
       "      <td>1</td>\n",
       "      <td>0.0</td>\n",
       "      <td>...</td>\n",
       "      <td>0</td>\n",
       "      <td>0</td>\n",
       "      <td>0</td>\n",
       "      <td>0</td>\n",
       "      <td>0</td>\n",
       "      <td>0</td>\n",
       "      <td>0</td>\n",
       "      <td>0</td>\n",
       "      <td>0.0</td>\n",
       "      <td>0.001475</td>\n",
       "    </tr>\n",
       "    <tr>\n",
       "      <th>31404</th>\n",
       "      <td>5935.0</td>\n",
       "      <td>2.0</td>\n",
       "      <td>130.0</td>\n",
       "      <td>1</td>\n",
       "      <td>3.5</td>\n",
       "      <td>2148327</td>\n",
       "      <td>317.0</td>\n",
       "      <td>1522.000000</td>\n",
       "      <td>2</td>\n",
       "      <td>1.0</td>\n",
       "      <td>...</td>\n",
       "      <td>1</td>\n",
       "      <td>0</td>\n",
       "      <td>0</td>\n",
       "      <td>0</td>\n",
       "      <td>0</td>\n",
       "      <td>0</td>\n",
       "      <td>0</td>\n",
       "      <td>0</td>\n",
       "      <td>2.0</td>\n",
       "      <td>0.002763</td>\n",
       "    </tr>\n",
       "    <tr>\n",
       "      <th>15756</th>\n",
       "      <td>3033.0</td>\n",
       "      <td>0.0</td>\n",
       "      <td>1.0</td>\n",
       "      <td>1</td>\n",
       "      <td>4.0</td>\n",
       "      <td>1335084</td>\n",
       "      <td>55.0</td>\n",
       "      <td>1544.032948</td>\n",
       "      <td>1</td>\n",
       "      <td>0.0</td>\n",
       "      <td>...</td>\n",
       "      <td>0</td>\n",
       "      <td>1</td>\n",
       "      <td>0</td>\n",
       "      <td>0</td>\n",
       "      <td>0</td>\n",
       "      <td>0</td>\n",
       "      <td>0</td>\n",
       "      <td>0</td>\n",
       "      <td>0.0</td>\n",
       "      <td>0.002272</td>\n",
       "    </tr>\n",
       "    <tr>\n",
       "      <th>23280</th>\n",
       "      <td>13036.0</td>\n",
       "      <td>0.0</td>\n",
       "      <td>20.0</td>\n",
       "      <td>1</td>\n",
       "      <td>3.5</td>\n",
       "      <td>8961989</td>\n",
       "      <td>-54.0</td>\n",
       "      <td>1432.000000</td>\n",
       "      <td>2</td>\n",
       "      <td>0.0</td>\n",
       "      <td>...</td>\n",
       "      <td>0</td>\n",
       "      <td>0</td>\n",
       "      <td>0</td>\n",
       "      <td>0</td>\n",
       "      <td>0</td>\n",
       "      <td>0</td>\n",
       "      <td>0</td>\n",
       "      <td>0</td>\n",
       "      <td>0.0</td>\n",
       "      <td>0.001455</td>\n",
       "    </tr>\n",
       "    <tr>\n",
       "      <th>2019</th>\n",
       "      <td>11557.0</td>\n",
       "      <td>1.0</td>\n",
       "      <td>9.0</td>\n",
       "      <td>0</td>\n",
       "      <td>0.0</td>\n",
       "      <td>2148327</td>\n",
       "      <td>865.0</td>\n",
       "      <td>2189.000000</td>\n",
       "      <td>2</td>\n",
       "      <td>0.0</td>\n",
       "      <td>...</td>\n",
       "      <td>1</td>\n",
       "      <td>0</td>\n",
       "      <td>0</td>\n",
       "      <td>0</td>\n",
       "      <td>0</td>\n",
       "      <td>0</td>\n",
       "      <td>0</td>\n",
       "      <td>0</td>\n",
       "      <td>0.0</td>\n",
       "      <td>0.005380</td>\n",
       "    </tr>\n",
       "    <tr>\n",
       "      <th>43933</th>\n",
       "      <td>1772.0</td>\n",
       "      <td>2.0</td>\n",
       "      <td>24.0</td>\n",
       "      <td>1</td>\n",
       "      <td>4.0</td>\n",
       "      <td>1488202</td>\n",
       "      <td>58.0</td>\n",
       "      <td>1828.000000</td>\n",
       "      <td>4</td>\n",
       "      <td>1.0</td>\n",
       "      <td>...</td>\n",
       "      <td>0</td>\n",
       "      <td>0</td>\n",
       "      <td>0</td>\n",
       "      <td>0</td>\n",
       "      <td>0</td>\n",
       "      <td>0</td>\n",
       "      <td>0</td>\n",
       "      <td>0</td>\n",
       "      <td>2.0</td>\n",
       "      <td>0.001191</td>\n",
       "    </tr>\n",
       "    <tr>\n",
       "      <th>31816</th>\n",
       "      <td>2525.0</td>\n",
       "      <td>1.0</td>\n",
       "      <td>33.0</td>\n",
       "      <td>1</td>\n",
       "      <td>4.0</td>\n",
       "      <td>1399860</td>\n",
       "      <td>178.0</td>\n",
       "      <td>2122.000000</td>\n",
       "      <td>1</td>\n",
       "      <td>0.0</td>\n",
       "      <td>...</td>\n",
       "      <td>0</td>\n",
       "      <td>0</td>\n",
       "      <td>0</td>\n",
       "      <td>0</td>\n",
       "      <td>0</td>\n",
       "      <td>0</td>\n",
       "      <td>0</td>\n",
       "      <td>0</td>\n",
       "      <td>0.0</td>\n",
       "      <td>0.001804</td>\n",
       "    </tr>\n",
       "    <tr>\n",
       "      <th>22546</th>\n",
       "      <td>401.0</td>\n",
       "      <td>2.0</td>\n",
       "      <td>91.0</td>\n",
       "      <td>1</td>\n",
       "      <td>4.0</td>\n",
       "      <td>779115</td>\n",
       "      <td>79.0</td>\n",
       "      <td>1338.000000</td>\n",
       "      <td>6</td>\n",
       "      <td>1.0</td>\n",
       "      <td>...</td>\n",
       "      <td>0</td>\n",
       "      <td>0</td>\n",
       "      <td>0</td>\n",
       "      <td>0</td>\n",
       "      <td>0</td>\n",
       "      <td>0</td>\n",
       "      <td>0</td>\n",
       "      <td>0</td>\n",
       "      <td>2.0</td>\n",
       "      <td>0.000515</td>\n",
       "    </tr>\n",
       "  </tbody>\n",
       "</table>\n",
       "<p>10 rows × 48 columns</p>\n",
       "</div>"
      ],
      "text/plain": [
       "       Ranking  Price Range  Number of Reviews  sample  Rating  population  \\\n",
       "9465     425.0          3.0              115.0       0     0.0      402762   \n",
       "24860    135.0          2.0               62.0       1     4.5     1845229   \n",
       "2323    1171.0          0.0                1.0       0     0.0      794023   \n",
       "31404   5935.0          2.0              130.0       1     3.5     2148327   \n",
       "15756   3033.0          0.0                1.0       1     4.0     1335084   \n",
       "23280  13036.0          0.0               20.0       1     3.5     8961989   \n",
       "2019   11557.0          1.0                9.0       0     0.0     2148327   \n",
       "43933   1772.0          2.0               24.0       1     4.0     1488202   \n",
       "31816   2525.0          1.0               33.0       1     4.0     1399860   \n",
       "22546    401.0          2.0               91.0       1     4.0      779115   \n",
       "\n",
       "       quantity_of_reviews  last_review_days  amount_cuisines  top_5_cuisines  \\\n",
       "9465                 195.0       1517.000000                4             4.0   \n",
       "24860                185.0       1389.000000                2             2.0   \n",
       "2323                  55.0       1544.032948                1             0.0   \n",
       "31404                317.0       1522.000000                2             1.0   \n",
       "15756                 55.0       1544.032948                1             0.0   \n",
       "23280                -54.0       1432.000000                2             0.0   \n",
       "2019                 865.0       2189.000000                2             0.0   \n",
       "43933                 58.0       1828.000000                4             1.0   \n",
       "31816                178.0       2122.000000                1             0.0   \n",
       "22546                 79.0       1338.000000                6             1.0   \n",
       "\n",
       "       ...  City_Paris  City_Prague  City_Rome  City_Stockholm  City_Vienna  \\\n",
       "9465   ...           0            0          0               0            0   \n",
       "24860  ...           0            0          0               0            0   \n",
       "2323   ...           0            0          0               0            0   \n",
       "31404  ...           1            0          0               0            0   \n",
       "15756  ...           0            1          0               0            0   \n",
       "23280  ...           0            0          0               0            0   \n",
       "2019   ...           1            0          0               0            0   \n",
       "43933  ...           0            0          0               0            0   \n",
       "31816  ...           0            0          0               0            0   \n",
       "22546  ...           0            0          0               0            0   \n",
       "\n",
       "       City_Warsaw  City_Zurich  City_nan  cuisines_and_prices  \\\n",
       "9465             0            1         0                 12.0   \n",
       "24860            0            0         0                  4.0   \n",
       "2323             0            0         0                  0.0   \n",
       "31404            0            0         0                  2.0   \n",
       "15756            0            0         0                  0.0   \n",
       "23280            0            0         0                  0.0   \n",
       "2019             0            0         0                  0.0   \n",
       "43933            0            0         0                  2.0   \n",
       "31816            0            0         0                  0.0   \n",
       "22546            0            0         0                  2.0   \n",
       "\n",
       "       rank_per_population  \n",
       "9465              0.001055  \n",
       "24860             0.000073  \n",
       "2323              0.001475  \n",
       "31404             0.002763  \n",
       "15756             0.002272  \n",
       "23280             0.001455  \n",
       "2019              0.005380  \n",
       "43933             0.001191  \n",
       "31816             0.001804  \n",
       "22546             0.000515  \n",
       "\n",
       "[10 rows x 48 columns]"
      ]
     },
     "execution_count": 95,
     "metadata": {},
     "output_type": "execute_result"
    }
   ],
   "source": [
    "df_preproc = preproc_data(data)\n",
    "df_preproc.sample(10)"
   ]
  },
  {
   "cell_type": "code",
   "execution_count": 77,
   "metadata": {
    "execution": {
     "iopub.execute_input": "2021-08-02T15:14:01.182848Z",
     "iopub.status.busy": "2021-08-02T15:14:01.182386Z",
     "iopub.status.idle": "2021-08-02T15:14:02.812117Z",
     "shell.execute_reply": "2021-08-02T15:14:02.811094Z",
     "shell.execute_reply.started": "2021-08-02T15:14:01.182788Z"
    }
   },
   "outputs": [
    {
     "data": {
      "text/plain": [
       "<AxesSubplot:>"
      ]
     },
     "execution_count": 77,
     "metadata": {},
     "output_type": "execute_result"
    },
    {
     "data": {
      "image/png": "[encoded data removed]",
      "text/plain": [
       "<Figure size 1080x720 with 2 Axes>"
      ]
     },
     "metadata": {
      "needs_background": "light"
     },
     "output_type": "display_data"
    }
   ],
   "source": [
    "plt.rcParams['figure.figsize'] = (15,10)\n",
    "sns.heatmap(df_preproc.corr(),)"
   ]
  },
  {
   "cell_type": "code",
   "execution_count": null,
   "metadata": {
    "execution": {
     "iopub.execute_input": "2021-08-02T10:15:58.448860Z",
     "iopub.status.busy": "2021-08-02T10:15:58.448535Z",
     "iopub.status.idle": "2021-08-02T10:15:58.495520Z",
     "shell.execute_reply": "2021-08-02T10:15:58.494455Z",
     "shell.execute_reply.started": "2021-08-02T10:15:58.448804Z"
    }
   },
   "outputs": [],
   "source": [
    "df_preproc.info()"
   ]
  },
  {
   "cell_type": "code",
   "execution_count": 96,
   "metadata": {
    "execution": {
     "iopub.execute_input": "2021-08-03T07:18:39.249439Z",
     "iopub.status.busy": "2021-08-03T07:18:39.249121Z",
     "iopub.status.idle": "2021-08-03T07:18:39.282089Z",
     "shell.execute_reply": "2021-08-03T07:18:39.281374Z",
     "shell.execute_reply.started": "2021-08-03T07:18:39.249390Z"
    }
   },
   "outputs": [],
   "source": [
    "# Теперь выделим тестовую часть\n",
    "train_data = df_preproc.query('sample == 1').drop(['sample'], axis=1)\n",
    "test_data = df_preproc.query('sample == 0').drop(['sample'], axis=1)\n",
    "\n",
    "y = train_data.Rating.values            # наш таргет\n",
    "X = train_data.drop(['Rating'], axis=1)"
   ]
  },
  {
   "cell_type": "markdown",
   "metadata": {},
   "source": [
    "**Перед тем как отправлять наши данные на обучение, разделим данные на еще один тест и трейн, для валидации. \n",
    "Это поможет нам проверить, как хорошо наша модель работает, до отправки submissiona на kaggle.**"
   ]
  },
  {
   "cell_type": "code",
   "execution_count": 97,
   "metadata": {
    "execution": {
     "iopub.execute_input": "2021-08-03T07:18:42.219467Z",
     "iopub.status.busy": "2021-08-03T07:18:42.219146Z",
     "iopub.status.idle": "2021-08-03T07:18:42.237262Z",
     "shell.execute_reply": "2021-08-03T07:18:42.236223Z",
     "shell.execute_reply.started": "2021-08-03T07:18:42.219421Z"
    }
   },
   "outputs": [],
   "source": [
    "# Воспользуемся специальной функцие train_test_split для разбивки тестовых данных\n",
    "# выделим 20% данных на валидацию (параметр test_size)\n",
    "X_train, X_test, y_train, y_test = train_test_split(X, y, test_size=0.2, random_state=RANDOM_SEED)"
   ]
  },
  {
   "cell_type": "code",
   "execution_count": 98,
   "metadata": {
    "execution": {
     "iopub.execute_input": "2021-08-03T07:18:44.845479Z",
     "iopub.status.busy": "2021-08-03T07:18:44.845000Z",
     "iopub.status.idle": "2021-08-03T07:18:44.852674Z",
     "shell.execute_reply": "2021-08-03T07:18:44.851409Z",
     "shell.execute_reply.started": "2021-08-03T07:18:44.845434Z"
    }
   },
   "outputs": [
    {
     "data": {
      "text/plain": [
       "((10000, 47), (40000, 47), (40000, 46), (32000, 46), (8000, 46))"
      ]
     },
     "execution_count": 98,
     "metadata": {},
     "output_type": "execute_result"
    }
   ],
   "source": [
    "# проверяем\n",
    "test_data.shape, train_data.shape, X.shape, X_train.shape, X_test.shape"
   ]
  },
  {
   "cell_type": "markdown",
   "metadata": {},
   "source": [
    "# Model \n",
    "Сам ML"
   ]
  },
  {
   "cell_type": "code",
   "execution_count": 99,
   "metadata": {
    "execution": {
     "iopub.execute_input": "2021-08-03T07:18:47.507502Z",
     "iopub.status.busy": "2021-08-03T07:18:47.506959Z",
     "iopub.status.idle": "2021-08-03T07:18:47.755141Z",
     "shell.execute_reply": "2021-08-03T07:18:47.754103Z",
     "shell.execute_reply.started": "2021-08-03T07:18:47.507429Z"
    }
   },
   "outputs": [],
   "source": [
    "# Импортируем необходимые библиотеки:\n",
    "from sklearn.ensemble import RandomForestRegressor # инструмент для создания и обучения модели\n",
    "from sklearn import metrics # инструменты для оценки точности модели"
   ]
  },
  {
   "cell_type": "code",
   "execution_count": 100,
   "metadata": {
    "execution": {
     "iopub.execute_input": "2021-08-03T07:18:49.830514Z",
     "iopub.status.busy": "2021-08-03T07:18:49.830161Z",
     "iopub.status.idle": "2021-08-03T07:18:49.834988Z",
     "shell.execute_reply": "2021-08-03T07:18:49.834039Z",
     "shell.execute_reply.started": "2021-08-03T07:18:49.830457Z"
    }
   },
   "outputs": [],
   "source": [
    "# Создаём модель (НАСТРОЙКИ НЕ ТРОГАЕМ)\n",
    "model = RandomForestRegressor(n_estimators=100, verbose=1, n_jobs=-1, random_state=RANDOM_SEED)"
   ]
  },
  {
   "cell_type": "code",
   "execution_count": 101,
   "metadata": {
    "execution": {
     "iopub.execute_input": "2021-08-03T07:18:53.388440Z",
     "iopub.status.busy": "2021-08-03T07:18:53.388111Z",
     "iopub.status.idle": "2021-08-03T07:19:04.477656Z",
     "shell.execute_reply": "2021-08-03T07:19:04.476443Z",
     "shell.execute_reply.started": "2021-08-03T07:18:53.388386Z"
    }
   },
   "outputs": [
    {
     "name": "stderr",
     "output_type": "stream",
     "text": [
      "[Parallel(n_jobs=-1)]: Using backend ThreadingBackend with 4 concurrent workers.\n",
      "[Parallel(n_jobs=-1)]: Done  42 tasks      | elapsed:    6.6s\n",
      "[Parallel(n_jobs=-1)]: Done 100 out of 100 | elapsed:   15.2s finished\n",
      "[Parallel(n_jobs=4)]: Using backend ThreadingBackend with 4 concurrent workers.\n",
      "[Parallel(n_jobs=4)]: Done  42 tasks      | elapsed:    0.0s\n",
      "[Parallel(n_jobs=4)]: Done 100 out of 100 | elapsed:    0.0s finished\n"
     ]
    }
   ],
   "source": [
    "# Обучаем модель на тестовом наборе данных\n",
    "model.fit(X_train, y_train)\n",
    "\n",
    "# Используем обученную модель для предсказания рейтинга ресторанов в тестовой выборке.\n",
    "# Предсказанные значения записываем в переменную y_pred\n",
    "y_pred = model.predict(X_test)"
   ]
  },
  {
   "cell_type": "code",
   "execution_count": 102,
   "metadata": {
    "execution": {
     "iopub.execute_input": "2021-08-03T07:19:08.369565Z",
     "iopub.status.busy": "2021-08-03T07:19:08.369204Z",
     "iopub.status.idle": "2021-08-03T07:19:08.375925Z",
     "shell.execute_reply": "2021-08-03T07:19:08.374940Z",
     "shell.execute_reply.started": "2021-08-03T07:19:08.369501Z"
    }
   },
   "outputs": [
    {
     "name": "stdout",
     "output_type": "stream",
     "text": [
      "MAE: 0.198814375\n"
     ]
    }
   ],
   "source": [
    "# Сравниваем предсказанные значения (y_pred) с реальными (y_test), и смотрим насколько они в среднем отличаются\n",
    "# Метрика называется Mean Absolute Error (MAE) и показывает среднее отклонение предсказанных значений от фактических.\n",
    "print('MAE:', metrics.mean_absolute_error(y_test, y_pred))"
   ]
  },
  {
   "cell_type": "code",
   "execution_count": 103,
   "metadata": {
    "execution": {
     "iopub.execute_input": "2021-08-03T07:19:12.709882Z",
     "iopub.status.busy": "2021-08-03T07:19:12.709292Z",
     "iopub.status.idle": "2021-08-03T07:19:13.138611Z",
     "shell.execute_reply": "2021-08-03T07:19:13.137506Z",
     "shell.execute_reply.started": "2021-08-03T07:19:12.709818Z"
    }
   },
   "outputs": [
    {
     "data": {
      "text/plain": [
       "<AxesSubplot:>"
      ]
     },
     "execution_count": 103,
     "metadata": {},
     "output_type": "execute_result"
    },
    {
     "data": {
      "image/png": "[encoded data removed]",
      "text/plain": [
       "<Figure size 720x720 with 1 Axes>"
      ]
     },
     "metadata": {
      "needs_background": "light"
     },
     "output_type": "display_data"
    }
   ],
   "source": [
    "# в RandomForestRegressor есть возможность вывести самые важные признаки для модели\n",
    "plt.rcParams['figure.figsize'] = (10,10)\n",
    "feat_importances = pd.Series(model.feature_importances_, index=X.columns)\n",
    "feat_importances.nlargest(15).plot(kind='barh')"
   ]
  },
  {
   "cell_type": "markdown",
   "metadata": {},
   "source": [
    "# Submission\n",
    "Если все устраевает - готовим Submission на кагл"
   ]
  },
  {
   "cell_type": "code",
   "execution_count": null,
   "metadata": {
    "execution": {
     "iopub.execute_input": "2021-08-02T10:47:00.042006Z",
     "iopub.status.busy": "2021-08-02T10:47:00.041672Z",
     "iopub.status.idle": "2021-08-02T10:47:00.081446Z",
     "shell.execute_reply": "2021-08-02T10:47:00.080507Z",
     "shell.execute_reply.started": "2021-08-02T10:47:00.041958Z"
    }
   },
   "outputs": [],
   "source": [
    "test_data.sample(10)"
   ]
  },
  {
   "cell_type": "code",
   "execution_count": null,
   "metadata": {
    "execution": {
     "iopub.execute_input": "2021-08-02T10:47:14.720852Z",
     "iopub.status.busy": "2021-08-02T10:47:14.720529Z",
     "iopub.status.idle": "2021-08-02T10:47:14.728464Z",
     "shell.execute_reply": "2021-08-02T10:47:14.727479Z",
     "shell.execute_reply.started": "2021-08-02T10:47:14.720806Z"
    }
   },
   "outputs": [],
   "source": [
    "test_data = test_data.drop(['Rating'], axis=1)"
   ]
  },
  {
   "cell_type": "code",
   "execution_count": null,
   "metadata": {
    "execution": {
     "iopub.execute_input": "2021-08-02T09:05:33.477004Z",
     "iopub.status.busy": "2021-08-02T09:05:33.476501Z",
     "iopub.status.idle": "2021-08-02T09:05:33.49286Z",
     "shell.execute_reply": "2021-08-02T09:05:33.491532Z",
     "shell.execute_reply.started": "2021-08-02T09:05:33.476933Z"
    }
   },
   "outputs": [],
   "source": [
    "sample_submission"
   ]
  },
  {
   "cell_type": "code",
   "execution_count": null,
   "metadata": {
    "execution": {
     "iopub.execute_input": "2021-08-02T10:47:21.127954Z",
     "iopub.status.busy": "2021-08-02T10:47:21.127625Z",
     "iopub.status.idle": "2021-08-02T10:47:21.340649Z",
     "shell.execute_reply": "2021-08-02T10:47:21.339547Z",
     "shell.execute_reply.started": "2021-08-02T10:47:21.127904Z"
    }
   },
   "outputs": [],
   "source": [
    "predict_submission = model.predict(test_data)"
   ]
  },
  {
   "cell_type": "code",
   "execution_count": null,
   "metadata": {
    "execution": {
     "iopub.execute_input": "2021-08-02T10:47:25.365687Z",
     "iopub.status.busy": "2021-08-02T10:47:25.365354Z",
     "iopub.status.idle": "2021-08-02T10:47:25.372130Z",
     "shell.execute_reply": "2021-08-02T10:47:25.371186Z",
     "shell.execute_reply.started": "2021-08-02T10:47:25.365639Z"
    }
   },
   "outputs": [],
   "source": [
    "predict_submission"
   ]
  },
  {
   "cell_type": "code",
   "execution_count": null,
   "metadata": {
    "execution": {
     "iopub.execute_input": "2021-08-02T10:47:30.516774Z",
     "iopub.status.busy": "2021-08-02T10:47:30.516444Z",
     "iopub.status.idle": "2021-08-02T10:47:30.566757Z",
     "shell.execute_reply": "2021-08-02T10:47:30.565819Z",
     "shell.execute_reply.started": "2021-08-02T10:47:30.516727Z"
    }
   },
   "outputs": [],
   "source": [
    "sample_submission['Rating'] = predict_submission\n",
    "sample_submission.to_csv('submission.csv', index=False)\n",
    "sample_submission.head(10)"
   ]
  },
  {
   "cell_type": "markdown",
   "metadata": {},
   "source": [
    "# Вывод:\n",
    "За основу своего ноутбука я взял предложенный на kaggle бэйзлайн и постарался доработать его исходя из данных датасета. По итогам работы над датафреймом получилось улучшить показатель МАЕ на 0.2 балла, по сравнению с предложенным на kaggle бэйзлайном. Добавил несколько признаков вытекающих из существующего Ranking, который по началу является самым весомым для модели. Обработал столбец с отзывами, взяв из него некоторую информацию по датам и отразил это в паре новых признаков. Также добавил еще некоторые признаки. Из сторонних источников взял только численность населения городов и вручную записал их в словарь, благо их всего 31. Не удалось самостоятельно найти решение как обработать сами отзывы и извлечь из них какую-то пользу. Также никакой информации больше из сторонних источников не почерпнул. Возможно нехватка этих данных и повлияла на столь незначительное улучшение МАЕ, с обработанными отзывами чувствую было бы гораздо лучше."
   ]
  },
  {
   "cell_type": "code",
   "execution_count": null,
   "metadata": {},
   "outputs": [],
   "source": []
  }
 ],
 "metadata": {
  "kernelspec": {
   "display_name": "Python 3",
   "language": "python",
   "name": "python3"
  },
  "language_info": {
   "codemirror_mode": {
    "name": "ipython",
    "version": 3
   },
   "file_extension": ".py",
   "mimetype": "text/x-python",
   "name": "python",
   "nbconvert_exporter": "python",
   "pygments_lexer": "ipython3",
   "version": "3.8.5"
  }
 },
 "nbformat": 4,
 "nbformat_minor": 4
}
