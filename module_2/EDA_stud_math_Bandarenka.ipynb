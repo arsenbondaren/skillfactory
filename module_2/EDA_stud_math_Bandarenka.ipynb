{
 "cells": [
  {
   "cell_type": "code",
   "execution_count": null,
   "metadata": {},
   "outputs": [],
   "source": []
  },
  {
   "cell_type": "markdown",
   "metadata": {},
   "source": [
    "# Разведывательный анализ данных учеников 15-22 лет с целью прогнозирования их оценки на итоговом экзамене по математике\n",
    "Импортируем нужные библиотеки и считываем базу данных в переменную stud_math"
   ]
  },
  {
   "cell_type": "code",
   "execution_count": 385,
   "metadata": {},
   "outputs": [],
   "source": [
    "import pandas as pd\n",
    "import matplotlib.pyplot as plt\n",
    "import seaborn as sns\n",
    "from itertools import combinations\n",
    "from scipy.stats import ttest_ind\n",
    "\n",
    "pd.set_option('display.max_rows', 50)  # показывать больше строк\n",
    "pd.set_option('display.max_columns', 50)  # показывать больше колонок\n",
    "\n",
    "stud_math = pd.read_csv('stud_math.csv')"
   ]
  },
  {
   "cell_type": "markdown",
   "metadata": {},
   "source": [
    "# Цели и задачи проекта\n",
    "- Сформулировать предположения и гипотезы для дальнейшего построения модели.\n",
    "- Проверить качество данных и очистить их, если это необходимо.\n",
    "- Определиться с параметрами модели.\n",
    "## Работать будем по следующему плану:\n",
    "1. Проведем предобработку данных, где напишем основные функции, которые будем использовать и уберем заведомо ложные данные\n",
    "2. Проведем анализ столбцов с количественными переменными, устраним выбросы, заполним пропуски если необходимо и изучим их корреляцию с нашей целевой переменной.\n",
    "3. Проведем анализ столбцов с номинативными переменными, также устраним выбросы и пропуски если необходимо, проверим наличие взаимосвязей между столбцами и целевой переменной, построим графики для наглядности.\n",
    "4. Сделаем выводы на основе полученных результатов анализа всех столбцов, отберем показатели, которые пригодятся нам при будущем построении модели."
   ]
  },
  {
   "cell_type": "markdown",
   "metadata": {},
   "source": [
    "# Предобработка"
   ]
  },
  {
   "cell_type": "code",
   "execution_count": 386,
   "metadata": {},
   "outputs": [],
   "source": [
    "# удалим строки в которых отсутствует целевая переменная\n",
    "stud_math = stud_math.dropna(subset=['score'])\n",
    "# удалим выбросы которые не соответствуют условию задания\n",
    "stud_math = stud_math.loc[stud_math['Fedu'] <= 4]\n",
    "# удалим выбросы которые не соответствуют условию задания\n",
    "stud_math = stud_math.loc[stud_math['famrel'] >= 1]\n",
    "# удалим строки с аномально высоким кол-вом пропусков\n",
    "stud_math = stud_math.loc[stud_math['absences'] < 100]"
   ]
  },
  {
   "cell_type": "code",
   "execution_count": 387,
   "metadata": {},
   "outputs": [],
   "source": [
    "def for_num_col(x):  # функция для исследования колонок с количественными переменными\n",
    "    display(x.hist())\n",
    "    display(x.describe())\n",
    "    IQR = x.quantile(0.75) - x.quantile(0.25)\n",
    "    perc25 = x.quantile(0.25)\n",
    "    perc75 = x.quantile(0.75)\n",
    "    print('25-й перцентиль: {},'.format(perc25),\n",
    "          '75-й перцентиль: {},'.format(perc75), 'IQR: {},'.format(IQR))\n",
    "    print('Границы выбросов = [{f}, {i}]'.format(\n",
    "        f=perc25 - 1.5*IQR, i=perc75 + 1.5*IQR))"
   ]
  },
  {
   "cell_type": "code",
   "execution_count": 388,
   "metadata": {},
   "outputs": [],
   "source": [
    "def for_obj_col(col):  # функция для исследования колонок с номинативными переменными\n",
    "    x = pd.DataFrame(stud_math[col].value_counts())\n",
    "    display(x)\n",
    "    display(f'Количество непустых значений = {stud_math[col].count()}')\n",
    "    display(x.plot(kind='bar', grid=True))\n",
    "    fig, ax = plt.subplots()\n",
    "    sns.boxplot(x=col, y='score', data=stud_math, ax=ax)"
   ]
  },
  {
   "cell_type": "code",
   "execution_count": 389,
   "metadata": {},
   "outputs": [],
   "source": [
    "def for_medu(x):  # функция для заполнения пропусков в столбце образования матери\n",
    "    y = pd.isna(x).copy()\n",
    "    if True in y:\n",
    "        indexes = list(y[y == True].index)\n",
    "\n",
    "        x.loc[indexes] = stud_math['Fedu'].loc[indexes]\n",
    "    return x"
   ]
  },
  {
   "cell_type": "code",
   "execution_count": 390,
   "metadata": {},
   "outputs": [],
   "source": [
    "def boxplt(c):  # функция для построения графиков boxplot, подходит для всех колонок\n",
    "    fig, ax = plt.subplots()\n",
    "    sns.boxplot(x=c, y='score', data=stud_math, ax=ax)"
   ]
  },
  {
   "cell_type": "code",
   "execution_count": 391,
   "metadata": {},
   "outputs": [
    {
     "data": {
      "text/html": [
       "<div>\n",
       "<style scoped>\n",
       "    .dataframe tbody tr th:only-of-type {\n",
       "        vertical-align: middle;\n",
       "    }\n",
       "\n",
       "    .dataframe tbody tr th {\n",
       "        vertical-align: top;\n",
       "    }\n",
       "\n",
       "    .dataframe thead th {\n",
       "        text-align: right;\n",
       "    }\n",
       "</style>\n",
       "<table border=\"1\" class=\"dataframe\">\n",
       "  <thead>\n",
       "    <tr style=\"text-align: right;\">\n",
       "      <th></th>\n",
       "      <th>school</th>\n",
       "      <th>sex</th>\n",
       "      <th>age</th>\n",
       "      <th>address</th>\n",
       "      <th>famsize</th>\n",
       "      <th>Pstatus</th>\n",
       "      <th>Medu</th>\n",
       "      <th>Fedu</th>\n",
       "      <th>Mjob</th>\n",
       "      <th>Fjob</th>\n",
       "      <th>reason</th>\n",
       "      <th>guardian</th>\n",
       "      <th>traveltime</th>\n",
       "      <th>studytime</th>\n",
       "      <th>failures</th>\n",
       "      <th>schoolsup</th>\n",
       "      <th>famsup</th>\n",
       "      <th>paid</th>\n",
       "      <th>activities</th>\n",
       "      <th>nursery</th>\n",
       "      <th>studytime, granular</th>\n",
       "      <th>higher</th>\n",
       "      <th>internet</th>\n",
       "      <th>romantic</th>\n",
       "      <th>famrel</th>\n",
       "      <th>freetime</th>\n",
       "      <th>goout</th>\n",
       "      <th>health</th>\n",
       "      <th>absences</th>\n",
       "      <th>score</th>\n",
       "    </tr>\n",
       "  </thead>\n",
       "  <tbody>\n",
       "    <tr>\n",
       "      <th>0</th>\n",
       "      <td>GP</td>\n",
       "      <td>F</td>\n",
       "      <td>18</td>\n",
       "      <td>U</td>\n",
       "      <td>NaN</td>\n",
       "      <td>A</td>\n",
       "      <td>4.0</td>\n",
       "      <td>4.0</td>\n",
       "      <td>at_home</td>\n",
       "      <td>teacher</td>\n",
       "      <td>course</td>\n",
       "      <td>mother</td>\n",
       "      <td>2.0</td>\n",
       "      <td>2.0</td>\n",
       "      <td>0.0</td>\n",
       "      <td>yes</td>\n",
       "      <td>no</td>\n",
       "      <td>no</td>\n",
       "      <td>no</td>\n",
       "      <td>yes</td>\n",
       "      <td>-6.0</td>\n",
       "      <td>yes</td>\n",
       "      <td>NaN</td>\n",
       "      <td>no</td>\n",
       "      <td>4.0</td>\n",
       "      <td>3.0</td>\n",
       "      <td>4.0</td>\n",
       "      <td>3.0</td>\n",
       "      <td>6.0</td>\n",
       "      <td>30.0</td>\n",
       "    </tr>\n",
       "    <tr>\n",
       "      <th>1</th>\n",
       "      <td>GP</td>\n",
       "      <td>F</td>\n",
       "      <td>17</td>\n",
       "      <td>U</td>\n",
       "      <td>GT3</td>\n",
       "      <td>NaN</td>\n",
       "      <td>1.0</td>\n",
       "      <td>1.0</td>\n",
       "      <td>at_home</td>\n",
       "      <td>other</td>\n",
       "      <td>course</td>\n",
       "      <td>father</td>\n",
       "      <td>1.0</td>\n",
       "      <td>2.0</td>\n",
       "      <td>0.0</td>\n",
       "      <td>no</td>\n",
       "      <td>yes</td>\n",
       "      <td>no</td>\n",
       "      <td>no</td>\n",
       "      <td>no</td>\n",
       "      <td>-6.0</td>\n",
       "      <td>yes</td>\n",
       "      <td>yes</td>\n",
       "      <td>no</td>\n",
       "      <td>5.0</td>\n",
       "      <td>3.0</td>\n",
       "      <td>3.0</td>\n",
       "      <td>3.0</td>\n",
       "      <td>4.0</td>\n",
       "      <td>30.0</td>\n",
       "    </tr>\n",
       "    <tr>\n",
       "      <th>2</th>\n",
       "      <td>GP</td>\n",
       "      <td>F</td>\n",
       "      <td>15</td>\n",
       "      <td>U</td>\n",
       "      <td>LE3</td>\n",
       "      <td>T</td>\n",
       "      <td>1.0</td>\n",
       "      <td>1.0</td>\n",
       "      <td>at_home</td>\n",
       "      <td>other</td>\n",
       "      <td>other</td>\n",
       "      <td>mother</td>\n",
       "      <td>1.0</td>\n",
       "      <td>2.0</td>\n",
       "      <td>3.0</td>\n",
       "      <td>yes</td>\n",
       "      <td>no</td>\n",
       "      <td>NaN</td>\n",
       "      <td>no</td>\n",
       "      <td>yes</td>\n",
       "      <td>-6.0</td>\n",
       "      <td>yes</td>\n",
       "      <td>yes</td>\n",
       "      <td>NaN</td>\n",
       "      <td>4.0</td>\n",
       "      <td>3.0</td>\n",
       "      <td>2.0</td>\n",
       "      <td>3.0</td>\n",
       "      <td>10.0</td>\n",
       "      <td>50.0</td>\n",
       "    </tr>\n",
       "    <tr>\n",
       "      <th>3</th>\n",
       "      <td>GP</td>\n",
       "      <td>F</td>\n",
       "      <td>15</td>\n",
       "      <td>U</td>\n",
       "      <td>GT3</td>\n",
       "      <td>T</td>\n",
       "      <td>4.0</td>\n",
       "      <td>2.0</td>\n",
       "      <td>health</td>\n",
       "      <td>NaN</td>\n",
       "      <td>home</td>\n",
       "      <td>mother</td>\n",
       "      <td>1.0</td>\n",
       "      <td>3.0</td>\n",
       "      <td>0.0</td>\n",
       "      <td>no</td>\n",
       "      <td>yes</td>\n",
       "      <td>yes</td>\n",
       "      <td>yes</td>\n",
       "      <td>yes</td>\n",
       "      <td>-9.0</td>\n",
       "      <td>yes</td>\n",
       "      <td>yes</td>\n",
       "      <td>yes</td>\n",
       "      <td>3.0</td>\n",
       "      <td>2.0</td>\n",
       "      <td>2.0</td>\n",
       "      <td>5.0</td>\n",
       "      <td>2.0</td>\n",
       "      <td>75.0</td>\n",
       "    </tr>\n",
       "    <tr>\n",
       "      <th>4</th>\n",
       "      <td>GP</td>\n",
       "      <td>F</td>\n",
       "      <td>16</td>\n",
       "      <td>U</td>\n",
       "      <td>GT3</td>\n",
       "      <td>T</td>\n",
       "      <td>3.0</td>\n",
       "      <td>3.0</td>\n",
       "      <td>other</td>\n",
       "      <td>other</td>\n",
       "      <td>home</td>\n",
       "      <td>father</td>\n",
       "      <td>1.0</td>\n",
       "      <td>2.0</td>\n",
       "      <td>0.0</td>\n",
       "      <td>no</td>\n",
       "      <td>yes</td>\n",
       "      <td>yes</td>\n",
       "      <td>no</td>\n",
       "      <td>yes</td>\n",
       "      <td>-6.0</td>\n",
       "      <td>yes</td>\n",
       "      <td>no</td>\n",
       "      <td>no</td>\n",
       "      <td>4.0</td>\n",
       "      <td>3.0</td>\n",
       "      <td>2.0</td>\n",
       "      <td>5.0</td>\n",
       "      <td>4.0</td>\n",
       "      <td>50.0</td>\n",
       "    </tr>\n",
       "  </tbody>\n",
       "</table>\n",
       "</div>"
      ],
      "text/plain": [
       "  school sex  age address famsize Pstatus  Medu  Fedu     Mjob     Fjob  \\\n",
       "0     GP   F   18       U     NaN       A   4.0   4.0  at_home  teacher   \n",
       "1     GP   F   17       U     GT3     NaN   1.0   1.0  at_home    other   \n",
       "2     GP   F   15       U     LE3       T   1.0   1.0  at_home    other   \n",
       "3     GP   F   15       U     GT3       T   4.0   2.0   health      NaN   \n",
       "4     GP   F   16       U     GT3       T   3.0   3.0    other    other   \n",
       "\n",
       "   reason guardian  traveltime  studytime  failures schoolsup famsup paid  \\\n",
       "0  course   mother         2.0        2.0       0.0       yes     no   no   \n",
       "1  course   father         1.0        2.0       0.0        no    yes   no   \n",
       "2   other   mother         1.0        2.0       3.0       yes     no  NaN   \n",
       "3    home   mother         1.0        3.0       0.0        no    yes  yes   \n",
       "4    home   father         1.0        2.0       0.0        no    yes  yes   \n",
       "\n",
       "  activities nursery  studytime, granular higher internet romantic  famrel  \\\n",
       "0         no     yes                 -6.0    yes      NaN       no     4.0   \n",
       "1         no      no                 -6.0    yes      yes       no     5.0   \n",
       "2         no     yes                 -6.0    yes      yes      NaN     4.0   \n",
       "3        yes     yes                 -9.0    yes      yes      yes     3.0   \n",
       "4         no     yes                 -6.0    yes       no       no     4.0   \n",
       "\n",
       "   freetime  goout  health  absences  score  \n",
       "0       3.0    4.0     3.0       6.0   30.0  \n",
       "1       3.0    3.0     3.0       4.0   30.0  \n",
       "2       3.0    2.0     3.0      10.0   50.0  \n",
       "3       2.0    2.0     5.0       2.0   75.0  \n",
       "4       3.0    2.0     5.0       4.0   50.0  "
      ]
     },
     "metadata": {},
     "output_type": "display_data"
    },
    {
     "name": "stdout",
     "output_type": "stream",
     "text": [
      "<class 'pandas.core.frame.DataFrame'>\n",
      "Int64Index: 326 entries, 0 to 394\n",
      "Data columns (total 30 columns):\n",
      " #   Column               Non-Null Count  Dtype  \n",
      "---  ------               --------------  -----  \n",
      " 0   school               326 non-null    object \n",
      " 1   sex                  326 non-null    object \n",
      " 2   age                  326 non-null    int64  \n",
      " 3   address              315 non-null    object \n",
      " 4   famsize              305 non-null    object \n",
      " 5   Pstatus              286 non-null    object \n",
      " 6   Medu                 323 non-null    float64\n",
      " 7   Fedu                 326 non-null    float64\n",
      " 8   Mjob                 309 non-null    object \n",
      " 9   Fjob                 298 non-null    object \n",
      " 10  reason               312 non-null    object \n",
      " 11  guardian             298 non-null    object \n",
      " 12  traveltime           303 non-null    float64\n",
      " 13  studytime            321 non-null    float64\n",
      " 14  failures             307 non-null    float64\n",
      " 15  schoolsup            317 non-null    object \n",
      " 16  famsup               294 non-null    object \n",
      " 17  paid                 293 non-null    object \n",
      " 18  activities           314 non-null    object \n",
      " 19  nursery              311 non-null    object \n",
      " 20  studytime, granular  321 non-null    float64\n",
      " 21  higher               310 non-null    object \n",
      " 22  internet             296 non-null    object \n",
      " 23  romantic             300 non-null    object \n",
      " 24  famrel               326 non-null    float64\n",
      " 25  freetime             319 non-null    float64\n",
      " 26  goout                319 non-null    float64\n",
      " 27  health               313 non-null    float64\n",
      " 28  absences             326 non-null    float64\n",
      " 29  score                326 non-null    float64\n",
      "dtypes: float64(12), int64(1), object(17)\n",
      "memory usage: 79.0+ KB\n"
     ]
    },
    {
     "data": {
      "text/plain": [
       "None"
      ]
     },
     "metadata": {},
     "output_type": "display_data"
    },
    {
     "data": {
      "text/plain": [
       "Int64Index([  0,   1,   2,   3,   4,   5,   6,   7,   9,  10,\n",
       "            ...\n",
       "            384, 385, 386, 387, 388, 389, 391, 392, 393, 394],\n",
       "           dtype='int64', length=326)"
      ]
     },
     "metadata": {},
     "output_type": "display_data"
    },
    {
     "data": {
      "text/html": [
       "<div>\n",
       "<style scoped>\n",
       "    .dataframe tbody tr th:only-of-type {\n",
       "        vertical-align: middle;\n",
       "    }\n",
       "\n",
       "    .dataframe tbody tr th {\n",
       "        vertical-align: top;\n",
       "    }\n",
       "\n",
       "    .dataframe thead th {\n",
       "        text-align: right;\n",
       "    }\n",
       "</style>\n",
       "<table border=\"1\" class=\"dataframe\">\n",
       "  <thead>\n",
       "    <tr style=\"text-align: right;\">\n",
       "      <th></th>\n",
       "      <th>age</th>\n",
       "      <th>Medu</th>\n",
       "      <th>Fedu</th>\n",
       "      <th>traveltime</th>\n",
       "      <th>studytime</th>\n",
       "      <th>failures</th>\n",
       "      <th>studytime, granular</th>\n",
       "      <th>famrel</th>\n",
       "      <th>freetime</th>\n",
       "      <th>goout</th>\n",
       "      <th>health</th>\n",
       "      <th>absences</th>\n",
       "      <th>score</th>\n",
       "    </tr>\n",
       "  </thead>\n",
       "  <tbody>\n",
       "    <tr>\n",
       "      <th>age</th>\n",
       "      <td>1.000000</td>\n",
       "      <td>-0.136212</td>\n",
       "      <td>-0.152193</td>\n",
       "      <td>0.058353</td>\n",
       "      <td>-0.022678</td>\n",
       "      <td>0.207081</td>\n",
       "      <td>0.022678</td>\n",
       "      <td>0.043593</td>\n",
       "      <td>-0.005886</td>\n",
       "      <td>0.071914</td>\n",
       "      <td>-0.068218</td>\n",
       "      <td>0.156020</td>\n",
       "      <td>-0.140704</td>\n",
       "    </tr>\n",
       "    <tr>\n",
       "      <th>Medu</th>\n",
       "      <td>-0.136212</td>\n",
       "      <td>1.000000</td>\n",
       "      <td>0.646074</td>\n",
       "      <td>-0.176069</td>\n",
       "      <td>0.082133</td>\n",
       "      <td>-0.216631</td>\n",
       "      <td>-0.082133</td>\n",
       "      <td>-0.026251</td>\n",
       "      <td>0.006937</td>\n",
       "      <td>0.076158</td>\n",
       "      <td>-0.089392</td>\n",
       "      <td>0.121282</td>\n",
       "      <td>0.196428</td>\n",
       "    </tr>\n",
       "    <tr>\n",
       "      <th>Fedu</th>\n",
       "      <td>-0.152193</td>\n",
       "      <td>0.646074</td>\n",
       "      <td>1.000000</td>\n",
       "      <td>-0.177698</td>\n",
       "      <td>-0.000993</td>\n",
       "      <td>-0.253871</td>\n",
       "      <td>0.000993</td>\n",
       "      <td>-0.031771</td>\n",
       "      <td>-0.021535</td>\n",
       "      <td>0.029861</td>\n",
       "      <td>0.003556</td>\n",
       "      <td>0.068245</td>\n",
       "      <td>0.114783</td>\n",
       "    </tr>\n",
       "    <tr>\n",
       "      <th>traveltime</th>\n",
       "      <td>0.058353</td>\n",
       "      <td>-0.176069</td>\n",
       "      <td>-0.177698</td>\n",
       "      <td>1.000000</td>\n",
       "      <td>-0.124884</td>\n",
       "      <td>0.057635</td>\n",
       "      <td>0.124884</td>\n",
       "      <td>-0.068163</td>\n",
       "      <td>0.004435</td>\n",
       "      <td>0.005552</td>\n",
       "      <td>-0.009418</td>\n",
       "      <td>-0.053346</td>\n",
       "      <td>-0.066046</td>\n",
       "    </tr>\n",
       "    <tr>\n",
       "      <th>studytime</th>\n",
       "      <td>-0.022678</td>\n",
       "      <td>0.082133</td>\n",
       "      <td>-0.000993</td>\n",
       "      <td>-0.124884</td>\n",
       "      <td>1.000000</td>\n",
       "      <td>-0.140379</td>\n",
       "      <td>-1.000000</td>\n",
       "      <td>0.022171</td>\n",
       "      <td>-0.133785</td>\n",
       "      <td>-0.063228</td>\n",
       "      <td>-0.089897</td>\n",
       "      <td>-0.052871</td>\n",
       "      <td>0.112442</td>\n",
       "    </tr>\n",
       "    <tr>\n",
       "      <th>failures</th>\n",
       "      <td>0.207081</td>\n",
       "      <td>-0.216631</td>\n",
       "      <td>-0.253871</td>\n",
       "      <td>0.057635</td>\n",
       "      <td>-0.140379</td>\n",
       "      <td>1.000000</td>\n",
       "      <td>0.140379</td>\n",
       "      <td>0.009987</td>\n",
       "      <td>0.104404</td>\n",
       "      <td>0.089372</td>\n",
       "      <td>0.068994</td>\n",
       "      <td>0.075616</td>\n",
       "      <td>-0.308892</td>\n",
       "    </tr>\n",
       "    <tr>\n",
       "      <th>studytime, granular</th>\n",
       "      <td>0.022678</td>\n",
       "      <td>-0.082133</td>\n",
       "      <td>0.000993</td>\n",
       "      <td>0.124884</td>\n",
       "      <td>-1.000000</td>\n",
       "      <td>0.140379</td>\n",
       "      <td>1.000000</td>\n",
       "      <td>-0.022171</td>\n",
       "      <td>0.133785</td>\n",
       "      <td>0.063228</td>\n",
       "      <td>0.089897</td>\n",
       "      <td>0.052871</td>\n",
       "      <td>-0.112442</td>\n",
       "    </tr>\n",
       "    <tr>\n",
       "      <th>famrel</th>\n",
       "      <td>0.043593</td>\n",
       "      <td>-0.026251</td>\n",
       "      <td>-0.031771</td>\n",
       "      <td>-0.068163</td>\n",
       "      <td>0.022171</td>\n",
       "      <td>0.009987</td>\n",
       "      <td>-0.022171</td>\n",
       "      <td>1.000000</td>\n",
       "      <td>0.165330</td>\n",
       "      <td>0.075385</td>\n",
       "      <td>0.104556</td>\n",
       "      <td>-0.034564</td>\n",
       "      <td>0.044338</td>\n",
       "    </tr>\n",
       "    <tr>\n",
       "      <th>freetime</th>\n",
       "      <td>-0.005886</td>\n",
       "      <td>0.006937</td>\n",
       "      <td>-0.021535</td>\n",
       "      <td>0.004435</td>\n",
       "      <td>-0.133785</td>\n",
       "      <td>0.104404</td>\n",
       "      <td>0.133785</td>\n",
       "      <td>0.165330</td>\n",
       "      <td>1.000000</td>\n",
       "      <td>0.285416</td>\n",
       "      <td>0.091918</td>\n",
       "      <td>-0.021286</td>\n",
       "      <td>0.016692</td>\n",
       "    </tr>\n",
       "    <tr>\n",
       "      <th>goout</th>\n",
       "      <td>0.071914</td>\n",
       "      <td>0.076158</td>\n",
       "      <td>0.029861</td>\n",
       "      <td>0.005552</td>\n",
       "      <td>-0.063228</td>\n",
       "      <td>0.089372</td>\n",
       "      <td>0.063228</td>\n",
       "      <td>0.075385</td>\n",
       "      <td>0.285416</td>\n",
       "      <td>1.000000</td>\n",
       "      <td>-0.017440</td>\n",
       "      <td>0.052101</td>\n",
       "      <td>-0.142237</td>\n",
       "    </tr>\n",
       "    <tr>\n",
       "      <th>health</th>\n",
       "      <td>-0.068218</td>\n",
       "      <td>-0.089392</td>\n",
       "      <td>0.003556</td>\n",
       "      <td>-0.009418</td>\n",
       "      <td>-0.089897</td>\n",
       "      <td>0.068994</td>\n",
       "      <td>0.089897</td>\n",
       "      <td>0.104556</td>\n",
       "      <td>0.091918</td>\n",
       "      <td>-0.017440</td>\n",
       "      <td>1.000000</td>\n",
       "      <td>-0.054764</td>\n",
       "      <td>-0.040852</td>\n",
       "    </tr>\n",
       "    <tr>\n",
       "      <th>absences</th>\n",
       "      <td>0.156020</td>\n",
       "      <td>0.121282</td>\n",
       "      <td>0.068245</td>\n",
       "      <td>-0.053346</td>\n",
       "      <td>-0.052871</td>\n",
       "      <td>0.075616</td>\n",
       "      <td>0.052871</td>\n",
       "      <td>-0.034564</td>\n",
       "      <td>-0.021286</td>\n",
       "      <td>0.052101</td>\n",
       "      <td>-0.054764</td>\n",
       "      <td>1.000000</td>\n",
       "      <td>0.060451</td>\n",
       "    </tr>\n",
       "    <tr>\n",
       "      <th>score</th>\n",
       "      <td>-0.140704</td>\n",
       "      <td>0.196428</td>\n",
       "      <td>0.114783</td>\n",
       "      <td>-0.066046</td>\n",
       "      <td>0.112442</td>\n",
       "      <td>-0.308892</td>\n",
       "      <td>-0.112442</td>\n",
       "      <td>0.044338</td>\n",
       "      <td>0.016692</td>\n",
       "      <td>-0.142237</td>\n",
       "      <td>-0.040852</td>\n",
       "      <td>0.060451</td>\n",
       "      <td>1.000000</td>\n",
       "    </tr>\n",
       "  </tbody>\n",
       "</table>\n",
       "</div>"
      ],
      "text/plain": [
       "                          age      Medu      Fedu  traveltime  studytime  \\\n",
       "age                  1.000000 -0.136212 -0.152193    0.058353  -0.022678   \n",
       "Medu                -0.136212  1.000000  0.646074   -0.176069   0.082133   \n",
       "Fedu                -0.152193  0.646074  1.000000   -0.177698  -0.000993   \n",
       "traveltime           0.058353 -0.176069 -0.177698    1.000000  -0.124884   \n",
       "studytime           -0.022678  0.082133 -0.000993   -0.124884   1.000000   \n",
       "failures             0.207081 -0.216631 -0.253871    0.057635  -0.140379   \n",
       "studytime, granular  0.022678 -0.082133  0.000993    0.124884  -1.000000   \n",
       "famrel               0.043593 -0.026251 -0.031771   -0.068163   0.022171   \n",
       "freetime            -0.005886  0.006937 -0.021535    0.004435  -0.133785   \n",
       "goout                0.071914  0.076158  0.029861    0.005552  -0.063228   \n",
       "health              -0.068218 -0.089392  0.003556   -0.009418  -0.089897   \n",
       "absences             0.156020  0.121282  0.068245   -0.053346  -0.052871   \n",
       "score               -0.140704  0.196428  0.114783   -0.066046   0.112442   \n",
       "\n",
       "                     failures  studytime, granular    famrel  freetime  \\\n",
       "age                  0.207081             0.022678  0.043593 -0.005886   \n",
       "Medu                -0.216631            -0.082133 -0.026251  0.006937   \n",
       "Fedu                -0.253871             0.000993 -0.031771 -0.021535   \n",
       "traveltime           0.057635             0.124884 -0.068163  0.004435   \n",
       "studytime           -0.140379            -1.000000  0.022171 -0.133785   \n",
       "failures             1.000000             0.140379  0.009987  0.104404   \n",
       "studytime, granular  0.140379             1.000000 -0.022171  0.133785   \n",
       "famrel               0.009987            -0.022171  1.000000  0.165330   \n",
       "freetime             0.104404             0.133785  0.165330  1.000000   \n",
       "goout                0.089372             0.063228  0.075385  0.285416   \n",
       "health               0.068994             0.089897  0.104556  0.091918   \n",
       "absences             0.075616             0.052871 -0.034564 -0.021286   \n",
       "score               -0.308892            -0.112442  0.044338  0.016692   \n",
       "\n",
       "                        goout    health  absences     score  \n",
       "age                  0.071914 -0.068218  0.156020 -0.140704  \n",
       "Medu                 0.076158 -0.089392  0.121282  0.196428  \n",
       "Fedu                 0.029861  0.003556  0.068245  0.114783  \n",
       "traveltime           0.005552 -0.009418 -0.053346 -0.066046  \n",
       "studytime           -0.063228 -0.089897 -0.052871  0.112442  \n",
       "failures             0.089372  0.068994  0.075616 -0.308892  \n",
       "studytime, granular  0.063228  0.089897  0.052871 -0.112442  \n",
       "famrel               0.075385  0.104556 -0.034564  0.044338  \n",
       "freetime             0.285416  0.091918 -0.021286  0.016692  \n",
       "goout                1.000000 -0.017440  0.052101 -0.142237  \n",
       "health              -0.017440  1.000000 -0.054764 -0.040852  \n",
       "absences             0.052101 -0.054764  1.000000  0.060451  \n",
       "score               -0.142237 -0.040852  0.060451  1.000000  "
      ]
     },
     "execution_count": 391,
     "metadata": {},
     "output_type": "execute_result"
    }
   ],
   "source": [
    "display(stud_math.head())\n",
    "display(stud_math.info())\n",
    "display(stud_math.index)\n",
    "stud_math.corr()"
   ]
  },
  {
   "cell_type": "markdown",
   "metadata": {},
   "source": [
    "# Анализ колонок\n",
    "Дальше рассмотрим каждую колонку отдельно и где нужно заполним пропуски"
   ]
  },
  {
   "cell_type": "code",
   "execution_count": 392,
   "metadata": {},
   "outputs": [
    {
     "data": {
      "text/plain": [
       "<AxesSubplot:>"
      ]
     },
     "metadata": {},
     "output_type": "display_data"
    },
    {
     "data": {
      "text/plain": [
       "count    326.000000\n",
       "mean      16.684049\n",
       "std        1.267896\n",
       "min       15.000000\n",
       "25%       16.000000\n",
       "50%       17.000000\n",
       "75%       18.000000\n",
       "max       22.000000\n",
       "Name: age, dtype: float64"
      ]
     },
     "metadata": {},
     "output_type": "display_data"
    },
    {
     "name": "stdout",
     "output_type": "stream",
     "text": [
      "25-й перцентиль: 16.0, 75-й перцентиль: 18.0, IQR: 2.0,\n",
      "Границы выбросов = [13.0, 21.0]\n"
     ]
    },
    {
     "data": {
      "image/png": "[encoded data removed]",
      "text/plain": [
       "<Figure size 432x288 with 1 Axes>"
      ]
     },
     "metadata": {
      "needs_background": "light"
     },
     "output_type": "display_data"
    }
   ],
   "source": [
    "for_num_col(stud_math['age'])"
   ]
  },
  {
   "cell_type": "markdown",
   "metadata": {},
   "source": [
    "# Столбец возраста:\n",
    "Пропуски отсутствуют. Основная масса учеников в возрасте от 15 до 18 лет.\n",
    "Есть незначительное число выбросов: те кто старше 21. Нет необходимости их удалять."
   ]
  },
  {
   "cell_type": "code",
   "execution_count": 393,
   "metadata": {},
   "outputs": [
    {
     "data": {
      "text/plain": [
       "<AxesSubplot:>"
      ]
     },
     "metadata": {},
     "output_type": "display_data"
    },
    {
     "data": {
      "text/plain": [
       "count    323.000000\n",
       "mean       2.773994\n",
       "std        1.095589\n",
       "min        0.000000\n",
       "25%        2.000000\n",
       "50%        3.000000\n",
       "75%        4.000000\n",
       "max        4.000000\n",
       "Name: Medu, dtype: float64"
      ]
     },
     "metadata": {},
     "output_type": "display_data"
    },
    {
     "name": "stdout",
     "output_type": "stream",
     "text": [
      "25-й перцентиль: 2.0, 75-й перцентиль: 4.0, IQR: 2.0,\n",
      "Границы выбросов = [-1.0, 7.0]\n"
     ]
    },
    {
     "data": {
      "text/plain": [
       "0      4.0\n",
       "1      1.0\n",
       "2      1.0\n",
       "3      4.0\n",
       "4      3.0\n",
       "      ... \n",
       "389    1.0\n",
       "391    3.0\n",
       "392    1.0\n",
       "393    3.0\n",
       "394    1.0\n",
       "Name: Medu, Length: 326, dtype: float64"
      ]
     },
     "execution_count": 393,
     "metadata": {},
     "output_type": "execute_result"
    },
    {
     "data": {
      "image/png": "[encoded data removed]",
      "text/plain": [
       "<Figure size 432x288 with 1 Axes>"
      ]
     },
     "metadata": {
      "needs_background": "light"
     },
     "output_type": "display_data"
    }
   ],
   "source": [
    "for_num_col(stud_math['Medu'])\n",
    "# Заменили пропуски на такие же значения в столбце образования отца, т.к. между ними высокая корреляция\n",
    "for_medu(stud_math['Medu'])"
   ]
  },
  {
   "cell_type": "markdown",
   "metadata": {},
   "source": [
    "# Столбец образования матери:\n",
    "Есть 3 пропущеных значения. Видно что у большинства учеников матери достаточно образованны. У трети - имеют высшее образвание.\n",
    "Выбросов и сомнительных значений нет."
   ]
  },
  {
   "cell_type": "code",
   "execution_count": 394,
   "metadata": {},
   "outputs": [
    {
     "data": {
      "text/plain": [
       "<AxesSubplot:>"
      ]
     },
     "metadata": {},
     "output_type": "display_data"
    },
    {
     "data": {
      "text/plain": [
       "count    326.000000\n",
       "mean       2.521472\n",
       "std        1.088895\n",
       "min        0.000000\n",
       "25%        2.000000\n",
       "50%        2.000000\n",
       "75%        3.000000\n",
       "max        4.000000\n",
       "Name: Fedu, dtype: float64"
      ]
     },
     "metadata": {},
     "output_type": "display_data"
    },
    {
     "name": "stdout",
     "output_type": "stream",
     "text": [
      "25-й перцентиль: 2.0, 75-й перцентиль: 3.0, IQR: 1.0,\n",
      "Границы выбросов = [0.5, 4.5]\n"
     ]
    },
    {
     "data": {
      "image/png": "[encoded data removed]",
      "text/plain": [
       "<Figure size 432x288 with 1 Axes>"
      ]
     },
     "metadata": {
      "needs_background": "light"
     },
     "output_type": "display_data"
    }
   ],
   "source": [
    "for_num_col(stud_math['Fedu'])"
   ]
  },
  {
   "cell_type": "markdown",
   "metadata": {},
   "source": [
    "# Столбец образования отца:\n",
    "Пропусков и выбросов, после предварительной обработки нет.\n",
    "Как видим образованиеу отцов в среднем ниже чем у матерей."
   ]
  },
  {
   "cell_type": "code",
   "execution_count": 395,
   "metadata": {},
   "outputs": [
    {
     "data": {
      "text/plain": [
       "<AxesSubplot:>"
      ]
     },
     "metadata": {},
     "output_type": "display_data"
    },
    {
     "data": {
      "text/plain": [
       "count    303.000000\n",
       "mean       1.465347\n",
       "std        0.708010\n",
       "min        1.000000\n",
       "25%        1.000000\n",
       "50%        1.000000\n",
       "75%        2.000000\n",
       "max        4.000000\n",
       "Name: traveltime, dtype: float64"
      ]
     },
     "metadata": {},
     "output_type": "display_data"
    },
    {
     "name": "stdout",
     "output_type": "stream",
     "text": [
      "25-й перцентиль: 1.0, 75-й перцентиль: 2.0, IQR: 1.0,\n",
      "Границы выбросов = [-0.5, 3.5]\n"
     ]
    },
    {
     "data": {
      "image/png": "[encoded data removed]",
      "text/plain": [
       "<Figure size 432x288 with 1 Axes>"
      ]
     },
     "metadata": {
      "needs_background": "light"
     },
     "output_type": "display_data"
    }
   ],
   "source": [
    "for_num_col(stud_math['traveltime'])\n",
    "# заменим пропуски медианой\n",
    "stud_math['traveltime'] = stud_math['traveltime'].apply(\n",
    "    lambda x: 1 if pd.isna(x) else x)"
   ]
  },
  {
   "cell_type": "markdown",
   "metadata": {},
   "source": [
    "# Столбец времени пути до школы:\n",
    "Есть около 30 пропусков, что составляет чуть менее 10% от общего количества значений. Не является критичным такое количество пропусков. Исходя из формулы, выбросы присутствуют, однако руководствуясь пояснительной к заданию таблицей видим что значения до 4 являются допустимыми, ничего удалять не нужно. В дальнейшем будем считать что выбросов нет если значения в рамках, предусмотренных таблицей. По графику видно что большинство детей живет в 15 минутах ходьбы до школы. Дольше часа до школы добираются единицы учеников."
   ]
  },
  {
   "cell_type": "code",
   "execution_count": 396,
   "metadata": {},
   "outputs": [
    {
     "data": {
      "text/plain": [
       "<AxesSubplot:>"
      ]
     },
     "metadata": {},
     "output_type": "display_data"
    },
    {
     "data": {
      "text/plain": [
       "count    321.000000\n",
       "mean       2.031153\n",
       "std        0.854562\n",
       "min        1.000000\n",
       "25%        1.000000\n",
       "50%        2.000000\n",
       "75%        2.000000\n",
       "max        4.000000\n",
       "Name: studytime, dtype: float64"
      ]
     },
     "metadata": {},
     "output_type": "display_data"
    },
    {
     "name": "stdout",
     "output_type": "stream",
     "text": [
      "25-й перцентиль: 1.0, 75-й перцентиль: 2.0, IQR: 1.0,\n",
      "Границы выбросов = [-0.5, 3.5]\n"
     ]
    },
    {
     "data": {
      "text/plain": [
       "array([2., 3., 1., 4.])"
      ]
     },
     "execution_count": 396,
     "metadata": {},
     "output_type": "execute_result"
    },
    {
     "data": {
      "image/png": "[encoded data removed]",
      "text/plain": [
       "<Figure size 432x288 with 1 Axes>"
      ]
     },
     "metadata": {
      "needs_background": "light"
     },
     "output_type": "display_data"
    }
   ],
   "source": [
    "for_num_col(stud_math['studytime'])\n",
    "# заменим пропуски медианой\n",
    "stud_math['studytime'] = stud_math['studytime'].apply(\n",
    "    lambda x: 2 if pd.isna(x) else x)\n",
    "stud_math['studytime'].unique()"
   ]
  },
  {
   "cell_type": "markdown",
   "metadata": {},
   "source": [
    "# Столбец времени на учебу вне школы в неделю:\n",
    "Есть немного пропусков. Выбросов нет. Из графика видно что большинство учеников проводят меньше 5 часов в неделю на учебу вне школы, и лишь немногая часть (около 25 человек) - больше 10 часов."
   ]
  },
  {
   "cell_type": "code",
   "execution_count": 397,
   "metadata": {},
   "outputs": [
    {
     "data": {
      "text/plain": [
       "<AxesSubplot:>"
      ]
     },
     "metadata": {},
     "output_type": "display_data"
    },
    {
     "data": {
      "text/plain": [
       "count    307.000000\n",
       "mean       0.315961\n",
       "std        0.728396\n",
       "min        0.000000\n",
       "25%        0.000000\n",
       "50%        0.000000\n",
       "75%        0.000000\n",
       "max        3.000000\n",
       "Name: failures, dtype: float64"
      ]
     },
     "metadata": {},
     "output_type": "display_data"
    },
    {
     "name": "stdout",
     "output_type": "stream",
     "text": [
      "25-й перцентиль: 0.0, 75-й перцентиль: 0.0, IQR: 0.0,\n",
      "Границы выбросов = [0.0, 0.0]\n"
     ]
    },
    {
     "data": {
      "text/plain": [
       "array([0., 3., 1., 2.])"
      ]
     },
     "execution_count": 397,
     "metadata": {},
     "output_type": "execute_result"
    },
    {
     "data": {
      "image/png": "[encoded data removed]",
      "text/plain": [
       "<Figure size 432x288 with 1 Axes>"
      ]
     },
     "metadata": {
      "needs_background": "light"
     },
     "output_type": "display_data"
    }
   ],
   "source": [
    "for_num_col(stud_math['failures'])\n",
    "# заменяем пропуски модой\n",
    "stud_math['failures'] = stud_math['failures'].apply(\n",
    "    lambda x: 0 if pd.isna(x) else x)\n",
    "stud_math['failures'].unique()"
   ]
  },
  {
   "cell_type": "markdown",
   "metadata": {},
   "source": [
    "# Столбец внешкольных неудач:\n",
    "Есть около 20 пропусков. Выбросов нет. Подавляющее большинство учеников не имеет проблем вне школы."
   ]
  },
  {
   "cell_type": "code",
   "execution_count": 398,
   "metadata": {},
   "outputs": [
    {
     "data": {
      "text/plain": [
       "<AxesSubplot:>"
      ]
     },
     "metadata": {},
     "output_type": "display_data"
    },
    {
     "data": {
      "text/plain": [
       "count    321.000000\n",
       "mean      -6.093458\n",
       "std        2.563686\n",
       "min      -12.000000\n",
       "25%       -6.000000\n",
       "50%       -6.000000\n",
       "75%       -3.000000\n",
       "max       -3.000000\n",
       "Name: studytime, granular, dtype: float64"
      ]
     },
     "metadata": {},
     "output_type": "display_data"
    },
    {
     "name": "stdout",
     "output_type": "stream",
     "text": [
      "25-й перцентиль: -6.0, 75-й перцентиль: -3.0, IQR: 3.0,\n",
      "Границы выбросов = [-10.5, 1.5]\n"
     ]
    },
    {
     "data": {
      "text/plain": [
       "array([ -6.,  -9.,  -3., -12.])"
      ]
     },
     "execution_count": 398,
     "metadata": {},
     "output_type": "execute_result"
    },
    {
     "data": {
      "image/png": "[encoded data removed]",
      "text/plain": [
       "<Figure size 432x288 with 1 Axes>"
      ]
     },
     "metadata": {
      "needs_background": "light"
     },
     "output_type": "display_data"
    }
   ],
   "source": [
    "for_num_col(stud_math['studytime, granular'])\n",
    "# заменяем пропуски медианой\n",
    "stud_math['studytime, granular'] = stud_math['studytime, granular'].apply(\n",
    "    lambda x: -6 if pd.isna(x) else x)\n",
    "stud_math['studytime, granular'].unique()"
   ]
  },
  {
   "cell_type": "markdown",
   "metadata": {},
   "source": [
    "Не понял что означает данный столбец. Пропуски есть, их можно заменить медианным значением. В дальнейшем посмотрим будет ли коррелироваться данный столбец с целевой переменной, может его и нужно будет оставить."
   ]
  },
  {
   "cell_type": "code",
   "execution_count": 399,
   "metadata": {},
   "outputs": [
    {
     "data": {
      "text/plain": [
       "<AxesSubplot:>"
      ]
     },
     "metadata": {},
     "output_type": "display_data"
    },
    {
     "data": {
      "text/plain": [
       "count    326.000000\n",
       "mean       3.953988\n",
       "std        0.905215\n",
       "min        1.000000\n",
       "25%        4.000000\n",
       "50%        4.000000\n",
       "75%        5.000000\n",
       "max        5.000000\n",
       "Name: famrel, dtype: float64"
      ]
     },
     "metadata": {},
     "output_type": "display_data"
    },
    {
     "name": "stdout",
     "output_type": "stream",
     "text": [
      "25-й перцентиль: 4.0, 75-й перцентиль: 5.0, IQR: 1.0,\n",
      "Границы выбросов = [2.5, 6.5]\n"
     ]
    },
    {
     "data": {
      "image/png": "[encoded data removed]",
      "text/plain": [
       "<Figure size 432x288 with 1 Axes>"
      ]
     },
     "metadata": {
      "needs_background": "light"
     },
     "output_type": "display_data"
    }
   ],
   "source": [
    "for_num_col(stud_math['famrel'])"
   ]
  },
  {
   "cell_type": "markdown",
   "metadata": {},
   "source": [
    "# Столбец отношений внутри семьи:\n",
    "Выбросов и пропусков, после предобработки, нет. Как видно у большинства отношения в семье хорошие. Лишь около 10% учеников имеют проблемы внутри семьи."
   ]
  },
  {
   "cell_type": "code",
   "execution_count": 400,
   "metadata": {},
   "outputs": [
    {
     "data": {
      "text/plain": [
       "<AxesSubplot:>"
      ]
     },
     "metadata": {},
     "output_type": "display_data"
    },
    {
     "data": {
      "text/plain": [
       "count    319.000000\n",
       "mean       3.210031\n",
       "std        1.004593\n",
       "min        1.000000\n",
       "25%        3.000000\n",
       "50%        3.000000\n",
       "75%        4.000000\n",
       "max        5.000000\n",
       "Name: freetime, dtype: float64"
      ]
     },
     "metadata": {},
     "output_type": "display_data"
    },
    {
     "name": "stdout",
     "output_type": "stream",
     "text": [
      "25-й перцентиль: 3.0, 75-й перцентиль: 4.0, IQR: 1.0,\n",
      "Границы выбросов = [1.5, 5.5]\n"
     ]
    },
    {
     "data": {
      "text/plain": [
       "array([3., 2., 4., 1., 5.])"
      ]
     },
     "execution_count": 400,
     "metadata": {},
     "output_type": "execute_result"
    },
    {
     "data": {
      "image/png": "[encoded data removed]",
      "text/plain": [
       "<Figure size 432x288 with 1 Axes>"
      ]
     },
     "metadata": {
      "needs_background": "light"
     },
     "output_type": "display_data"
    }
   ],
   "source": [
    "for_num_col(stud_math['freetime'])\n",
    "# заменяем пропуски медианой\n",
    "stud_math['freetime'] = stud_math['freetime'].apply(\n",
    "    lambda x: 3 if pd.isna(x) else x)\n",
    "stud_math['freetime'].unique()"
   ]
  },
  {
   "cell_type": "markdown",
   "metadata": {},
   "source": [
    "# Столбец свободного времени у учеников:\n",
    "Пропусков мало (около 10). Выбросов нет. В целом средние показатели у большинства учащихся. Лишь у единиц почти нет свободного времени. "
   ]
  },
  {
   "cell_type": "code",
   "execution_count": 401,
   "metadata": {},
   "outputs": [
    {
     "data": {
      "text/plain": [
       "<AxesSubplot:>"
      ]
     },
     "metadata": {},
     "output_type": "display_data"
    },
    {
     "data": {
      "text/plain": [
       "count    319.000000\n",
       "mean       3.081505\n",
       "std        1.098714\n",
       "min        1.000000\n",
       "25%        2.000000\n",
       "50%        3.000000\n",
       "75%        4.000000\n",
       "max        5.000000\n",
       "Name: goout, dtype: float64"
      ]
     },
     "metadata": {},
     "output_type": "display_data"
    },
    {
     "name": "stdout",
     "output_type": "stream",
     "text": [
      "25-й перцентиль: 2.0, 75-й перцентиль: 4.0, IQR: 2.0,\n",
      "Границы выбросов = [-1.0, 7.0]\n"
     ]
    },
    {
     "data": {
      "text/plain": [
       "array([4., 3., 2., 1., 5.])"
      ]
     },
     "execution_count": 401,
     "metadata": {},
     "output_type": "execute_result"
    },
    {
     "data": {
      "image/png": "[encoded data removed]",
      "text/plain": [
       "<Figure size 432x288 with 1 Axes>"
      ]
     },
     "metadata": {
      "needs_background": "light"
     },
     "output_type": "display_data"
    }
   ],
   "source": [
    "for_num_col(stud_math['goout'])\n",
    "# заменяем пропуски медианой\n",
    "stud_math['goout'] = stud_math['goout'].apply(lambda x: 3 if pd.isna(x) else x)\n",
    "stud_math['goout'].unique()"
   ]
  },
  {
   "cell_type": "markdown",
   "metadata": {},
   "source": [
    "# Столбец проведения времени с друзьями:\n",
    "Пропусков мало. Выбросов нет. Опять средние показатели, крайне мало учеников не проводят достаточно времени с друзьями."
   ]
  },
  {
   "cell_type": "code",
   "execution_count": 402,
   "metadata": {},
   "outputs": [
    {
     "data": {
      "text/plain": [
       "<AxesSubplot:>"
      ]
     },
     "metadata": {},
     "output_type": "display_data"
    },
    {
     "data": {
      "text/plain": [
       "count    313.000000\n",
       "mean       3.472843\n",
       "std        1.391387\n",
       "min        1.000000\n",
       "25%        3.000000\n",
       "50%        4.000000\n",
       "75%        5.000000\n",
       "max        5.000000\n",
       "Name: health, dtype: float64"
      ]
     },
     "metadata": {},
     "output_type": "display_data"
    },
    {
     "name": "stdout",
     "output_type": "stream",
     "text": [
      "25-й перцентиль: 3.0, 75-й перцентиль: 5.0, IQR: 2.0,\n",
      "Границы выбросов = [0.0, 8.0]\n"
     ]
    },
    {
     "data": {
      "text/plain": [
       "array([3., 5., 1., 2., 4.])"
      ]
     },
     "execution_count": 402,
     "metadata": {},
     "output_type": "execute_result"
    },
    {
     "data": {
      "image/png": "[encoded data removed]",
      "text/plain": [
       "<Figure size 432x288 with 1 Axes>"
      ]
     },
     "metadata": {
      "needs_background": "light"
     },
     "output_type": "display_data"
    }
   ],
   "source": [
    "for_num_col(stud_math['health'])\n",
    "# заменяем пропуски медианой\n",
    "stud_math['health'] = stud_math['health'].apply(\n",
    "    lambda x: 4 if pd.isna(x) else x)\n",
    "stud_math['health'].unique()"
   ]
  },
  {
   "cell_type": "markdown",
   "metadata": {},
   "source": [
    "# Столбец здоровья:\n",
    "Пропусков около 15. Выбросов нет. Больше трети учеников абсолютно здоровы. Явные проблемы со здоровьем примерно у четверти. У остальных средние показатели."
   ]
  },
  {
   "cell_type": "code",
   "execution_count": 403,
   "metadata": {},
   "outputs": [
    {
     "data": {
      "text/plain": [
       "<AxesSubplot:>"
      ]
     },
     "metadata": {},
     "output_type": "display_data"
    },
    {
     "data": {
      "text/plain": [
       "count    326.000000\n",
       "mean       5.576687\n",
       "std        7.410093\n",
       "min        0.000000\n",
       "25%        0.000000\n",
       "50%        4.000000\n",
       "75%        8.000000\n",
       "max       56.000000\n",
       "Name: absences, dtype: float64"
      ]
     },
     "metadata": {},
     "output_type": "display_data"
    },
    {
     "name": "stdout",
     "output_type": "stream",
     "text": [
      "25-й перцентиль: 0.0, 75-й перцентиль: 8.0, IQR: 8.0,\n",
      "Границы выбросов = [-12.0, 20.0]\n"
     ]
    },
    {
     "data": {
      "image/png": "[encoded data removed]",
      "text/plain": [
       "<Figure size 432x288 with 1 Axes>"
      ]
     },
     "metadata": {
      "needs_background": "light"
     },
     "output_type": "display_data"
    }
   ],
   "source": [
    "for_num_col(stud_math['absences'])"
   ]
  },
  {
   "cell_type": "markdown",
   "metadata": {},
   "source": [
    "# Столбец количества пропущенных занятий:\n",
    "Пропусков нет. В предобработке мы убрали пару аномальных значений, вероятно это единичные прогульщики на показатели которых нет смысла ориентироваться. Выбросы все еще есть, но в рамках здравого смысла."
   ]
  },
  {
   "cell_type": "code",
   "execution_count": 404,
   "metadata": {},
   "outputs": [
    {
     "data": {
      "text/plain": [
       "<AxesSubplot:>"
      ]
     },
     "metadata": {},
     "output_type": "display_data"
    },
    {
     "data": {
      "text/plain": [
       "count    326.000000\n",
       "mean      52.147239\n",
       "std       22.401712\n",
       "min        0.000000\n",
       "25%       41.250000\n",
       "50%       55.000000\n",
       "75%       65.000000\n",
       "max      100.000000\n",
       "Name: score, dtype: float64"
      ]
     },
     "metadata": {},
     "output_type": "display_data"
    },
    {
     "name": "stdout",
     "output_type": "stream",
     "text": [
      "25-й перцентиль: 41.25, 75-й перцентиль: 65.0, IQR: 23.75,\n",
      "Границы выбросов = [5.625, 100.625]\n"
     ]
    },
    {
     "data": {
      "text/plain": [
       "50.0     50\n",
       "55.0     42\n",
       "0.0      30\n",
       "65.0     28\n",
       "60.0     25\n",
       "75.0     25\n",
       "40.0     24\n",
       "70.0     23\n",
       "45.0     19\n",
       "80.0     16\n",
       "30.0     14\n",
       "90.0     10\n",
       "35.0      8\n",
       "25.0      5\n",
       "85.0      3\n",
       "95.0      2\n",
       "100.0     1\n",
       "20.0      1\n",
       "Name: score, dtype: int64"
      ]
     },
     "execution_count": 404,
     "metadata": {},
     "output_type": "execute_result"
    },
    {
     "data": {
      "image/png": "[encoded data removed]",
      "text/plain": [
       "<Figure size 432x288 with 1 Axes>"
      ]
     },
     "metadata": {
      "needs_background": "light"
     },
     "output_type": "display_data"
    }
   ],
   "source": [
    "for_num_col(stud_math['score'])\n",
    "\n",
    "stud_math['score'].value_counts()"
   ]
  },
  {
   "cell_type": "markdown",
   "metadata": {},
   "source": [
    "# Столбец набранных баллов по экзамену:\n",
    "После предобработки пропусков нет. Выбросов нет. График симметричный. Подозрение вызывает только большое количесвто оценок 0, пока что их оставим.  Большинство учеников сдали экзамен средне. Этот столбец является для нас целевым, так что пропусков быть не должно."
   ]
  },
  {
   "cell_type": "code",
   "execution_count": 405,
   "metadata": {},
   "outputs": [
    {
     "data": {
      "text/html": [
       "<div>\n",
       "<style scoped>\n",
       "    .dataframe tbody tr th:only-of-type {\n",
       "        vertical-align: middle;\n",
       "    }\n",
       "\n",
       "    .dataframe tbody tr th {\n",
       "        vertical-align: top;\n",
       "    }\n",
       "\n",
       "    .dataframe thead th {\n",
       "        text-align: right;\n",
       "    }\n",
       "</style>\n",
       "<table border=\"1\" class=\"dataframe\">\n",
       "  <thead>\n",
       "    <tr style=\"text-align: right;\">\n",
       "      <th></th>\n",
       "      <th>age</th>\n",
       "      <th>Medu</th>\n",
       "      <th>Fedu</th>\n",
       "      <th>traveltime</th>\n",
       "      <th>studytime</th>\n",
       "      <th>failures</th>\n",
       "      <th>studytime, granular</th>\n",
       "      <th>famrel</th>\n",
       "      <th>freetime</th>\n",
       "      <th>goout</th>\n",
       "      <th>health</th>\n",
       "      <th>absences</th>\n",
       "      <th>score</th>\n",
       "    </tr>\n",
       "  </thead>\n",
       "  <tbody>\n",
       "    <tr>\n",
       "      <th>age</th>\n",
       "      <td>1.000000</td>\n",
       "      <td>-0.135115</td>\n",
       "      <td>-0.152193</td>\n",
       "      <td>0.064970</td>\n",
       "      <td>-0.022439</td>\n",
       "      <td>0.207100</td>\n",
       "      <td>0.022439</td>\n",
       "      <td>0.043593</td>\n",
       "      <td>-0.006911</td>\n",
       "      <td>0.071929</td>\n",
       "      <td>-0.065910</td>\n",
       "      <td>0.156020</td>\n",
       "      <td>-0.140704</td>\n",
       "    </tr>\n",
       "    <tr>\n",
       "      <th>Medu</th>\n",
       "      <td>-0.135115</td>\n",
       "      <td>1.000000</td>\n",
       "      <td>0.648857</td>\n",
       "      <td>-0.154519</td>\n",
       "      <td>0.080566</td>\n",
       "      <td>-0.214881</td>\n",
       "      <td>-0.080566</td>\n",
       "      <td>-0.023254</td>\n",
       "      <td>0.004574</td>\n",
       "      <td>0.072493</td>\n",
       "      <td>-0.085160</td>\n",
       "      <td>0.123462</td>\n",
       "      <td>0.203450</td>\n",
       "    </tr>\n",
       "    <tr>\n",
       "      <th>Fedu</th>\n",
       "      <td>-0.152193</td>\n",
       "      <td>0.648857</td>\n",
       "      <td>1.000000</td>\n",
       "      <td>-0.165287</td>\n",
       "      <td>-0.000716</td>\n",
       "      <td>-0.248842</td>\n",
       "      <td>0.000716</td>\n",
       "      <td>-0.031771</td>\n",
       "      <td>-0.019721</td>\n",
       "      <td>0.029747</td>\n",
       "      <td>-0.006112</td>\n",
       "      <td>0.068245</td>\n",
       "      <td>0.114783</td>\n",
       "    </tr>\n",
       "    <tr>\n",
       "      <th>traveltime</th>\n",
       "      <td>0.064970</td>\n",
       "      <td>-0.154519</td>\n",
       "      <td>-0.165287</td>\n",
       "      <td>1.000000</td>\n",
       "      <td>-0.116920</td>\n",
       "      <td>0.050280</td>\n",
       "      <td>0.116920</td>\n",
       "      <td>-0.061385</td>\n",
       "      <td>0.009030</td>\n",
       "      <td>0.019427</td>\n",
       "      <td>-0.034545</td>\n",
       "      <td>-0.045136</td>\n",
       "      <td>-0.062993</td>\n",
       "    </tr>\n",
       "    <tr>\n",
       "      <th>studytime</th>\n",
       "      <td>-0.022439</td>\n",
       "      <td>0.080566</td>\n",
       "      <td>-0.000716</td>\n",
       "      <td>-0.116920</td>\n",
       "      <td>1.000000</td>\n",
       "      <td>-0.132628</td>\n",
       "      <td>-1.000000</td>\n",
       "      <td>0.021887</td>\n",
       "      <td>-0.131594</td>\n",
       "      <td>-0.062756</td>\n",
       "      <td>-0.084767</td>\n",
       "      <td>-0.052771</td>\n",
       "      <td>0.111526</td>\n",
       "    </tr>\n",
       "    <tr>\n",
       "      <th>failures</th>\n",
       "      <td>0.207100</td>\n",
       "      <td>-0.214881</td>\n",
       "      <td>-0.248842</td>\n",
       "      <td>0.050280</td>\n",
       "      <td>-0.132628</td>\n",
       "      <td>1.000000</td>\n",
       "      <td>0.132628</td>\n",
       "      <td>0.002215</td>\n",
       "      <td>0.100445</td>\n",
       "      <td>0.080722</td>\n",
       "      <td>0.066805</td>\n",
       "      <td>0.073657</td>\n",
       "      <td>-0.301175</td>\n",
       "    </tr>\n",
       "    <tr>\n",
       "      <th>studytime, granular</th>\n",
       "      <td>0.022439</td>\n",
       "      <td>-0.080566</td>\n",
       "      <td>0.000716</td>\n",
       "      <td>0.116920</td>\n",
       "      <td>-1.000000</td>\n",
       "      <td>0.132628</td>\n",
       "      <td>1.000000</td>\n",
       "      <td>-0.021887</td>\n",
       "      <td>0.131594</td>\n",
       "      <td>0.062756</td>\n",
       "      <td>0.084767</td>\n",
       "      <td>0.052771</td>\n",
       "      <td>-0.111526</td>\n",
       "    </tr>\n",
       "    <tr>\n",
       "      <th>famrel</th>\n",
       "      <td>0.043593</td>\n",
       "      <td>-0.023254</td>\n",
       "      <td>-0.031771</td>\n",
       "      <td>-0.061385</td>\n",
       "      <td>0.021887</td>\n",
       "      <td>0.002215</td>\n",
       "      <td>-0.021887</td>\n",
       "      <td>1.000000</td>\n",
       "      <td>0.164395</td>\n",
       "      <td>0.075671</td>\n",
       "      <td>0.107921</td>\n",
       "      <td>-0.034564</td>\n",
       "      <td>0.044338</td>\n",
       "    </tr>\n",
       "    <tr>\n",
       "      <th>freetime</th>\n",
       "      <td>-0.006911</td>\n",
       "      <td>0.004574</td>\n",
       "      <td>-0.019721</td>\n",
       "      <td>0.009030</td>\n",
       "      <td>-0.131594</td>\n",
       "      <td>0.100445</td>\n",
       "      <td>0.131594</td>\n",
       "      <td>0.164395</td>\n",
       "      <td>1.000000</td>\n",
       "      <td>0.283774</td>\n",
       "      <td>0.090348</td>\n",
       "      <td>-0.024491</td>\n",
       "      <td>0.014663</td>\n",
       "    </tr>\n",
       "    <tr>\n",
       "      <th>goout</th>\n",
       "      <td>0.071929</td>\n",
       "      <td>0.072493</td>\n",
       "      <td>0.029747</td>\n",
       "      <td>0.019427</td>\n",
       "      <td>-0.062756</td>\n",
       "      <td>0.080722</td>\n",
       "      <td>0.062756</td>\n",
       "      <td>0.075671</td>\n",
       "      <td>0.283774</td>\n",
       "      <td>1.000000</td>\n",
       "      <td>-0.012094</td>\n",
       "      <td>0.051960</td>\n",
       "      <td>-0.139746</td>\n",
       "    </tr>\n",
       "    <tr>\n",
       "      <th>health</th>\n",
       "      <td>-0.065910</td>\n",
       "      <td>-0.085160</td>\n",
       "      <td>-0.006112</td>\n",
       "      <td>-0.034545</td>\n",
       "      <td>-0.084767</td>\n",
       "      <td>0.066805</td>\n",
       "      <td>0.084767</td>\n",
       "      <td>0.107921</td>\n",
       "      <td>0.090348</td>\n",
       "      <td>-0.012094</td>\n",
       "      <td>1.000000</td>\n",
       "      <td>-0.057356</td>\n",
       "      <td>-0.043773</td>\n",
       "    </tr>\n",
       "    <tr>\n",
       "      <th>absences</th>\n",
       "      <td>0.156020</td>\n",
       "      <td>0.123462</td>\n",
       "      <td>0.068245</td>\n",
       "      <td>-0.045136</td>\n",
       "      <td>-0.052771</td>\n",
       "      <td>0.073657</td>\n",
       "      <td>0.052771</td>\n",
       "      <td>-0.034564</td>\n",
       "      <td>-0.024491</td>\n",
       "      <td>0.051960</td>\n",
       "      <td>-0.057356</td>\n",
       "      <td>1.000000</td>\n",
       "      <td>0.060451</td>\n",
       "    </tr>\n",
       "    <tr>\n",
       "      <th>score</th>\n",
       "      <td>-0.140704</td>\n",
       "      <td>0.203450</td>\n",
       "      <td>0.114783</td>\n",
       "      <td>-0.062993</td>\n",
       "      <td>0.111526</td>\n",
       "      <td>-0.301175</td>\n",
       "      <td>-0.111526</td>\n",
       "      <td>0.044338</td>\n",
       "      <td>0.014663</td>\n",
       "      <td>-0.139746</td>\n",
       "      <td>-0.043773</td>\n",
       "      <td>0.060451</td>\n",
       "      <td>1.000000</td>\n",
       "    </tr>\n",
       "  </tbody>\n",
       "</table>\n",
       "</div>"
      ],
      "text/plain": [
       "                          age      Medu      Fedu  traveltime  studytime  \\\n",
       "age                  1.000000 -0.135115 -0.152193    0.064970  -0.022439   \n",
       "Medu                -0.135115  1.000000  0.648857   -0.154519   0.080566   \n",
       "Fedu                -0.152193  0.648857  1.000000   -0.165287  -0.000716   \n",
       "traveltime           0.064970 -0.154519 -0.165287    1.000000  -0.116920   \n",
       "studytime           -0.022439  0.080566 -0.000716   -0.116920   1.000000   \n",
       "failures             0.207100 -0.214881 -0.248842    0.050280  -0.132628   \n",
       "studytime, granular  0.022439 -0.080566  0.000716    0.116920  -1.000000   \n",
       "famrel               0.043593 -0.023254 -0.031771   -0.061385   0.021887   \n",
       "freetime            -0.006911  0.004574 -0.019721    0.009030  -0.131594   \n",
       "goout                0.071929  0.072493  0.029747    0.019427  -0.062756   \n",
       "health              -0.065910 -0.085160 -0.006112   -0.034545  -0.084767   \n",
       "absences             0.156020  0.123462  0.068245   -0.045136  -0.052771   \n",
       "score               -0.140704  0.203450  0.114783   -0.062993   0.111526   \n",
       "\n",
       "                     failures  studytime, granular    famrel  freetime  \\\n",
       "age                  0.207100             0.022439  0.043593 -0.006911   \n",
       "Medu                -0.214881            -0.080566 -0.023254  0.004574   \n",
       "Fedu                -0.248842             0.000716 -0.031771 -0.019721   \n",
       "traveltime           0.050280             0.116920 -0.061385  0.009030   \n",
       "studytime           -0.132628            -1.000000  0.021887 -0.131594   \n",
       "failures             1.000000             0.132628  0.002215  0.100445   \n",
       "studytime, granular  0.132628             1.000000 -0.021887  0.131594   \n",
       "famrel               0.002215            -0.021887  1.000000  0.164395   \n",
       "freetime             0.100445             0.131594  0.164395  1.000000   \n",
       "goout                0.080722             0.062756  0.075671  0.283774   \n",
       "health               0.066805             0.084767  0.107921  0.090348   \n",
       "absences             0.073657             0.052771 -0.034564 -0.024491   \n",
       "score               -0.301175            -0.111526  0.044338  0.014663   \n",
       "\n",
       "                        goout    health  absences     score  \n",
       "age                  0.071929 -0.065910  0.156020 -0.140704  \n",
       "Medu                 0.072493 -0.085160  0.123462  0.203450  \n",
       "Fedu                 0.029747 -0.006112  0.068245  0.114783  \n",
       "traveltime           0.019427 -0.034545 -0.045136 -0.062993  \n",
       "studytime           -0.062756 -0.084767 -0.052771  0.111526  \n",
       "failures             0.080722  0.066805  0.073657 -0.301175  \n",
       "studytime, granular  0.062756  0.084767  0.052771 -0.111526  \n",
       "famrel               0.075671  0.107921 -0.034564  0.044338  \n",
       "freetime             0.283774  0.090348 -0.024491  0.014663  \n",
       "goout                1.000000 -0.012094  0.051960 -0.139746  \n",
       "health              -0.012094  1.000000 -0.057356 -0.043773  \n",
       "absences             0.051960 -0.057356  1.000000  0.060451  \n",
       "score               -0.139746 -0.043773  0.060451  1.000000  "
      ]
     },
     "execution_count": 405,
     "metadata": {},
     "output_type": "execute_result"
    }
   ],
   "source": [
    "stud_math.corr()"
   ]
  },
  {
   "cell_type": "markdown",
   "metadata": {},
   "source": [
    "# Корреляционный анализ\n",
    "Самая высокая корреляция замечена между образованием матери и отца, это мы использовали для заполнения пропусков в этих столбцах.\n",
    "С нашей целевой переменной больше всего коррелируют столбцы: Medu, Fedu, studytime. У них корреляция больше 10%.\n",
    "Также есть высокая обратная корреляция у переменной score со столбцами: age, failures, (studytime, granular), goout.\n",
    "Эти столбцы точно оставляем для будущей модели. По остальным примем решение после построения boxplot графиков."
   ]
  },
  {
   "cell_type": "markdown",
   "metadata": {},
   "source": [
    "# Анализ столбцов с номинативными переменными\n",
    "Теперь будем анализировать каждый столбец с номинативными переменными отдельно и заполнять пропуски если необходимо. Анализ данных столбцов включает в себя построение boxplot графиков, чтобы посмотреть взаимосвязь целевой переменной и столбца, а также подсчет количества номинативных значений."
   ]
  },
  {
   "cell_type": "code",
   "execution_count": 406,
   "metadata": {},
   "outputs": [
    {
     "data": {
      "text/html": [
       "<div>\n",
       "<style scoped>\n",
       "    .dataframe tbody tr th:only-of-type {\n",
       "        vertical-align: middle;\n",
       "    }\n",
       "\n",
       "    .dataframe tbody tr th {\n",
       "        vertical-align: top;\n",
       "    }\n",
       "\n",
       "    .dataframe thead th {\n",
       "        text-align: right;\n",
       "    }\n",
       "</style>\n",
       "<table border=\"1\" class=\"dataframe\">\n",
       "  <thead>\n",
       "    <tr style=\"text-align: right;\">\n",
       "      <th></th>\n",
       "      <th>school</th>\n",
       "    </tr>\n",
       "  </thead>\n",
       "  <tbody>\n",
       "    <tr>\n",
       "      <th>GP</th>\n",
       "      <td>288</td>\n",
       "    </tr>\n",
       "    <tr>\n",
       "      <th>MS</th>\n",
       "      <td>38</td>\n",
       "    </tr>\n",
       "  </tbody>\n",
       "</table>\n",
       "</div>"
      ],
      "text/plain": [
       "    school\n",
       "GP     288\n",
       "MS      38"
      ]
     },
     "metadata": {},
     "output_type": "display_data"
    },
    {
     "data": {
      "text/plain": [
       "'Количество непустых значений = 326'"
      ]
     },
     "metadata": {},
     "output_type": "display_data"
    },
    {
     "data": {
      "text/plain": [
       "<AxesSubplot:>"
      ]
     },
     "metadata": {},
     "output_type": "display_data"
    },
    {
     "data": {
      "image/png": "[encoded data removed]",
      "text/plain": [
       "<Figure size 432x288 with 1 Axes>"
      ]
     },
     "metadata": {
      "needs_background": "light"
     },
     "output_type": "display_data"
    },
    {
     "data": {
      "image/png": "[encoded data removed]",
      "text/plain": [
       "<Figure size 432x288 with 1 Axes>"
      ]
     },
     "metadata": {
      "needs_background": "light"
     },
     "output_type": "display_data"
    }
   ],
   "source": [
    "for_obj_col('school')"
   ]
  },
  {
   "cell_type": "markdown",
   "metadata": {},
   "source": [
    "# Школа\n",
    "Видим что учащиеся представлены в основном школой GP, и среднее значение баллов у них выше чем в школе MS. Пропусков нет. Столбец может быть полезен для модели."
   ]
  },
  {
   "cell_type": "code",
   "execution_count": 407,
   "metadata": {},
   "outputs": [
    {
     "data": {
      "text/html": [
       "<div>\n",
       "<style scoped>\n",
       "    .dataframe tbody tr th:only-of-type {\n",
       "        vertical-align: middle;\n",
       "    }\n",
       "\n",
       "    .dataframe tbody tr th {\n",
       "        vertical-align: top;\n",
       "    }\n",
       "\n",
       "    .dataframe thead th {\n",
       "        text-align: right;\n",
       "    }\n",
       "</style>\n",
       "<table border=\"1\" class=\"dataframe\">\n",
       "  <thead>\n",
       "    <tr style=\"text-align: right;\">\n",
       "      <th></th>\n",
       "      <th>sex</th>\n",
       "    </tr>\n",
       "  </thead>\n",
       "  <tbody>\n",
       "    <tr>\n",
       "      <th>F</th>\n",
       "      <td>176</td>\n",
       "    </tr>\n",
       "    <tr>\n",
       "      <th>M</th>\n",
       "      <td>150</td>\n",
       "    </tr>\n",
       "  </tbody>\n",
       "</table>\n",
       "</div>"
      ],
      "text/plain": [
       "   sex\n",
       "F  176\n",
       "M  150"
      ]
     },
     "metadata": {},
     "output_type": "display_data"
    },
    {
     "data": {
      "text/plain": [
       "'Количество непустых значений = 326'"
      ]
     },
     "metadata": {},
     "output_type": "display_data"
    },
    {
     "data": {
      "text/plain": [
       "<AxesSubplot:>"
      ]
     },
     "metadata": {},
     "output_type": "display_data"
    },
    {
     "data": {
      "image/png": "[encoded data removed]",
      "text/plain": [
       "<Figure size 432x288 with 1 Axes>"
      ]
     },
     "metadata": {
      "needs_background": "light"
     },
     "output_type": "display_data"
    },
    {
     "data": {
      "image/png": "[encoded data removed]",
      "text/plain": [
       "<Figure size 432x288 with 1 Axes>"
      ]
     },
     "metadata": {
      "needs_background": "light"
     },
     "output_type": "display_data"
    }
   ],
   "source": [
    "for_obj_col('sex')"
   ]
  },
  {
   "cell_type": "markdown",
   "metadata": {},
   "source": [
    "# Пол\n",
    "Примерно равное распрделение в обоих группах. Верхняя граница у мужчин чуть выше, однако средний показатель баллов за экзамен одинаковый. Наверно небольшая закономерность есть."
   ]
  },
  {
   "cell_type": "code",
   "execution_count": 408,
   "metadata": {},
   "outputs": [
    {
     "data": {
      "text/html": [
       "<div>\n",
       "<style scoped>\n",
       "    .dataframe tbody tr th:only-of-type {\n",
       "        vertical-align: middle;\n",
       "    }\n",
       "\n",
       "    .dataframe tbody tr th {\n",
       "        vertical-align: top;\n",
       "    }\n",
       "\n",
       "    .dataframe thead th {\n",
       "        text-align: right;\n",
       "    }\n",
       "</style>\n",
       "<table border=\"1\" class=\"dataframe\">\n",
       "  <thead>\n",
       "    <tr style=\"text-align: right;\">\n",
       "      <th></th>\n",
       "      <th>address</th>\n",
       "    </tr>\n",
       "  </thead>\n",
       "  <tbody>\n",
       "    <tr>\n",
       "      <th>U</th>\n",
       "      <td>256</td>\n",
       "    </tr>\n",
       "    <tr>\n",
       "      <th>R</th>\n",
       "      <td>70</td>\n",
       "    </tr>\n",
       "  </tbody>\n",
       "</table>\n",
       "</div>"
      ],
      "text/plain": [
       "   address\n",
       "U      256\n",
       "R       70"
      ]
     },
     "metadata": {},
     "output_type": "display_data"
    },
    {
     "data": {
      "text/plain": [
       "'Количество непустых значений = 326'"
      ]
     },
     "metadata": {},
     "output_type": "display_data"
    },
    {
     "data": {
      "text/plain": [
       "<AxesSubplot:>"
      ]
     },
     "metadata": {},
     "output_type": "display_data"
    },
    {
     "data": {
      "image/png": "[encoded data removed]",
      "text/plain": [
       "<Figure size 432x288 with 1 Axes>"
      ]
     },
     "metadata": {
      "needs_background": "light"
     },
     "output_type": "display_data"
    },
    {
     "data": {
      "image/png": "[encoded data removed]",
      "text/plain": [
       "<Figure size 432x288 with 1 Axes>"
      ]
     },
     "metadata": {
      "needs_background": "light"
     },
     "output_type": "display_data"
    }
   ],
   "source": [
    "# заполняем пропуски модой\n",
    "stud_math['address'] = stud_math['address'].apply(\n",
    "    lambda x: stud_math['address'].mode()[0] if pd.isna(x) else x)\n",
    "for_obj_col('address')"
   ]
  },
  {
   "cell_type": "markdown",
   "metadata": {},
   "source": [
    "# Адрес\n",
    "Большая часть учеников живет в городе. Баллы за экзамен у городских немного выше, столбец также оставляем для модели. Пропуски заполнили модой (городским адресом)"
   ]
  },
  {
   "cell_type": "code",
   "execution_count": 409,
   "metadata": {},
   "outputs": [
    {
     "data": {
      "text/html": [
       "<div>\n",
       "<style scoped>\n",
       "    .dataframe tbody tr th:only-of-type {\n",
       "        vertical-align: middle;\n",
       "    }\n",
       "\n",
       "    .dataframe tbody tr th {\n",
       "        vertical-align: top;\n",
       "    }\n",
       "\n",
       "    .dataframe thead th {\n",
       "        text-align: right;\n",
       "    }\n",
       "</style>\n",
       "<table border=\"1\" class=\"dataframe\">\n",
       "  <thead>\n",
       "    <tr style=\"text-align: right;\">\n",
       "      <th></th>\n",
       "      <th>famsize</th>\n",
       "    </tr>\n",
       "  </thead>\n",
       "  <tbody>\n",
       "    <tr>\n",
       "      <th>GT3</th>\n",
       "      <td>238</td>\n",
       "    </tr>\n",
       "    <tr>\n",
       "      <th>LE3</th>\n",
       "      <td>88</td>\n",
       "    </tr>\n",
       "  </tbody>\n",
       "</table>\n",
       "</div>"
      ],
      "text/plain": [
       "     famsize\n",
       "GT3      238\n",
       "LE3       88"
      ]
     },
     "metadata": {},
     "output_type": "display_data"
    },
    {
     "data": {
      "text/plain": [
       "'Количество непустых значений = 326'"
      ]
     },
     "metadata": {},
     "output_type": "display_data"
    },
    {
     "data": {
      "text/plain": [
       "<AxesSubplot:>"
      ]
     },
     "metadata": {},
     "output_type": "display_data"
    },
    {
     "data": {
      "image/png": "[encoded data removed]",
      "text/plain": [
       "<Figure size 432x288 with 1 Axes>"
      ]
     },
     "metadata": {
      "needs_background": "light"
     },
     "output_type": "display_data"
    },
    {
     "data": {
      "image/png": "[encoded data removed]",
      "text/plain": [
       "<Figure size 432x288 with 1 Axes>"
      ]
     },
     "metadata": {
      "needs_background": "light"
     },
     "output_type": "display_data"
    }
   ],
   "source": [
    "stud_math['famsize'] = stud_math['famsize'].apply(\n",
    "    lambda x: stud_math['famsize'].mode()[0] if pd.isna(x) else x)\n",
    "for_obj_col('famsize')"
   ]
  },
  {
   "cell_type": "markdown",
   "metadata": {},
   "source": [
    "# Размер семьи\n",
    "Большая часть учеников живет в семьях из 4 и более человек. Однако на итоговую оценку это особого влияния не имеет, баллы в среднем одинаковые. Этот столбец можно отбросить."
   ]
  },
  {
   "cell_type": "code",
   "execution_count": 410,
   "metadata": {},
   "outputs": [
    {
     "data": {
      "text/html": [
       "<div>\n",
       "<style scoped>\n",
       "    .dataframe tbody tr th:only-of-type {\n",
       "        vertical-align: middle;\n",
       "    }\n",
       "\n",
       "    .dataframe tbody tr th {\n",
       "        vertical-align: top;\n",
       "    }\n",
       "\n",
       "    .dataframe thead th {\n",
       "        text-align: right;\n",
       "    }\n",
       "</style>\n",
       "<table border=\"1\" class=\"dataframe\">\n",
       "  <thead>\n",
       "    <tr style=\"text-align: right;\">\n",
       "      <th></th>\n",
       "      <th>Pstatus</th>\n",
       "    </tr>\n",
       "  </thead>\n",
       "  <tbody>\n",
       "    <tr>\n",
       "      <th>T</th>\n",
       "      <td>299</td>\n",
       "    </tr>\n",
       "    <tr>\n",
       "      <th>A</th>\n",
       "      <td>27</td>\n",
       "    </tr>\n",
       "  </tbody>\n",
       "</table>\n",
       "</div>"
      ],
      "text/plain": [
       "   Pstatus\n",
       "T      299\n",
       "A       27"
      ]
     },
     "metadata": {},
     "output_type": "display_data"
    },
    {
     "data": {
      "text/plain": [
       "'Количество непустых значений = 326'"
      ]
     },
     "metadata": {},
     "output_type": "display_data"
    },
    {
     "data": {
      "text/plain": [
       "<AxesSubplot:>"
      ]
     },
     "metadata": {},
     "output_type": "display_data"
    },
    {
     "data": {
      "text/plain": [
       "array(['A', 'T'], dtype=object)"
      ]
     },
     "execution_count": 410,
     "metadata": {},
     "output_type": "execute_result"
    },
    {
     "data": {
      "image/png": "[encoded data removed]",
      "text/plain": [
       "<Figure size 432x288 with 1 Axes>"
      ]
     },
     "metadata": {
      "needs_background": "light"
     },
     "output_type": "display_data"
    },
    {
     "data": {
      "image/png": "[encoded data removed]",
      "text/plain": [
       "<Figure size 432x288 with 1 Axes>"
      ]
     },
     "metadata": {
      "needs_background": "light"
     },
     "output_type": "display_data"
    }
   ],
   "source": [
    "# пропуски заполняем модой\n",
    "stud_math['Pstatus'] = stud_math['Pstatus'].apply(\n",
    "    lambda x: stud_math['Pstatus'].mode()[0] if pd.isna(x) else x)\n",
    "for_obj_col('Pstatus')\n",
    "stud_math['Pstatus'].unique()"
   ]
  },
  {
   "cell_type": "markdown",
   "metadata": {},
   "source": [
    "# Статус родителей (вместе живут или раздельно)\n",
    "У подавляющего большенства учеников родители живут вместе. Межквартильный размах выше у тех чьи родители живут раздельно, однако среднее значение баллов одинаковое у обоих групп. Учитывая столь малое кол-во учеников с раздельно живущими родителями, не могу считать информативным небольшое превосходство межквартильного размаха на их графике. Этот столбец для модели я бы не брал."
   ]
  },
  {
   "cell_type": "code",
   "execution_count": 411,
   "metadata": {},
   "outputs": [
    {
     "data": {
      "text/html": [
       "<div>\n",
       "<style scoped>\n",
       "    .dataframe tbody tr th:only-of-type {\n",
       "        vertical-align: middle;\n",
       "    }\n",
       "\n",
       "    .dataframe tbody tr th {\n",
       "        vertical-align: top;\n",
       "    }\n",
       "\n",
       "    .dataframe thead th {\n",
       "        text-align: right;\n",
       "    }\n",
       "</style>\n",
       "<table border=\"1\" class=\"dataframe\">\n",
       "  <thead>\n",
       "    <tr style=\"text-align: right;\">\n",
       "      <th></th>\n",
       "      <th>Mjob</th>\n",
       "    </tr>\n",
       "  </thead>\n",
       "  <tbody>\n",
       "    <tr>\n",
       "      <th>other</th>\n",
       "      <td>126</td>\n",
       "    </tr>\n",
       "    <tr>\n",
       "      <th>services</th>\n",
       "      <td>77</td>\n",
       "    </tr>\n",
       "    <tr>\n",
       "      <th>at_home</th>\n",
       "      <td>51</td>\n",
       "    </tr>\n",
       "    <tr>\n",
       "      <th>teacher</th>\n",
       "      <td>43</td>\n",
       "    </tr>\n",
       "    <tr>\n",
       "      <th>health</th>\n",
       "      <td>29</td>\n",
       "    </tr>\n",
       "  </tbody>\n",
       "</table>\n",
       "</div>"
      ],
      "text/plain": [
       "          Mjob\n",
       "other      126\n",
       "services    77\n",
       "at_home     51\n",
       "teacher     43\n",
       "health      29"
      ]
     },
     "metadata": {},
     "output_type": "display_data"
    },
    {
     "data": {
      "text/plain": [
       "'Количество непустых значений = 326'"
      ]
     },
     "metadata": {},
     "output_type": "display_data"
    },
    {
     "data": {
      "text/plain": [
       "<AxesSubplot:>"
      ]
     },
     "metadata": {},
     "output_type": "display_data"
    },
    {
     "data": {
      "image/png": "[encoded data removed]",
      "text/plain": [
       "<Figure size 432x288 with 1 Axes>"
      ]
     },
     "metadata": {
      "needs_background": "light"
     },
     "output_type": "display_data"
    },
    {
     "data": {
      "image/png": "[encoded data removed]",
      "text/plain": [
       "<Figure size 432x288 with 1 Axes>"
      ]
     },
     "metadata": {
      "needs_background": "light"
     },
     "output_type": "display_data"
    }
   ],
   "source": [
    "# пропуски заполняем модой\n",
    "stud_math['Mjob'] = stud_math['Mjob'].apply(\n",
    "    lambda x: stud_math['Mjob'].mode()[0] if pd.isna(x) else x)\n",
    "for_obj_col('Mjob')"
   ]
  },
  {
   "cell_type": "markdown",
   "metadata": {},
   "source": [
    "# Работа матери\n",
    "Как видим профессия матери имеет достаточно сильное влияние на итоговую оценку ученика. Лучшие результаты показывают те, чьи мама работают в сфере здравоохрание, слабее всех те, у кого мамы домохозяйки или из других профессий. И это при том что пропуски мы заполнили модой (другими профессиями). Данный столбец точно оставляем."
   ]
  },
  {
   "cell_type": "code",
   "execution_count": 412,
   "metadata": {},
   "outputs": [
    {
     "data": {
      "text/html": [
       "<div>\n",
       "<style scoped>\n",
       "    .dataframe tbody tr th:only-of-type {\n",
       "        vertical-align: middle;\n",
       "    }\n",
       "\n",
       "    .dataframe tbody tr th {\n",
       "        vertical-align: top;\n",
       "    }\n",
       "\n",
       "    .dataframe thead th {\n",
       "        text-align: right;\n",
       "    }\n",
       "</style>\n",
       "<table border=\"1\" class=\"dataframe\">\n",
       "  <thead>\n",
       "    <tr style=\"text-align: right;\">\n",
       "      <th></th>\n",
       "      <th>Fjob</th>\n",
       "    </tr>\n",
       "  </thead>\n",
       "  <tbody>\n",
       "    <tr>\n",
       "      <th>other</th>\n",
       "      <td>197</td>\n",
       "    </tr>\n",
       "    <tr>\n",
       "      <th>services</th>\n",
       "      <td>82</td>\n",
       "    </tr>\n",
       "    <tr>\n",
       "      <th>teacher</th>\n",
       "      <td>23</td>\n",
       "    </tr>\n",
       "    <tr>\n",
       "      <th>at_home</th>\n",
       "      <td>14</td>\n",
       "    </tr>\n",
       "    <tr>\n",
       "      <th>health</th>\n",
       "      <td>10</td>\n",
       "    </tr>\n",
       "  </tbody>\n",
       "</table>\n",
       "</div>"
      ],
      "text/plain": [
       "          Fjob\n",
       "other      197\n",
       "services    82\n",
       "teacher     23\n",
       "at_home     14\n",
       "health      10"
      ]
     },
     "metadata": {},
     "output_type": "display_data"
    },
    {
     "data": {
      "text/plain": [
       "'Количество непустых значений = 326'"
      ]
     },
     "metadata": {},
     "output_type": "display_data"
    },
    {
     "data": {
      "text/plain": [
       "<AxesSubplot:>"
      ]
     },
     "metadata": {},
     "output_type": "display_data"
    },
    {
     "data": {
      "text/plain": [
       "array(['teacher', 'other', 'health', 'services', 'at_home'], dtype=object)"
      ]
     },
     "execution_count": 412,
     "metadata": {},
     "output_type": "execute_result"
    },
    {
     "data": {
      "image/png": "[encoded data removed]",
      "text/plain": [
       "<Figure size 432x288 with 1 Axes>"
      ]
     },
     "metadata": {
      "needs_background": "light"
     },
     "output_type": "display_data"
    },
    {
     "data": {
      "image/png": "[encoded data removed]",
      "text/plain": [
       "<Figure size 432x288 with 1 Axes>"
      ]
     },
     "metadata": {
      "needs_background": "light"
     },
     "output_type": "display_data"
    }
   ],
   "source": [
    "# пропуски заполняем модой (другие профессии)\n",
    "stud_math['Fjob'] = stud_math['Fjob'].apply(\n",
    "    lambda x: stud_math['Fjob'].mode()[0] if pd.isna(x) else x)\n",
    "for_obj_col('Fjob')\n",
    "stud_math['Fjob'].unique()"
   ]
  },
  {
   "cell_type": "markdown",
   "metadata": {},
   "source": [
    "# Работа отца\n",
    "Здесь выделяются ученики у которых отцы учителя, они имеют набольший средний балл, хотя таких учеников не много (около 25). Остальные в среднем сдали экзамен примерно одинаково. Больше всего учеников с отцами работающими в других сферах, думаю это объясняет то. что у них выше всего расположен рахмах. Данный столбец может быть полезен в дальнейшем, его оставим."
   ]
  },
  {
   "cell_type": "code",
   "execution_count": 413,
   "metadata": {},
   "outputs": [
    {
     "data": {
      "text/html": [
       "<div>\n",
       "<style scoped>\n",
       "    .dataframe tbody tr th:only-of-type {\n",
       "        vertical-align: middle;\n",
       "    }\n",
       "\n",
       "    .dataframe tbody tr th {\n",
       "        vertical-align: top;\n",
       "    }\n",
       "\n",
       "    .dataframe thead th {\n",
       "        text-align: right;\n",
       "    }\n",
       "</style>\n",
       "<table border=\"1\" class=\"dataframe\">\n",
       "  <thead>\n",
       "    <tr style=\"text-align: right;\">\n",
       "      <th></th>\n",
       "      <th>reason</th>\n",
       "    </tr>\n",
       "  </thead>\n",
       "  <tbody>\n",
       "    <tr>\n",
       "      <th>course</th>\n",
       "      <td>121</td>\n",
       "    </tr>\n",
       "    <tr>\n",
       "      <th>reputation</th>\n",
       "      <td>88</td>\n",
       "    </tr>\n",
       "    <tr>\n",
       "      <th>home</th>\n",
       "      <td>87</td>\n",
       "    </tr>\n",
       "    <tr>\n",
       "      <th>other</th>\n",
       "      <td>30</td>\n",
       "    </tr>\n",
       "  </tbody>\n",
       "</table>\n",
       "</div>"
      ],
      "text/plain": [
       "            reason\n",
       "course         121\n",
       "reputation      88\n",
       "home            87\n",
       "other           30"
      ]
     },
     "metadata": {},
     "output_type": "display_data"
    },
    {
     "data": {
      "text/plain": [
       "'Количество непустых значений = 326'"
      ]
     },
     "metadata": {},
     "output_type": "display_data"
    },
    {
     "data": {
      "text/plain": [
       "<AxesSubplot:>"
      ]
     },
     "metadata": {},
     "output_type": "display_data"
    },
    {
     "data": {
      "image/png": "[encoded data removed]",
      "text/plain": [
       "<Figure size 432x288 with 1 Axes>"
      ]
     },
     "metadata": {
      "needs_background": "light"
     },
     "output_type": "display_data"
    },
    {
     "data": {
      "image/png": "[encoded data removed]",
      "text/plain": [
       "<Figure size 432x288 with 1 Axes>"
      ]
     },
     "metadata": {
      "needs_background": "light"
     },
     "output_type": "display_data"
    }
   ],
   "source": [
    "# пропуски заменяем модой\n",
    "stud_math['reason'] = stud_math['reason'].apply(\n",
    "    lambda x: stud_math['reason'].mode()[0] if pd.isna(x) else x)\n",
    "for_obj_col('reason')"
   ]
  },
  {
   "cell_type": "markdown",
   "metadata": {},
   "source": [
    "# Причина выбора школы\n",
    "Здесь особых отличий в баллах нет. Только среднее значение у тех учеников, кто руководствовался другими причинами выбора школы, чуть ниже остальных. Не вижу информативности в этом столбце."
   ]
  },
  {
   "cell_type": "code",
   "execution_count": 414,
   "metadata": {},
   "outputs": [
    {
     "data": {
      "text/html": [
       "<div>\n",
       "<style scoped>\n",
       "    .dataframe tbody tr th:only-of-type {\n",
       "        vertical-align: middle;\n",
       "    }\n",
       "\n",
       "    .dataframe tbody tr th {\n",
       "        vertical-align: top;\n",
       "    }\n",
       "\n",
       "    .dataframe thead th {\n",
       "        text-align: right;\n",
       "    }\n",
       "</style>\n",
       "<table border=\"1\" class=\"dataframe\">\n",
       "  <thead>\n",
       "    <tr style=\"text-align: right;\">\n",
       "      <th></th>\n",
       "      <th>guardian</th>\n",
       "    </tr>\n",
       "  </thead>\n",
       "  <tbody>\n",
       "    <tr>\n",
       "      <th>mother</th>\n",
       "      <td>235</td>\n",
       "    </tr>\n",
       "    <tr>\n",
       "      <th>father</th>\n",
       "      <td>70</td>\n",
       "    </tr>\n",
       "    <tr>\n",
       "      <th>other</th>\n",
       "      <td>21</td>\n",
       "    </tr>\n",
       "  </tbody>\n",
       "</table>\n",
       "</div>"
      ],
      "text/plain": [
       "        guardian\n",
       "mother       235\n",
       "father        70\n",
       "other         21"
      ]
     },
     "metadata": {},
     "output_type": "display_data"
    },
    {
     "data": {
      "text/plain": [
       "'Количество непустых значений = 326'"
      ]
     },
     "metadata": {},
     "output_type": "display_data"
    },
    {
     "data": {
      "text/plain": [
       "<AxesSubplot:>"
      ]
     },
     "metadata": {},
     "output_type": "display_data"
    },
    {
     "data": {
      "image/png": "[encoded data removed]",
      "text/plain": [
       "<Figure size 432x288 with 1 Axes>"
      ]
     },
     "metadata": {
      "needs_background": "light"
     },
     "output_type": "display_data"
    },
    {
     "data": {
      "image/png": "[encoded data removed]",
      "text/plain": [
       "<Figure size 432x288 with 1 Axes>"
      ]
     },
     "metadata": {
      "needs_background": "light"
     },
     "output_type": "display_data"
    }
   ],
   "source": [
    "# заменяем пропуски модой\n",
    "stud_math['guardian'] = stud_math['guardian'].apply(\n",
    "    lambda x: stud_math['guardian'].mode()[0] if pd.isna(x) else x)\n",
    "for_obj_col('guardian')"
   ]
  },
  {
   "cell_type": "markdown",
   "metadata": {},
   "source": [
    "# Опекун\n",
    "Большинство опекунов - матери. Это объясняет набольший размах на графике именно у тех, у кого мама опекун. Однако баллы за экзамен в среднем одинаковы у всех. Прямой взаимосвязи с целевой переменной у этого столбца мне кажется нет. Не будем этот столбец использовать в модели."
   ]
  },
  {
   "cell_type": "code",
   "execution_count": 415,
   "metadata": {},
   "outputs": [
    {
     "data": {
      "text/html": [
       "<div>\n",
       "<style scoped>\n",
       "    .dataframe tbody tr th:only-of-type {\n",
       "        vertical-align: middle;\n",
       "    }\n",
       "\n",
       "    .dataframe tbody tr th {\n",
       "        vertical-align: top;\n",
       "    }\n",
       "\n",
       "    .dataframe thead th {\n",
       "        text-align: right;\n",
       "    }\n",
       "</style>\n",
       "<table border=\"1\" class=\"dataframe\">\n",
       "  <thead>\n",
       "    <tr style=\"text-align: right;\">\n",
       "      <th></th>\n",
       "      <th>schoolsup</th>\n",
       "    </tr>\n",
       "  </thead>\n",
       "  <tbody>\n",
       "    <tr>\n",
       "      <th>no</th>\n",
       "      <td>286</td>\n",
       "    </tr>\n",
       "    <tr>\n",
       "      <th>yes</th>\n",
       "      <td>40</td>\n",
       "    </tr>\n",
       "  </tbody>\n",
       "</table>\n",
       "</div>"
      ],
      "text/plain": [
       "     schoolsup\n",
       "no         286\n",
       "yes         40"
      ]
     },
     "metadata": {},
     "output_type": "display_data"
    },
    {
     "data": {
      "text/plain": [
       "'Количество непустых значений = 326'"
      ]
     },
     "metadata": {},
     "output_type": "display_data"
    },
    {
     "data": {
      "text/plain": [
       "<AxesSubplot:>"
      ]
     },
     "metadata": {},
     "output_type": "display_data"
    },
    {
     "data": {
      "image/png": "[encoded data removed]",
      "text/plain": [
       "<Figure size 432x288 with 1 Axes>"
      ]
     },
     "metadata": {
      "needs_background": "light"
     },
     "output_type": "display_data"
    },
    {
     "data": {
      "image/png": "[encoded data removed]",
      "text/plain": [
       "<Figure size 432x288 with 1 Axes>"
      ]
     },
     "metadata": {
      "needs_background": "light"
     },
     "output_type": "display_data"
    }
   ],
   "source": [
    "# пропуски заменим модой\n",
    "stud_math['schoolsup'] = stud_math['schoolsup'].apply(\n",
    "    lambda x: stud_math['schoolsup'].mode()[0] if pd.isna(x) else x)\n",
    "for_obj_col('schoolsup')"
   ]
  },
  {
   "cell_type": "markdown",
   "metadata": {},
   "source": [
    "# Дополнительная образовательная поддержка\n",
    "Интересный столбец, большинство учеников не имеют доп занятий и у них баллы за экзамен лучше. Можно сделать вывод что на доп занятия ходят только ученики которые слабо успевают по основной программе в школе, чтобы хоть немного наверстать. Однако как видно на экзамене это не сильно помогает. Столбец нужный, взаимосвязь с целевой переменной видна."
   ]
  },
  {
   "cell_type": "code",
   "execution_count": 416,
   "metadata": {},
   "outputs": [
    {
     "data": {
      "text/html": [
       "<div>\n",
       "<style scoped>\n",
       "    .dataframe tbody tr th:only-of-type {\n",
       "        vertical-align: middle;\n",
       "    }\n",
       "\n",
       "    .dataframe tbody tr th {\n",
       "        vertical-align: top;\n",
       "    }\n",
       "\n",
       "    .dataframe thead th {\n",
       "        text-align: right;\n",
       "    }\n",
       "</style>\n",
       "<table border=\"1\" class=\"dataframe\">\n",
       "  <thead>\n",
       "    <tr style=\"text-align: right;\">\n",
       "      <th></th>\n",
       "      <th>famsup</th>\n",
       "    </tr>\n",
       "  </thead>\n",
       "  <tbody>\n",
       "    <tr>\n",
       "      <th>yes</th>\n",
       "      <td>210</td>\n",
       "    </tr>\n",
       "    <tr>\n",
       "      <th>no</th>\n",
       "      <td>116</td>\n",
       "    </tr>\n",
       "  </tbody>\n",
       "</table>\n",
       "</div>"
      ],
      "text/plain": [
       "     famsup\n",
       "yes     210\n",
       "no      116"
      ]
     },
     "metadata": {},
     "output_type": "display_data"
    },
    {
     "data": {
      "text/plain": [
       "'Количество непустых значений = 326'"
      ]
     },
     "metadata": {},
     "output_type": "display_data"
    },
    {
     "data": {
      "text/plain": [
       "<AxesSubplot:>"
      ]
     },
     "metadata": {},
     "output_type": "display_data"
    },
    {
     "data": {
      "image/png": "[encoded data removed]",
      "text/plain": [
       "<Figure size 432x288 with 1 Axes>"
      ]
     },
     "metadata": {
      "needs_background": "light"
     },
     "output_type": "display_data"
    },
    {
     "data": {
      "image/png": "[encoded data removed]",
      "text/plain": [
       "<Figure size 432x288 with 1 Axes>"
      ]
     },
     "metadata": {
      "needs_background": "light"
     },
     "output_type": "display_data"
    }
   ],
   "source": [
    "# заполняем пропуски модой\n",
    "stud_math['famsup'] = stud_math['famsup'].apply(\n",
    "    lambda x: stud_math['famsup'].mode()[0] if pd.isna(x) else x)\n",
    "for_obj_col('famsup')"
   ]
  },
  {
   "cell_type": "markdown",
   "metadata": {},
   "source": [
    "# Семейная образовательная поддержка\n",
    "В большей части семей ученикам дома помогают, однако на итоговую оценку это влияния не оказывает. Средние показатели за экзамен в обоих случаях одинаковые, только крайние точки на графике и учеников без семейной помощи чуть шире. Прямой закономерности тут не видно, столбец учитывать не будем."
   ]
  },
  {
   "cell_type": "code",
   "execution_count": 417,
   "metadata": {},
   "outputs": [
    {
     "data": {
      "text/html": [
       "<div>\n",
       "<style scoped>\n",
       "    .dataframe tbody tr th:only-of-type {\n",
       "        vertical-align: middle;\n",
       "    }\n",
       "\n",
       "    .dataframe tbody tr th {\n",
       "        vertical-align: top;\n",
       "    }\n",
       "\n",
       "    .dataframe thead th {\n",
       "        text-align: right;\n",
       "    }\n",
       "</style>\n",
       "<table border=\"1\" class=\"dataframe\">\n",
       "  <thead>\n",
       "    <tr style=\"text-align: right;\">\n",
       "      <th></th>\n",
       "      <th>paid</th>\n",
       "    </tr>\n",
       "  </thead>\n",
       "  <tbody>\n",
       "    <tr>\n",
       "      <th>no</th>\n",
       "      <td>165</td>\n",
       "    </tr>\n",
       "    <tr>\n",
       "      <th>yes</th>\n",
       "      <td>128</td>\n",
       "    </tr>\n",
       "  </tbody>\n",
       "</table>\n",
       "</div>"
      ],
      "text/plain": [
       "     paid\n",
       "no    165\n",
       "yes   128"
      ]
     },
     "metadata": {},
     "output_type": "display_data"
    },
    {
     "data": {
      "text/plain": [
       "'Количество непустых значений = 293'"
      ]
     },
     "metadata": {},
     "output_type": "display_data"
    },
    {
     "data": {
      "text/plain": [
       "<AxesSubplot:>"
      ]
     },
     "metadata": {},
     "output_type": "display_data"
    },
    {
     "data": {
      "image/png": "[encoded data removed]",
      "text/plain": [
       "<Figure size 432x288 with 1 Axes>"
      ]
     },
     "metadata": {
      "needs_background": "light"
     },
     "output_type": "display_data"
    },
    {
     "data": {
      "image/png": "[encoded data removed]",
      "text/plain": [
       "<Figure size 432x288 with 1 Axes>"
      ]
     },
     "metadata": {
      "needs_background": "light"
     },
     "output_type": "display_data"
    }
   ],
   "source": [
    "for_obj_col('paid')"
   ]
  },
  {
   "cell_type": "markdown",
   "metadata": {},
   "source": [
    "# Дополнительные платные занятия\n",
    "Примерно равное количество тех, кто пользуется платными доп занятиями и тех кто не пользуется. Прямой зависимости тут не вижу. Средние значения у обоих групп одинаковы, а график выше расположен у тех кто не пользуется платными доп занятиями. Заполнять пропуски тут не решился, т.к. обе группы примерно равны по численности, чтобы не вносить лишнюю погрешность. Я бы данный столбец не использовал в дальнейшем, т.к. прямой корреляции нет, данный столбец скорее может вводить в заблуждение."
   ]
  },
  {
   "cell_type": "code",
   "execution_count": 418,
   "metadata": {},
   "outputs": [
    {
     "data": {
      "text/html": [
       "<div>\n",
       "<style scoped>\n",
       "    .dataframe tbody tr th:only-of-type {\n",
       "        vertical-align: middle;\n",
       "    }\n",
       "\n",
       "    .dataframe tbody tr th {\n",
       "        vertical-align: top;\n",
       "    }\n",
       "\n",
       "    .dataframe thead th {\n",
       "        text-align: right;\n",
       "    }\n",
       "</style>\n",
       "<table border=\"1\" class=\"dataframe\">\n",
       "  <thead>\n",
       "    <tr style=\"text-align: right;\">\n",
       "      <th></th>\n",
       "      <th>activities</th>\n",
       "    </tr>\n",
       "  </thead>\n",
       "  <tbody>\n",
       "    <tr>\n",
       "      <th>yes</th>\n",
       "      <td>161</td>\n",
       "    </tr>\n",
       "    <tr>\n",
       "      <th>no</th>\n",
       "      <td>153</td>\n",
       "    </tr>\n",
       "  </tbody>\n",
       "</table>\n",
       "</div>"
      ],
      "text/plain": [
       "     activities\n",
       "yes         161\n",
       "no          153"
      ]
     },
     "metadata": {},
     "output_type": "display_data"
    },
    {
     "data": {
      "text/plain": [
       "'Количество непустых значений = 314'"
      ]
     },
     "metadata": {},
     "output_type": "display_data"
    },
    {
     "data": {
      "text/plain": [
       "<AxesSubplot:>"
      ]
     },
     "metadata": {},
     "output_type": "display_data"
    },
    {
     "data": {
      "image/png": "[encoded data removed]",
      "text/plain": [
       "<Figure size 432x288 with 1 Axes>"
      ]
     },
     "metadata": {
      "needs_background": "light"
     },
     "output_type": "display_data"
    },
    {
     "data": {
      "image/png": "[encoded data removed]",
      "text/plain": [
       "<Figure size 432x288 with 1 Axes>"
      ]
     },
     "metadata": {
      "needs_background": "light"
     },
     "output_type": "display_data"
    }
   ],
   "source": [
    "for_obj_col('activities')"
   ]
  },
  {
   "cell_type": "markdown",
   "metadata": {},
   "source": [
    "# Дополнительные внеучебные занятия\n",
    "Пропусков в столбце не много, пока что не заполнял их. Обе группы учеников примерно равны. По графикам видно что показатели немного лучше у тех кто посещает внеучебные занятия, размах и межквартильный размах расположены выше, чем у тех кто не посещает. Среднее значение баллов за экзамен примерно равное."
   ]
  },
  {
   "cell_type": "code",
   "execution_count": 419,
   "metadata": {},
   "outputs": [
    {
     "data": {
      "text/html": [
       "<div>\n",
       "<style scoped>\n",
       "    .dataframe tbody tr th:only-of-type {\n",
       "        vertical-align: middle;\n",
       "    }\n",
       "\n",
       "    .dataframe tbody tr th {\n",
       "        vertical-align: top;\n",
       "    }\n",
       "\n",
       "    .dataframe thead th {\n",
       "        text-align: right;\n",
       "    }\n",
       "</style>\n",
       "<table border=\"1\" class=\"dataframe\">\n",
       "  <thead>\n",
       "    <tr style=\"text-align: right;\">\n",
       "      <th></th>\n",
       "      <th>nursery</th>\n",
       "    </tr>\n",
       "  </thead>\n",
       "  <tbody>\n",
       "    <tr>\n",
       "      <th>yes</th>\n",
       "      <td>262</td>\n",
       "    </tr>\n",
       "    <tr>\n",
       "      <th>no</th>\n",
       "      <td>64</td>\n",
       "    </tr>\n",
       "  </tbody>\n",
       "</table>\n",
       "</div>"
      ],
      "text/plain": [
       "     nursery\n",
       "yes      262\n",
       "no        64"
      ]
     },
     "metadata": {},
     "output_type": "display_data"
    },
    {
     "data": {
      "text/plain": [
       "'Количество непустых значений = 326'"
      ]
     },
     "metadata": {},
     "output_type": "display_data"
    },
    {
     "data": {
      "text/plain": [
       "<AxesSubplot:>"
      ]
     },
     "metadata": {},
     "output_type": "display_data"
    },
    {
     "data": {
      "image/png": "[encoded data removed]",
      "text/plain": [
       "<Figure size 432x288 with 1 Axes>"
      ]
     },
     "metadata": {
      "needs_background": "light"
     },
     "output_type": "display_data"
    },
    {
     "data": {
      "image/png": "[encoded data removed]",
      "text/plain": [
       "<Figure size 432x288 with 1 Axes>"
      ]
     },
     "metadata": {
      "needs_background": "light"
     },
     "output_type": "display_data"
    }
   ],
   "source": [
    "# пропуски заполним модой\n",
    "stud_math['nursery'] = stud_math['nursery'].apply(\n",
    "    lambda x: stud_math['nursery'].mode()[0] if pd.isna(x) else x)\n",
    "for_obj_col('nursery')"
   ]
  },
  {
   "cell_type": "markdown",
   "metadata": {},
   "source": [
    "# Посещал ли детский сад\n",
    "Учеников, посещавших детский сад гораздо больше. Однако явного преимущества это не дает, только межквартильный размах шире и расположен чуть выше по оси, возможно это следствие того что таких учеников просто больше. Среднее значение баллов одинаковое. Не считаю что этот столбец может оказываеть влияние на целевую переменную, я бы его не использовал."
   ]
  },
  {
   "cell_type": "code",
   "execution_count": 420,
   "metadata": {},
   "outputs": [
    {
     "data": {
      "text/html": [
       "<div>\n",
       "<style scoped>\n",
       "    .dataframe tbody tr th:only-of-type {\n",
       "        vertical-align: middle;\n",
       "    }\n",
       "\n",
       "    .dataframe tbody tr th {\n",
       "        vertical-align: top;\n",
       "    }\n",
       "\n",
       "    .dataframe thead th {\n",
       "        text-align: right;\n",
       "    }\n",
       "</style>\n",
       "<table border=\"1\" class=\"dataframe\">\n",
       "  <thead>\n",
       "    <tr style=\"text-align: right;\">\n",
       "      <th></th>\n",
       "      <th>higher</th>\n",
       "    </tr>\n",
       "  </thead>\n",
       "  <tbody>\n",
       "    <tr>\n",
       "      <th>yes</th>\n",
       "      <td>311</td>\n",
       "    </tr>\n",
       "    <tr>\n",
       "      <th>no</th>\n",
       "      <td>15</td>\n",
       "    </tr>\n",
       "  </tbody>\n",
       "</table>\n",
       "</div>"
      ],
      "text/plain": [
       "     higher\n",
       "yes     311\n",
       "no       15"
      ]
     },
     "metadata": {},
     "output_type": "display_data"
    },
    {
     "data": {
      "text/plain": [
       "'Количество непустых значений = 326'"
      ]
     },
     "metadata": {},
     "output_type": "display_data"
    },
    {
     "data": {
      "text/plain": [
       "<AxesSubplot:>"
      ]
     },
     "metadata": {},
     "output_type": "display_data"
    },
    {
     "data": {
      "image/png": "[encoded data removed]",
      "text/plain": [
       "<Figure size 432x288 with 1 Axes>"
      ]
     },
     "metadata": {
      "needs_background": "light"
     },
     "output_type": "display_data"
    },
    {
     "data": {
      "image/png": "[encoded data removed]",
      "text/plain": [
       "<Figure size 432x288 with 1 Axes>"
      ]
     },
     "metadata": {
      "needs_background": "light"
     },
     "output_type": "display_data"
    }
   ],
   "source": [
    "# пропуски заполняем модой\n",
    "stud_math['higher'] = stud_math['higher'].apply(\n",
    "    lambda x: stud_math['higher'].mode()[0] if pd.isna(x) else x)\n",
    "for_obj_col('higher')"
   ]
  },
  {
   "cell_type": "markdown",
   "metadata": {},
   "source": [
    "# Стремится ли к высшему образованию\n",
    "Как видим большинство учеников стремятся получить высшее образование. Результат их желаний виден в итоговом экзамене, их результаты значительно выше, чем у тех кто не хочет получать высшее образование. Столбец имеет прямую взимосвязь с целевой переменной, его оставляем."
   ]
  },
  {
   "cell_type": "code",
   "execution_count": 421,
   "metadata": {},
   "outputs": [
    {
     "data": {
      "text/html": [
       "<div>\n",
       "<style scoped>\n",
       "    .dataframe tbody tr th:only-of-type {\n",
       "        vertical-align: middle;\n",
       "    }\n",
       "\n",
       "    .dataframe tbody tr th {\n",
       "        vertical-align: top;\n",
       "    }\n",
       "\n",
       "    .dataframe thead th {\n",
       "        text-align: right;\n",
       "    }\n",
       "</style>\n",
       "<table border=\"1\" class=\"dataframe\">\n",
       "  <thead>\n",
       "    <tr style=\"text-align: right;\">\n",
       "      <th></th>\n",
       "      <th>internet</th>\n",
       "    </tr>\n",
       "  </thead>\n",
       "  <tbody>\n",
       "    <tr>\n",
       "      <th>yes</th>\n",
       "      <td>278</td>\n",
       "    </tr>\n",
       "    <tr>\n",
       "      <th>no</th>\n",
       "      <td>48</td>\n",
       "    </tr>\n",
       "  </tbody>\n",
       "</table>\n",
       "</div>"
      ],
      "text/plain": [
       "     internet\n",
       "yes       278\n",
       "no         48"
      ]
     },
     "metadata": {},
     "output_type": "display_data"
    },
    {
     "data": {
      "text/plain": [
       "'Количество непустых значений = 326'"
      ]
     },
     "metadata": {},
     "output_type": "display_data"
    },
    {
     "data": {
      "text/plain": [
       "<AxesSubplot:>"
      ]
     },
     "metadata": {},
     "output_type": "display_data"
    },
    {
     "data": {
      "image/png": "[encoded data removed]",
      "text/plain": [
       "<Figure size 432x288 with 1 Axes>"
      ]
     },
     "metadata": {
      "needs_background": "light"
     },
     "output_type": "display_data"
    },
    {
     "data": {
      "image/png": "[encoded data removed]",
      "text/plain": [
       "<Figure size 432x288 with 1 Axes>"
      ]
     },
     "metadata": {
      "needs_background": "light"
     },
     "output_type": "display_data"
    }
   ],
   "source": [
    "# заполняем пропуски модой\n",
    "stud_math['internet'] = stud_math['internet'].apply(\n",
    "    lambda x: stud_math['internet'].mode()[0] if pd.isna(x) else x)\n",
    "for_obj_col('internet')"
   ]
  },
  {
   "cell_type": "markdown",
   "metadata": {},
   "source": [
    "# Наличие интернета дома\n",
    "У большинства интернет дома есть. Те ученики, у кого интернета нет в среднем учатся не плохо, однако высоких баллов за экзамен не имеют. Столбец думаю будет полезен в будущей модели. Сложно быть отличником без интернета."
   ]
  },
  {
   "cell_type": "code",
   "execution_count": 422,
   "metadata": {},
   "outputs": [
    {
     "data": {
      "text/html": [
       "<div>\n",
       "<style scoped>\n",
       "    .dataframe tbody tr th:only-of-type {\n",
       "        vertical-align: middle;\n",
       "    }\n",
       "\n",
       "    .dataframe tbody tr th {\n",
       "        vertical-align: top;\n",
       "    }\n",
       "\n",
       "    .dataframe thead th {\n",
       "        text-align: right;\n",
       "    }\n",
       "</style>\n",
       "<table border=\"1\" class=\"dataframe\">\n",
       "  <thead>\n",
       "    <tr style=\"text-align: right;\">\n",
       "      <th></th>\n",
       "      <th>romantic</th>\n",
       "    </tr>\n",
       "  </thead>\n",
       "  <tbody>\n",
       "    <tr>\n",
       "      <th>no</th>\n",
       "      <td>224</td>\n",
       "    </tr>\n",
       "    <tr>\n",
       "      <th>yes</th>\n",
       "      <td>102</td>\n",
       "    </tr>\n",
       "  </tbody>\n",
       "</table>\n",
       "</div>"
      ],
      "text/plain": [
       "     romantic\n",
       "no        224\n",
       "yes       102"
      ]
     },
     "metadata": {},
     "output_type": "display_data"
    },
    {
     "data": {
      "text/plain": [
       "'Количество непустых значений = 326'"
      ]
     },
     "metadata": {},
     "output_type": "display_data"
    },
    {
     "data": {
      "text/plain": [
       "<AxesSubplot:>"
      ]
     },
     "metadata": {},
     "output_type": "display_data"
    },
    {
     "data": {
      "image/png": "[encoded data removed]",
      "text/plain": [
       "<Figure size 432x288 with 1 Axes>"
      ]
     },
     "metadata": {
      "needs_background": "light"
     },
     "output_type": "display_data"
    },
    {
     "data": {
      "image/png": "[encoded data removed]",
      "text/plain": [
       "<Figure size 432x288 with 1 Axes>"
      ]
     },
     "metadata": {
      "needs_background": "light"
     },
     "output_type": "display_data"
    }
   ],
   "source": [
    "# пропуски заполняем модой\n",
    "stud_math['romantic'] = stud_math['romantic'].apply(\n",
    "    lambda x: stud_math['romantic'].mode()[0] if pd.isna(x) else x)\n",
    "for_obj_col('romantic')"
   ]
  },
  {
   "cell_type": "markdown",
   "metadata": {},
   "source": [
    "# Находится ли в романтических отношениях\n",
    "Ученики не находящиеся в отношениях имеют чуть более высокие баллы, размах и межквартильный размах расположены выше по оси баллов. Среднее значение у обоих групп одинаково. Как видно, влюбленность все таки немного мешает учиться, отсюда и хуже график у тех кто влюблен. Данный столбец можно оставить, корреляция в нем с нашей переменной есть."
   ]
  },
  {
   "cell_type": "markdown",
   "metadata": {},
   "source": [
    "# Вывод по номинативным столбцам\n",
    "Столбцы, в которых вывляена взаимосвязь с целевой переменной score : school, sex, address, Mjob, Fjob, schoolsup, activities, higher, internet, romantic."
   ]
  },
  {
   "cell_type": "markdown",
   "metadata": {},
   "source": [
    "# Построение boxplot графиков для числовых столбцов\n",
    "Теперь попробуем посмотреть на числовые столбцы, у которых не было высокой корреляции с нашим целевым столбцом score, на графиках boxplot. Может получится выявить что-то полезное."
   ]
  },
  {
   "cell_type": "code",
   "execution_count": 423,
   "metadata": {},
   "outputs": [
    {
     "data": {
      "image/png": "[encoded data removed]",
      "text/plain": [
       "<Figure size 432x288 with 1 Axes>"
      ]
     },
     "metadata": {
      "needs_background": "light"
     },
     "output_type": "display_data"
    },
    {
     "data": {
      "image/png": "[encoded data removed]",
      "text/plain": [
       "<Figure size 432x288 with 1 Axes>"
      ]
     },
     "metadata": {
      "needs_background": "light"
     },
     "output_type": "display_data"
    },
    {
     "data": {
      "image/png": "[encoded data removed]",
      "text/plain": [
       "<Figure size 432x288 with 1 Axes>"
      ]
     },
     "metadata": {
      "needs_background": "light"
     },
     "output_type": "display_data"
    },
    {
     "data": {
      "image/png": "[encoded data removed]",
      "text/plain": [
       "<Figure size 432x288 with 1 Axes>"
      ]
     },
     "metadata": {
      "needs_background": "light"
     },
     "output_type": "display_data"
    },
    {
     "data": {
      "image/png": "[encoded data removed]",
      "text/plain": [
       "<Figure size 432x288 with 1 Axes>"
      ]
     },
     "metadata": {
      "needs_background": "light"
     },
     "output_type": "display_data"
    }
   ],
   "source": [
    "cols_for_box = ['traveltime', 'famrel', 'freetime', 'health', 'absences']\n",
    "for col in cols_for_box:\n",
    "    boxplt(col)"
   ]
  },
  {
   "cell_type": "markdown",
   "metadata": {},
   "source": [
    "# Вывод по графикам boxplot для слабокореелирующих числовых столбцов\n",
    "Из 5 рассмотенных столбцов вижу смысл оставть только 1, столбец свободного времени после школы (freetime), т.к. есть интересная закономерность, что лучше всего сдают экзамен либо ученики у которых его в меру мало (а значит дома. либо на доп занятиях усердно занимаются), либо наоборот очень много (скорее всего у способных учеников, которым достаточно времени в школе чтобы все понять и разобраться). Востальных столбцах интересных особенностей или прямых зависимостей не обнаружено."
   ]
  },
  {
   "cell_type": "markdown",
   "metadata": {},
   "source": [
    "# Итоговый вывод\n",
    "## В результате EDA для анализа влияния различных характеристик учеников на их итоговую оценку по экзамену по математике были получены следующие выводы:\n",
    "1. В данных достаточно мало пропусков, они были в некоторых столбцах и до 10% от общего числа данных в столбце\n",
    "2. Выбросы были лишь единичные в некоторых столбцах, и некоторые в целевом score, которые сразу пришлось удалить\n",
    "3. Один столбец studytime, granular был представлен без пояснения значений в нем, я для себя не определил что он означает, так что в своей модели бы не использовал его. Однако он имеет положительную корреляцию с целевой переменной, так что для кого-то может быть полезен.\n",
    "4. Корреляционный анализ показал что наибольшая прямая корреляция у целевой переменной score - с образованием матери Medu, а обратная корреляция наибольшая с возрастом age и провалами failures, т.е. чем младше ученик и меньше косячит вне учебного процесса, тем лучше сдает экзамен.\n",
    "5. По номинативным переменным из явных закономерностей это: стремление ученика к высшему образованию higher, и профессии родителей Mjob и Fjob имеют наибольшее явное влияние на итоговый балл за экзамен.\n",
    "6. В целом для построения будущей модели я выбрал следующие параметры: age, Medu, Fedu, studytime, failures, goout, school, sex, address, Mjob, Fjob, schoolsup, activities, higher, internet, romantic.\n",
    "\n"
   ]
  },
  {
   "cell_type": "code",
   "execution_count": 425,
   "metadata": {},
   "outputs": [
    {
     "data": {
      "text/html": [
       "<div>\n",
       "<style scoped>\n",
       "    .dataframe tbody tr th:only-of-type {\n",
       "        vertical-align: middle;\n",
       "    }\n",
       "\n",
       "    .dataframe tbody tr th {\n",
       "        vertical-align: top;\n",
       "    }\n",
       "\n",
       "    .dataframe thead th {\n",
       "        text-align: right;\n",
       "    }\n",
       "</style>\n",
       "<table border=\"1\" class=\"dataframe\">\n",
       "  <thead>\n",
       "    <tr style=\"text-align: right;\">\n",
       "      <th></th>\n",
       "      <th>age</th>\n",
       "      <th>Medu</th>\n",
       "      <th>Fedu</th>\n",
       "      <th>studytime</th>\n",
       "      <th>failures</th>\n",
       "      <th>goout</th>\n",
       "      <th>school</th>\n",
       "      <th>sex</th>\n",
       "      <th>address</th>\n",
       "      <th>Mjob</th>\n",
       "      <th>Fjob</th>\n",
       "      <th>schoolsup</th>\n",
       "      <th>activities</th>\n",
       "      <th>higher</th>\n",
       "      <th>internet</th>\n",
       "      <th>romantic</th>\n",
       "      <th>score</th>\n",
       "    </tr>\n",
       "  </thead>\n",
       "  <tbody>\n",
       "    <tr>\n",
       "      <th>0</th>\n",
       "      <td>18</td>\n",
       "      <td>4.0</td>\n",
       "      <td>4.0</td>\n",
       "      <td>2.0</td>\n",
       "      <td>0.0</td>\n",
       "      <td>4.0</td>\n",
       "      <td>GP</td>\n",
       "      <td>F</td>\n",
       "      <td>U</td>\n",
       "      <td>at_home</td>\n",
       "      <td>teacher</td>\n",
       "      <td>yes</td>\n",
       "      <td>no</td>\n",
       "      <td>yes</td>\n",
       "      <td>yes</td>\n",
       "      <td>no</td>\n",
       "      <td>30.0</td>\n",
       "    </tr>\n",
       "    <tr>\n",
       "      <th>1</th>\n",
       "      <td>17</td>\n",
       "      <td>1.0</td>\n",
       "      <td>1.0</td>\n",
       "      <td>2.0</td>\n",
       "      <td>0.0</td>\n",
       "      <td>3.0</td>\n",
       "      <td>GP</td>\n",
       "      <td>F</td>\n",
       "      <td>U</td>\n",
       "      <td>at_home</td>\n",
       "      <td>other</td>\n",
       "      <td>no</td>\n",
       "      <td>no</td>\n",
       "      <td>yes</td>\n",
       "      <td>yes</td>\n",
       "      <td>no</td>\n",
       "      <td>30.0</td>\n",
       "    </tr>\n",
       "    <tr>\n",
       "      <th>2</th>\n",
       "      <td>15</td>\n",
       "      <td>1.0</td>\n",
       "      <td>1.0</td>\n",
       "      <td>2.0</td>\n",
       "      <td>3.0</td>\n",
       "      <td>2.0</td>\n",
       "      <td>GP</td>\n",
       "      <td>F</td>\n",
       "      <td>U</td>\n",
       "      <td>at_home</td>\n",
       "      <td>other</td>\n",
       "      <td>yes</td>\n",
       "      <td>no</td>\n",
       "      <td>yes</td>\n",
       "      <td>yes</td>\n",
       "      <td>no</td>\n",
       "      <td>50.0</td>\n",
       "    </tr>\n",
       "    <tr>\n",
       "      <th>3</th>\n",
       "      <td>15</td>\n",
       "      <td>4.0</td>\n",
       "      <td>2.0</td>\n",
       "      <td>3.0</td>\n",
       "      <td>0.0</td>\n",
       "      <td>2.0</td>\n",
       "      <td>GP</td>\n",
       "      <td>F</td>\n",
       "      <td>U</td>\n",
       "      <td>health</td>\n",
       "      <td>other</td>\n",
       "      <td>no</td>\n",
       "      <td>yes</td>\n",
       "      <td>yes</td>\n",
       "      <td>yes</td>\n",
       "      <td>yes</td>\n",
       "      <td>75.0</td>\n",
       "    </tr>\n",
       "    <tr>\n",
       "      <th>4</th>\n",
       "      <td>16</td>\n",
       "      <td>3.0</td>\n",
       "      <td>3.0</td>\n",
       "      <td>2.0</td>\n",
       "      <td>0.0</td>\n",
       "      <td>2.0</td>\n",
       "      <td>GP</td>\n",
       "      <td>F</td>\n",
       "      <td>U</td>\n",
       "      <td>other</td>\n",
       "      <td>other</td>\n",
       "      <td>no</td>\n",
       "      <td>no</td>\n",
       "      <td>yes</td>\n",
       "      <td>no</td>\n",
       "      <td>no</td>\n",
       "      <td>50.0</td>\n",
       "    </tr>\n",
       "    <tr>\n",
       "      <th>...</th>\n",
       "      <td>...</td>\n",
       "      <td>...</td>\n",
       "      <td>...</td>\n",
       "      <td>...</td>\n",
       "      <td>...</td>\n",
       "      <td>...</td>\n",
       "      <td>...</td>\n",
       "      <td>...</td>\n",
       "      <td>...</td>\n",
       "      <td>...</td>\n",
       "      <td>...</td>\n",
       "      <td>...</td>\n",
       "      <td>...</td>\n",
       "      <td>...</td>\n",
       "      <td>...</td>\n",
       "      <td>...</td>\n",
       "      <td>...</td>\n",
       "    </tr>\n",
       "    <tr>\n",
       "      <th>389</th>\n",
       "      <td>18</td>\n",
       "      <td>1.0</td>\n",
       "      <td>1.0</td>\n",
       "      <td>2.0</td>\n",
       "      <td>1.0</td>\n",
       "      <td>1.0</td>\n",
       "      <td>MS</td>\n",
       "      <td>F</td>\n",
       "      <td>U</td>\n",
       "      <td>other</td>\n",
       "      <td>other</td>\n",
       "      <td>no</td>\n",
       "      <td>yes</td>\n",
       "      <td>yes</td>\n",
       "      <td>yes</td>\n",
       "      <td>no</td>\n",
       "      <td>0.0</td>\n",
       "    </tr>\n",
       "    <tr>\n",
       "      <th>391</th>\n",
       "      <td>17</td>\n",
       "      <td>3.0</td>\n",
       "      <td>1.0</td>\n",
       "      <td>1.0</td>\n",
       "      <td>0.0</td>\n",
       "      <td>5.0</td>\n",
       "      <td>MS</td>\n",
       "      <td>M</td>\n",
       "      <td>U</td>\n",
       "      <td>services</td>\n",
       "      <td>services</td>\n",
       "      <td>no</td>\n",
       "      <td>no</td>\n",
       "      <td>yes</td>\n",
       "      <td>yes</td>\n",
       "      <td>no</td>\n",
       "      <td>80.0</td>\n",
       "    </tr>\n",
       "    <tr>\n",
       "      <th>392</th>\n",
       "      <td>21</td>\n",
       "      <td>1.0</td>\n",
       "      <td>1.0</td>\n",
       "      <td>1.0</td>\n",
       "      <td>3.0</td>\n",
       "      <td>3.0</td>\n",
       "      <td>MS</td>\n",
       "      <td>M</td>\n",
       "      <td>R</td>\n",
       "      <td>other</td>\n",
       "      <td>other</td>\n",
       "      <td>no</td>\n",
       "      <td>no</td>\n",
       "      <td>yes</td>\n",
       "      <td>no</td>\n",
       "      <td>no</td>\n",
       "      <td>35.0</td>\n",
       "    </tr>\n",
       "    <tr>\n",
       "      <th>393</th>\n",
       "      <td>18</td>\n",
       "      <td>3.0</td>\n",
       "      <td>2.0</td>\n",
       "      <td>1.0</td>\n",
       "      <td>0.0</td>\n",
       "      <td>1.0</td>\n",
       "      <td>MS</td>\n",
       "      <td>M</td>\n",
       "      <td>R</td>\n",
       "      <td>services</td>\n",
       "      <td>other</td>\n",
       "      <td>no</td>\n",
       "      <td>NaN</td>\n",
       "      <td>yes</td>\n",
       "      <td>yes</td>\n",
       "      <td>no</td>\n",
       "      <td>50.0</td>\n",
       "    </tr>\n",
       "    <tr>\n",
       "      <th>394</th>\n",
       "      <td>19</td>\n",
       "      <td>1.0</td>\n",
       "      <td>1.0</td>\n",
       "      <td>1.0</td>\n",
       "      <td>0.0</td>\n",
       "      <td>3.0</td>\n",
       "      <td>MS</td>\n",
       "      <td>M</td>\n",
       "      <td>U</td>\n",
       "      <td>other</td>\n",
       "      <td>at_home</td>\n",
       "      <td>no</td>\n",
       "      <td>no</td>\n",
       "      <td>yes</td>\n",
       "      <td>yes</td>\n",
       "      <td>no</td>\n",
       "      <td>45.0</td>\n",
       "    </tr>\n",
       "  </tbody>\n",
       "</table>\n",
       "<p>326 rows × 17 columns</p>\n",
       "</div>"
      ],
      "text/plain": [
       "     age  Medu  Fedu  studytime  failures  goout school sex address      Mjob  \\\n",
       "0     18   4.0   4.0        2.0       0.0    4.0     GP   F       U   at_home   \n",
       "1     17   1.0   1.0        2.0       0.0    3.0     GP   F       U   at_home   \n",
       "2     15   1.0   1.0        2.0       3.0    2.0     GP   F       U   at_home   \n",
       "3     15   4.0   2.0        3.0       0.0    2.0     GP   F       U    health   \n",
       "4     16   3.0   3.0        2.0       0.0    2.0     GP   F       U     other   \n",
       "..   ...   ...   ...        ...       ...    ...    ...  ..     ...       ...   \n",
       "389   18   1.0   1.0        2.0       1.0    1.0     MS   F       U     other   \n",
       "391   17   3.0   1.0        1.0       0.0    5.0     MS   M       U  services   \n",
       "392   21   1.0   1.0        1.0       3.0    3.0     MS   M       R     other   \n",
       "393   18   3.0   2.0        1.0       0.0    1.0     MS   M       R  services   \n",
       "394   19   1.0   1.0        1.0       0.0    3.0     MS   M       U     other   \n",
       "\n",
       "         Fjob schoolsup activities higher internet romantic  score  \n",
       "0     teacher       yes         no    yes      yes       no   30.0  \n",
       "1       other        no         no    yes      yes       no   30.0  \n",
       "2       other       yes         no    yes      yes       no   50.0  \n",
       "3       other        no        yes    yes      yes      yes   75.0  \n",
       "4       other        no         no    yes       no       no   50.0  \n",
       "..        ...       ...        ...    ...      ...      ...    ...  \n",
       "389     other        no        yes    yes      yes       no    0.0  \n",
       "391  services        no         no    yes      yes       no   80.0  \n",
       "392     other        no         no    yes       no       no   35.0  \n",
       "393     other        no        NaN    yes      yes       no   50.0  \n",
       "394   at_home        no         no    yes      yes       no   45.0  \n",
       "\n",
       "[326 rows x 17 columns]"
      ]
     },
     "metadata": {},
     "output_type": "display_data"
    }
   ],
   "source": [
    "for_model = stud_math.loc[:, ['age', 'Medu', 'Fedu', 'studytime', 'failures', 'goout', 'school', 'sex', 'address', 'Mjob', 'Fjob', 'schoolsup', 'activities', 'higher', 'internet', 'romantic', 'score']]\n",
    "display(for_model)"
   ]
  },
  {
   "cell_type": "code",
   "execution_count": null,
   "metadata": {},
   "outputs": [],
   "source": []
  },
  {
   "cell_type": "code",
   "execution_count": null,
   "metadata": {},
   "outputs": [],
   "source": []
  },
  {
   "cell_type": "code",
   "execution_count": null,
   "metadata": {},
   "outputs": [],
   "source": []
  }
 ],
 "metadata": {
  "kernelspec": {
   "display_name": "Python 3",
   "language": "python",
   "name": "python3"
  },
  "language_info": {
   "codemirror_mode": {
    "name": "ipython",
    "version": 3
   },
   "file_extension": ".py",
   "mimetype": "text/x-python",
   "name": "python",
   "nbconvert_exporter": "python",
   "pygments_lexer": "ipython3",
   "version": "3.8.5"
  }
 },
 "nbformat": 4,
 "nbformat_minor": 4
}
